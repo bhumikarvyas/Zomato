{
  "nbformat": 4,
  "nbformat_minor": 0,
  "metadata": {
    "colab": {
      "name": "Zomato_project.ipynb",
      "provenance": [],
      "collapsed_sections": [],
      "mount_file_id": "1jham_7czlnbGRzaT-8JgGOYlWSnTif3j",
      "authorship_tag": "ABX9TyPm2MslMB5BMyWIaNFWWjrg",
      "include_colab_link": true
    },
    "kernelspec": {
      "name": "python3",
      "display_name": "Python 3"
    }
  },
  "cells": [
    {
      "cell_type": "markdown",
      "metadata": {
        "id": "view-in-github",
        "colab_type": "text"
      },
      "source": [
        "<a href=\"https://colab.research.google.com/github/bhumikarvyas/Zomato/blob/master/Zomato_project.ipynb\" target=\"_parent\"><img src=\"https://colab.research.google.com/assets/colab-badge.svg\" alt=\"Open In Colab\"/></a>"
      ]
    },
    {
      "cell_type": "code",
      "metadata": {
        "id": "zd_knOVi7RJQ",
        "colab_type": "code",
        "colab": {
          "base_uri": "https://localhost:8080/",
          "height": 252
        },
        "outputId": "ce55f86f-e54a-413f-f792-1c7f9229d797"
      },
      "source": [
        "!pip install PyDrive"
      ],
      "execution_count": null,
      "outputs": [
        {
          "output_type": "stream",
          "text": [
            "Requirement already satisfied: PyDrive in /usr/local/lib/python3.6/dist-packages (1.3.1)\n",
            "Requirement already satisfied: google-api-python-client>=1.2 in /usr/local/lib/python3.6/dist-packages (from PyDrive) (1.7.12)\n",
            "Requirement already satisfied: oauth2client>=4.0.0 in /usr/local/lib/python3.6/dist-packages (from PyDrive) (4.1.3)\n",
            "Requirement already satisfied: PyYAML>=3.0 in /usr/local/lib/python3.6/dist-packages (from PyDrive) (3.13)\n",
            "Requirement already satisfied: uritemplate<4dev,>=3.0.0 in /usr/local/lib/python3.6/dist-packages (from google-api-python-client>=1.2->PyDrive) (3.0.1)\n",
            "Requirement already satisfied: httplib2<1dev,>=0.17.0 in /usr/local/lib/python3.6/dist-packages (from google-api-python-client>=1.2->PyDrive) (0.17.4)\n",
            "Requirement already satisfied: six<2dev,>=1.6.1 in /usr/local/lib/python3.6/dist-packages (from google-api-python-client>=1.2->PyDrive) (1.12.0)\n",
            "Requirement already satisfied: google-auth-httplib2>=0.0.3 in /usr/local/lib/python3.6/dist-packages (from google-api-python-client>=1.2->PyDrive) (0.0.3)\n",
            "Requirement already satisfied: google-auth>=1.4.1 in /usr/local/lib/python3.6/dist-packages (from google-api-python-client>=1.2->PyDrive) (1.17.2)\n",
            "Requirement already satisfied: pyasn1>=0.1.7 in /usr/local/lib/python3.6/dist-packages (from oauth2client>=4.0.0->PyDrive) (0.4.8)\n",
            "Requirement already satisfied: pyasn1-modules>=0.0.5 in /usr/local/lib/python3.6/dist-packages (from oauth2client>=4.0.0->PyDrive) (0.2.8)\n",
            "Requirement already satisfied: rsa>=3.1.4 in /usr/local/lib/python3.6/dist-packages (from oauth2client>=4.0.0->PyDrive) (4.6)\n",
            "Requirement already satisfied: setuptools>=40.3.0 in /usr/local/lib/python3.6/dist-packages (from google-auth>=1.4.1->google-api-python-client>=1.2->PyDrive) (47.3.1)\n",
            "Requirement already satisfied: cachetools<5.0,>=2.0.0 in /usr/local/lib/python3.6/dist-packages (from google-auth>=1.4.1->google-api-python-client>=1.2->PyDrive) (4.1.0)\n"
          ],
          "name": "stdout"
        }
      ]
    },
    {
      "cell_type": "code",
      "metadata": {
        "id": "rx66L3DO7_uX",
        "colab_type": "code",
        "colab": {}
      },
      "source": [
        "from pydrive.auth import GoogleAuth\n",
        "from pydrive.drive import GoogleDrive\n",
        "from google.colab import auth\n",
        "from oauth2client.client import GoogleCredentials"
      ],
      "execution_count": null,
      "outputs": []
    },
    {
      "cell_type": "code",
      "metadata": {
        "id": "wIr85FjfFDoC",
        "colab_type": "code",
        "colab": {}
      },
      "source": [
        "# 1. Authenticate and create the PyDrive client.\n",
        "auth.authenticate_user()\n",
        "gauth = GoogleAuth()\n",
        "gauth.credentials = GoogleCredentials.get_application_default()\n",
        "drive = GoogleDrive(gauth)"
      ],
      "execution_count": null,
      "outputs": []
    },
    {
      "cell_type": "code",
      "metadata": {
        "id": "n1xVG09PF4Vh",
        "colab_type": "code",
        "colab": {}
      },
      "source": [
        "#2. Get the file\n",
        "downloaded = drive.CreateFile({'id':\"1ZkzKUwL193j3HFuFSH24UiEuA4s9wQv_\"})   # replace the id with id of file you want to access\n",
        "downloaded.GetContentFile('zomato_data.csv')"
      ],
      "execution_count": null,
      "outputs": []
    },
    {
      "cell_type": "code",
      "metadata": {
        "id": "3loWProBHgz1",
        "colab_type": "code",
        "colab": {
          "base_uri": "https://localhost:8080/",
          "height": 54
        },
        "outputId": "2515f285-19a9-46e6-e67d-b8820b8dc057"
      },
      "source": [
        "downloaded"
      ],
      "execution_count": null,
      "outputs": [
        {
          "output_type": "execute_result",
          "data": {
            "text/plain": [
              "GoogleDriveFile({'id': '1ZkzKUwL193j3HFuFSH24UiEuA4s9wQv_', 'kind': 'drive#file', 'etag': '\"MTU5MjIyNDI3ODAwMA\"', 'selfLink': 'https://www.googleapis.com/drive/v2/files/1ZkzKUwL193j3HFuFSH24UiEuA4s9wQv_', 'webContentLink': 'https://drive.google.com/uc?id=1ZkzKUwL193j3HFuFSH24UiEuA4s9wQv_&export=download', 'alternateLink': 'https://drive.google.com/file/d/1ZkzKUwL193j3HFuFSH24UiEuA4s9wQv_/view?usp=drivesdk', 'embedLink': 'https://drive.google.com/file/d/1ZkzKUwL193j3HFuFSH24UiEuA4s9wQv_/preview?usp=drivesdk', 'iconLink': 'https://drive-thirdparty.googleusercontent.com/16/type/text/csv', 'title': '11-6-Dataset-Ranking of Restaurants.csv', 'mimeType': 'text/csv', 'labels': {'starred': True, 'hidden': False, 'trashed': False, 'restricted': False, 'viewed': True}, 'copyRequiresWriterPermission': False, 'createdDate': '2020-06-28T05:08:16.427Z', 'modifiedDate': '2020-06-15T12:31:18.000Z', 'lastViewedByMeDate': '2020-06-30T14:48:01.605Z', 'markedViewedByMeDate': '1970-01-01T00:00:00.000Z', 'version': '51', 'parents': [{'kind': 'drive#parentReference', 'id': '1jm5iuH6UTHangkRarvk5ORG6otxemym9', 'selfLink': 'https://www.googleapis.com/drive/v2/files/1ZkzKUwL193j3HFuFSH24UiEuA4s9wQv_/parents/1jm5iuH6UTHangkRarvk5ORG6otxemym9', 'parentLink': 'https://www.googleapis.com/drive/v2/files/1jm5iuH6UTHangkRarvk5ORG6otxemym9', 'isRoot': False}], 'downloadUrl': 'https://www.googleapis.com/drive/v2/files/1ZkzKUwL193j3HFuFSH24UiEuA4s9wQv_?alt=media&source=downloadUrl', 'userPermission': {'kind': 'drive#permission', 'etag': '\"TBIyjfSN-5rGy70olAqR1ShP55s\"', 'id': 'me', 'selfLink': 'https://www.googleapis.com/drive/v2/files/1ZkzKUwL193j3HFuFSH24UiEuA4s9wQv_/permissions/me', 'role': 'reader', 'type': 'user'}, 'originalFilename': '11-6-Dataset-Ranking of Restaurants.csv', 'fileExtension': 'csv', 'md5Checksum': '6c2fdec471804ac35f5f83ecc1a84001', 'fileSize': '574072999', 'quotaBytesUsed': '0', 'ownerNames': ['ramchandra tiwari'], 'owners': [{'kind': 'drive#user', 'displayName': 'ramchandra tiwari', 'isAuthenticatedUser': False, 'permissionId': '02651241644487632536', 'emailAddress': 'cognifront.nashik@gmail.com'}], 'lastModifyingUserName': 'ramchandra tiwari', 'lastModifyingUser': {'kind': 'drive#user', 'displayName': 'ramchandra tiwari', 'isAuthenticatedUser': False, 'permissionId': '02651241644487632536', 'emailAddress': 'cognifront.nashik@gmail.com'}, 'capabilities': {'canCopy': True, 'canEdit': False}, 'editable': False, 'copyable': True, 'writersCanShare': True, 'shared': True, 'explicitlyTrashed': False, 'appDataContents': False, 'headRevisionId': '0BxEyrNVCo2OOaUlzR3B4K1Z0SGc1RGJoaUVDLzkxMUxmRnpjPQ', 'spaces': ['drive']})"
            ]
          },
          "metadata": {
            "tags": []
          },
          "execution_count": 5
        }
      ]
    },
    {
      "cell_type": "code",
      "metadata": {
        "id": "TQj2eDOwHsqs",
        "colab_type": "code",
        "colab": {
          "base_uri": "https://localhost:8080/",
          "height": 70
        },
        "outputId": "d6c12976-f1e2-4348-e9b9-3e630b6ef231"
      },
      "source": [
        "#Read file as panda dataframe\n",
        "import pandas as pd\n",
        "import numpy as np\n",
        "import matplotlib.pyplot as plt\n",
        "import seaborn as sns\n",
        "import warnings\n",
        "warnings.filterwarnings(\"ignore\")"
      ],
      "execution_count": null,
      "outputs": [
        {
          "output_type": "stream",
          "text": [
            "/usr/local/lib/python3.6/dist-packages/statsmodels/tools/_testing.py:19: FutureWarning: pandas.util.testing is deprecated. Use the functions in the public API at pandas.testing instead.\n",
            "  import pandas.util.testing as tm\n"
          ],
          "name": "stderr"
        }
      ]
    },
    {
      "cell_type": "code",
      "metadata": {
        "id": "D5OKhemraB54",
        "colab_type": "code",
        "colab": {}
      },
      "source": [
        "data = pd.read_csv('zomato_data.csv') "
      ],
      "execution_count": null,
      "outputs": []
    },
    {
      "cell_type": "code",
      "metadata": {
        "id": "qr6J7VlQH7-4",
        "colab_type": "code",
        "colab": {
          "base_uri": "https://localhost:8080/",
          "height": 585
        },
        "outputId": "3004c61d-e4dd-4530-dd77-12d05a01f812"
      },
      "source": [
        "data.head()"
      ],
      "execution_count": null,
      "outputs": [
        {
          "output_type": "execute_result",
          "data": {
            "text/html": [
              "<div>\n",
              "<style scoped>\n",
              "    .dataframe tbody tr th:only-of-type {\n",
              "        vertical-align: middle;\n",
              "    }\n",
              "\n",
              "    .dataframe tbody tr th {\n",
              "        vertical-align: top;\n",
              "    }\n",
              "\n",
              "    .dataframe thead th {\n",
              "        text-align: right;\n",
              "    }\n",
              "</style>\n",
              "<table border=\"1\" class=\"dataframe\">\n",
              "  <thead>\n",
              "    <tr style=\"text-align: right;\">\n",
              "      <th></th>\n",
              "      <th>url</th>\n",
              "      <th>address</th>\n",
              "      <th>name</th>\n",
              "      <th>online_order</th>\n",
              "      <th>book_table</th>\n",
              "      <th>rate</th>\n",
              "      <th>votes</th>\n",
              "      <th>phone</th>\n",
              "      <th>location</th>\n",
              "      <th>rest_type</th>\n",
              "      <th>dish_liked</th>\n",
              "      <th>cuisines</th>\n",
              "      <th>approx_cost(for two people)</th>\n",
              "      <th>reviews_list</th>\n",
              "      <th>menu_item</th>\n",
              "      <th>listed_in(type)</th>\n",
              "      <th>listed_in(city)</th>\n",
              "    </tr>\n",
              "  </thead>\n",
              "  <tbody>\n",
              "    <tr>\n",
              "      <th>0</th>\n",
              "      <td>https://www.zomato.com/bangalore/jalsa-banasha...</td>\n",
              "      <td>942, 21st Main Road, 2nd Stage, Banashankari, ...</td>\n",
              "      <td>Jalsa</td>\n",
              "      <td>Yes</td>\n",
              "      <td>Yes</td>\n",
              "      <td>4.1/5</td>\n",
              "      <td>775</td>\n",
              "      <td>080 42297555\\r\\n+91 9743772233</td>\n",
              "      <td>Banashankari</td>\n",
              "      <td>Casual Dining</td>\n",
              "      <td>Pasta, Lunch Buffet, Masala Papad, Paneer Laja...</td>\n",
              "      <td>North Indian, Mughlai, Chinese</td>\n",
              "      <td>800</td>\n",
              "      <td>[('Rated 4.0', 'RATED\\n  A beautiful place to ...</td>\n",
              "      <td>[]</td>\n",
              "      <td>Buffet</td>\n",
              "      <td>Banashankari</td>\n",
              "    </tr>\n",
              "    <tr>\n",
              "      <th>1</th>\n",
              "      <td>https://www.zomato.com/bangalore/spice-elephan...</td>\n",
              "      <td>2nd Floor, 80 Feet Road, Near Big Bazaar, 6th ...</td>\n",
              "      <td>Spice Elephant</td>\n",
              "      <td>Yes</td>\n",
              "      <td>No</td>\n",
              "      <td>4.1/5</td>\n",
              "      <td>787</td>\n",
              "      <td>080 41714161</td>\n",
              "      <td>Banashankari</td>\n",
              "      <td>Casual Dining</td>\n",
              "      <td>Momos, Lunch Buffet, Chocolate Nirvana, Thai G...</td>\n",
              "      <td>Chinese, North Indian, Thai</td>\n",
              "      <td>800</td>\n",
              "      <td>[('Rated 4.0', 'RATED\\n  Had been here for din...</td>\n",
              "      <td>[]</td>\n",
              "      <td>Buffet</td>\n",
              "      <td>Banashankari</td>\n",
              "    </tr>\n",
              "    <tr>\n",
              "      <th>2</th>\n",
              "      <td>https://www.zomato.com/SanchurroBangalore?cont...</td>\n",
              "      <td>1112, Next to KIMS Medical College, 17th Cross...</td>\n",
              "      <td>San Churro Cafe</td>\n",
              "      <td>Yes</td>\n",
              "      <td>No</td>\n",
              "      <td>3.8/5</td>\n",
              "      <td>918</td>\n",
              "      <td>+91 9663487993</td>\n",
              "      <td>Banashankari</td>\n",
              "      <td>Cafe, Casual Dining</td>\n",
              "      <td>Churros, Cannelloni, Minestrone Soup, Hot Choc...</td>\n",
              "      <td>Cafe, Mexican, Italian</td>\n",
              "      <td>800</td>\n",
              "      <td>[('Rated 3.0', \"RATED\\n  Ambience is not that ...</td>\n",
              "      <td>[]</td>\n",
              "      <td>Buffet</td>\n",
              "      <td>Banashankari</td>\n",
              "    </tr>\n",
              "    <tr>\n",
              "      <th>3</th>\n",
              "      <td>https://www.zomato.com/bangalore/addhuri-udupi...</td>\n",
              "      <td>1st Floor, Annakuteera, 3rd Stage, Banashankar...</td>\n",
              "      <td>Addhuri Udupi Bhojana</td>\n",
              "      <td>No</td>\n",
              "      <td>No</td>\n",
              "      <td>3.7/5</td>\n",
              "      <td>88</td>\n",
              "      <td>+91 9620009302</td>\n",
              "      <td>Banashankari</td>\n",
              "      <td>Quick Bites</td>\n",
              "      <td>Masala Dosa</td>\n",
              "      <td>South Indian, North Indian</td>\n",
              "      <td>300</td>\n",
              "      <td>[('Rated 4.0', \"RATED\\n  Great food and proper...</td>\n",
              "      <td>[]</td>\n",
              "      <td>Buffet</td>\n",
              "      <td>Banashankari</td>\n",
              "    </tr>\n",
              "    <tr>\n",
              "      <th>4</th>\n",
              "      <td>https://www.zomato.com/bangalore/grand-village...</td>\n",
              "      <td>10, 3rd Floor, Lakshmi Associates, Gandhi Baza...</td>\n",
              "      <td>Grand Village</td>\n",
              "      <td>No</td>\n",
              "      <td>No</td>\n",
              "      <td>3.8/5</td>\n",
              "      <td>166</td>\n",
              "      <td>+91 8026612447\\r\\n+91 9901210005</td>\n",
              "      <td>Basavanagudi</td>\n",
              "      <td>Casual Dining</td>\n",
              "      <td>Panipuri, Gol Gappe</td>\n",
              "      <td>North Indian, Rajasthani</td>\n",
              "      <td>600</td>\n",
              "      <td>[('Rated 4.0', 'RATED\\n  Very good restaurant ...</td>\n",
              "      <td>[]</td>\n",
              "      <td>Buffet</td>\n",
              "      <td>Banashankari</td>\n",
              "    </tr>\n",
              "  </tbody>\n",
              "</table>\n",
              "</div>"
            ],
            "text/plain": [
              "                                                 url  ... listed_in(city)\n",
              "0  https://www.zomato.com/bangalore/jalsa-banasha...  ...    Banashankari\n",
              "1  https://www.zomato.com/bangalore/spice-elephan...  ...    Banashankari\n",
              "2  https://www.zomato.com/SanchurroBangalore?cont...  ...    Banashankari\n",
              "3  https://www.zomato.com/bangalore/addhuri-udupi...  ...    Banashankari\n",
              "4  https://www.zomato.com/bangalore/grand-village...  ...    Banashankari\n",
              "\n",
              "[5 rows x 17 columns]"
            ]
          },
          "metadata": {
            "tags": []
          },
          "execution_count": 170
        }
      ]
    },
    {
      "cell_type": "code",
      "metadata": {
        "id": "4lRKcuE-H_5Q",
        "colab_type": "code",
        "colab": {
          "base_uri": "https://localhost:8080/",
          "height": 34
        },
        "outputId": "a0bdd0d2-cea9-4802-8f7e-f84ae71523be"
      },
      "source": [
        "data.shape"
      ],
      "execution_count": null,
      "outputs": [
        {
          "output_type": "execute_result",
          "data": {
            "text/plain": [
              "(51717, 17)"
            ]
          },
          "metadata": {
            "tags": []
          },
          "execution_count": 171
        }
      ]
    },
    {
      "cell_type": "markdown",
      "metadata": {
        "id": "L84quVKSaM66",
        "colab_type": "text"
      },
      "source": [
        "# **Preprocessing and visualizing the data**"
      ]
    },
    {
      "cell_type": "code",
      "metadata": {
        "id": "6b6jTAapanGg",
        "colab_type": "code",
        "colab": {
          "base_uri": "https://localhost:8080/",
          "height": 284
        },
        "outputId": "e5679e3d-e9ee-442d-8f9f-fc7fe480b5dd"
      },
      "source": [
        "data.describe()"
      ],
      "execution_count": null,
      "outputs": [
        {
          "output_type": "execute_result",
          "data": {
            "text/html": [
              "<div>\n",
              "<style scoped>\n",
              "    .dataframe tbody tr th:only-of-type {\n",
              "        vertical-align: middle;\n",
              "    }\n",
              "\n",
              "    .dataframe tbody tr th {\n",
              "        vertical-align: top;\n",
              "    }\n",
              "\n",
              "    .dataframe thead th {\n",
              "        text-align: right;\n",
              "    }\n",
              "</style>\n",
              "<table border=\"1\" class=\"dataframe\">\n",
              "  <thead>\n",
              "    <tr style=\"text-align: right;\">\n",
              "      <th></th>\n",
              "      <th>votes</th>\n",
              "    </tr>\n",
              "  </thead>\n",
              "  <tbody>\n",
              "    <tr>\n",
              "      <th>count</th>\n",
              "      <td>51717.000000</td>\n",
              "    </tr>\n",
              "    <tr>\n",
              "      <th>mean</th>\n",
              "      <td>283.697527</td>\n",
              "    </tr>\n",
              "    <tr>\n",
              "      <th>std</th>\n",
              "      <td>803.838853</td>\n",
              "    </tr>\n",
              "    <tr>\n",
              "      <th>min</th>\n",
              "      <td>0.000000</td>\n",
              "    </tr>\n",
              "    <tr>\n",
              "      <th>25%</th>\n",
              "      <td>7.000000</td>\n",
              "    </tr>\n",
              "    <tr>\n",
              "      <th>50%</th>\n",
              "      <td>41.000000</td>\n",
              "    </tr>\n",
              "    <tr>\n",
              "      <th>75%</th>\n",
              "      <td>198.000000</td>\n",
              "    </tr>\n",
              "    <tr>\n",
              "      <th>max</th>\n",
              "      <td>16832.000000</td>\n",
              "    </tr>\n",
              "  </tbody>\n",
              "</table>\n",
              "</div>"
            ],
            "text/plain": [
              "              votes\n",
              "count  51717.000000\n",
              "mean     283.697527\n",
              "std      803.838853\n",
              "min        0.000000\n",
              "25%        7.000000\n",
              "50%       41.000000\n",
              "75%      198.000000\n",
              "max    16832.000000"
            ]
          },
          "metadata": {
            "tags": []
          },
          "execution_count": 172
        }
      ]
    },
    {
      "cell_type": "code",
      "metadata": {
        "id": "RoTjZbjmctMK",
        "colab_type": "code",
        "colab": {
          "base_uri": "https://localhost:8080/",
          "height": 420
        },
        "outputId": "7006d3a9-a13f-4997-a8f5-3e7cdb37bf34"
      },
      "source": [
        "data.info()"
      ],
      "execution_count": null,
      "outputs": [
        {
          "output_type": "stream",
          "text": [
            "<class 'pandas.core.frame.DataFrame'>\n",
            "RangeIndex: 51717 entries, 0 to 51716\n",
            "Data columns (total 17 columns):\n",
            " #   Column                       Non-Null Count  Dtype \n",
            "---  ------                       --------------  ----- \n",
            " 0   url                          51717 non-null  object\n",
            " 1   address                      51717 non-null  object\n",
            " 2   name                         51717 non-null  object\n",
            " 3   online_order                 51717 non-null  object\n",
            " 4   book_table                   51717 non-null  object\n",
            " 5   rate                         43942 non-null  object\n",
            " 6   votes                        51717 non-null  int64 \n",
            " 7   phone                        50509 non-null  object\n",
            " 8   location                     51696 non-null  object\n",
            " 9   rest_type                    51490 non-null  object\n",
            " 10  dish_liked                   23639 non-null  object\n",
            " 11  cuisines                     51672 non-null  object\n",
            " 12  approx_cost(for two people)  51371 non-null  object\n",
            " 13  reviews_list                 51717 non-null  object\n",
            " 14  menu_item                    51717 non-null  object\n",
            " 15  listed_in(type)              51717 non-null  object\n",
            " 16  listed_in(city)              51717 non-null  object\n",
            "dtypes: int64(1), object(16)\n",
            "memory usage: 6.7+ MB\n"
          ],
          "name": "stdout"
        }
      ]
    },
    {
      "cell_type": "code",
      "metadata": {
        "id": "6OaL2T42axTc",
        "colab_type": "code",
        "colab": {
          "base_uri": "https://localhost:8080/",
          "height": 319
        },
        "outputId": "56f58eda-e9dc-47fe-eae1-e5d010b65f2d"
      },
      "source": [
        "data.isnull().sum()"
      ],
      "execution_count": null,
      "outputs": [
        {
          "output_type": "execute_result",
          "data": {
            "text/plain": [
              "url                                0\n",
              "address                            0\n",
              "name                               0\n",
              "online_order                       0\n",
              "book_table                         0\n",
              "rate                            7775\n",
              "votes                              0\n",
              "phone                           1208\n",
              "location                          21\n",
              "rest_type                        227\n",
              "dish_liked                     28078\n",
              "cuisines                          45\n",
              "approx_cost(for two people)      346\n",
              "reviews_list                       0\n",
              "menu_item                          0\n",
              "listed_in(type)                    0\n",
              "listed_in(city)                    0\n",
              "dtype: int64"
            ]
          },
          "metadata": {
            "tags": []
          },
          "execution_count": 174
        }
      ]
    },
    {
      "cell_type": "markdown",
      "metadata": {
        "id": "gpeHg9x0nZRE",
        "colab_type": "text"
      },
      "source": [
        "**The column 'dish_liked' has the most number of null or NaN values, so it is better to be dropped. \n",
        "Also, the columns 'url', 'phone' are irrelevent for predicting the rating \n",
        "The columns address, listed_in(city) and location give redundant information so we delete columns 'address','listed_in(city)'**"
      ]
    },
    {
      "cell_type": "code",
      "metadata": {
        "id": "0shKOAEQnYHc",
        "colab_type": "code",
        "colab": {}
      },
      "source": [
        "#Deleting Unnnecessary Columns\n",
        "zomato=data.drop(['url','dish_liked','phone','address','listed_in(city)'],axis=1) "
      ],
      "execution_count": null,
      "outputs": []
    },
    {
      "cell_type": "code",
      "metadata": {
        "id": "-KhcJY7WcAdx",
        "colab_type": "code",
        "colab": {
          "base_uri": "https://localhost:8080/",
          "height": 810
        },
        "outputId": "2d0895b2-5ec1-448c-a8c8-ad385feaaeb8"
      },
      "source": [
        "zomato.sample(15)"
      ],
      "execution_count": null,
      "outputs": [
        {
          "output_type": "execute_result",
          "data": {
            "text/html": [
              "<div>\n",
              "<style scoped>\n",
              "    .dataframe tbody tr th:only-of-type {\n",
              "        vertical-align: middle;\n",
              "    }\n",
              "\n",
              "    .dataframe tbody tr th {\n",
              "        vertical-align: top;\n",
              "    }\n",
              "\n",
              "    .dataframe thead th {\n",
              "        text-align: right;\n",
              "    }\n",
              "</style>\n",
              "<table border=\"1\" class=\"dataframe\">\n",
              "  <thead>\n",
              "    <tr style=\"text-align: right;\">\n",
              "      <th></th>\n",
              "      <th>name</th>\n",
              "      <th>online_order</th>\n",
              "      <th>book_table</th>\n",
              "      <th>rate</th>\n",
              "      <th>votes</th>\n",
              "      <th>location</th>\n",
              "      <th>rest_type</th>\n",
              "      <th>cuisines</th>\n",
              "      <th>approx_cost(for two people)</th>\n",
              "      <th>reviews_list</th>\n",
              "      <th>menu_item</th>\n",
              "      <th>listed_in(type)</th>\n",
              "    </tr>\n",
              "  </thead>\n",
              "  <tbody>\n",
              "    <tr>\n",
              "      <th>48293</th>\n",
              "      <td>Nossa Goa</td>\n",
              "      <td>Yes</td>\n",
              "      <td>Yes</td>\n",
              "      <td>4.1 /5</td>\n",
              "      <td>302</td>\n",
              "      <td>Richmond Road</td>\n",
              "      <td>Casual Dining</td>\n",
              "      <td>Goan, Seafood, Konkan, Desserts</td>\n",
              "      <td>1,000</td>\n",
              "      <td>[('Rated 4.0', \"RATED\\n  As a Goan I'm always ...</td>\n",
              "      <td>[]</td>\n",
              "      <td>Dine-out</td>\n",
              "    </tr>\n",
              "    <tr>\n",
              "      <th>45542</th>\n",
              "      <td>Cafe Oleiva</td>\n",
              "      <td>No</td>\n",
              "      <td>No</td>\n",
              "      <td>3.4 /5</td>\n",
              "      <td>6</td>\n",
              "      <td>Thippasandra</td>\n",
              "      <td>Cafe</td>\n",
              "      <td>Cafe</td>\n",
              "      <td>500</td>\n",
              "      <td>[('Rated 5.0', 'RATED\\n  The food was absolute...</td>\n",
              "      <td>[]</td>\n",
              "      <td>Desserts</td>\n",
              "    </tr>\n",
              "    <tr>\n",
              "      <th>25076</th>\n",
              "      <td>Hotel Prameela Veg</td>\n",
              "      <td>No</td>\n",
              "      <td>No</td>\n",
              "      <td>NaN</td>\n",
              "      <td>0</td>\n",
              "      <td>Banaswadi</td>\n",
              "      <td>Quick Bites</td>\n",
              "      <td>South Indian</td>\n",
              "      <td>100</td>\n",
              "      <td>[]</td>\n",
              "      <td>[]</td>\n",
              "      <td>Dine-out</td>\n",
              "    </tr>\n",
              "    <tr>\n",
              "      <th>16005</th>\n",
              "      <td>Hatti Punjab Di</td>\n",
              "      <td>No</td>\n",
              "      <td>No</td>\n",
              "      <td>3.3/5</td>\n",
              "      <td>24</td>\n",
              "      <td>HSR</td>\n",
              "      <td>Casual Dining</td>\n",
              "      <td>North Indian, Chinese</td>\n",
              "      <td>600</td>\n",
              "      <td>[('Rated 2.0', 'RATED\\n  Ordered lunch fish Ta...</td>\n",
              "      <td>[]</td>\n",
              "      <td>Delivery</td>\n",
              "    </tr>\n",
              "    <tr>\n",
              "      <th>15515</th>\n",
              "      <td>Kamat Hotel</td>\n",
              "      <td>No</td>\n",
              "      <td>No</td>\n",
              "      <td>3.6/5</td>\n",
              "      <td>60</td>\n",
              "      <td>Shivajinagar</td>\n",
              "      <td>Casual Dining</td>\n",
              "      <td>North Indian, South Indian, Chinese</td>\n",
              "      <td>450</td>\n",
              "      <td>[('Rated 3.0', 'RATED\\n  Good vegetarian place...</td>\n",
              "      <td>[]</td>\n",
              "      <td>Dine-out</td>\n",
              "    </tr>\n",
              "    <tr>\n",
              "      <th>31912</th>\n",
              "      <td>Hyder Ali Kitchen</td>\n",
              "      <td>No</td>\n",
              "      <td>No</td>\n",
              "      <td>NaN</td>\n",
              "      <td>0</td>\n",
              "      <td>Bannerghatta Road</td>\n",
              "      <td>Quick Bites</td>\n",
              "      <td>Biryani</td>\n",
              "      <td>300</td>\n",
              "      <td>[]</td>\n",
              "      <td>[]</td>\n",
              "      <td>Dine-out</td>\n",
              "    </tr>\n",
              "    <tr>\n",
              "      <th>17240</th>\n",
              "      <td>Yo! Thali</td>\n",
              "      <td>Yes</td>\n",
              "      <td>No</td>\n",
              "      <td>3.5/5</td>\n",
              "      <td>4</td>\n",
              "      <td>HSR</td>\n",
              "      <td>Quick Bites</td>\n",
              "      <td>North Indian, South Indian, Chinese</td>\n",
              "      <td>400</td>\n",
              "      <td>[('Rated 5.0', 'RATED\\n  Delicious and homely ...</td>\n",
              "      <td>['Dal Makhani with Rice Bowl', 'Rajma Chawal',...</td>\n",
              "      <td>Dine-out</td>\n",
              "    </tr>\n",
              "    <tr>\n",
              "      <th>3397</th>\n",
              "      <td>Arya Vysya Refreshment</td>\n",
              "      <td>No</td>\n",
              "      <td>No</td>\n",
              "      <td>-</td>\n",
              "      <td>0</td>\n",
              "      <td>Basavanagudi</td>\n",
              "      <td>Quick Bites</td>\n",
              "      <td>South Indian</td>\n",
              "      <td>100</td>\n",
              "      <td>[]</td>\n",
              "      <td>[]</td>\n",
              "      <td>Dine-out</td>\n",
              "    </tr>\n",
              "    <tr>\n",
              "      <th>19390</th>\n",
              "      <td>Samskruti - Sanman Gardenia</td>\n",
              "      <td>Yes</td>\n",
              "      <td>No</td>\n",
              "      <td>4.0/5</td>\n",
              "      <td>140</td>\n",
              "      <td>Jayanagar</td>\n",
              "      <td>Casual Dining</td>\n",
              "      <td>North Indian, Chinese, South Indian</td>\n",
              "      <td>550</td>\n",
              "      <td>[('Rated 4.0', 'RATED\\n  Enjoyed the buffet sp...</td>\n",
              "      <td>[]</td>\n",
              "      <td>Buffet</td>\n",
              "    </tr>\n",
              "    <tr>\n",
              "      <th>41666</th>\n",
              "      <td>Mast Biryani - Fresh Indian Kitchen</td>\n",
              "      <td>No</td>\n",
              "      <td>No</td>\n",
              "      <td>3.5 /5</td>\n",
              "      <td>254</td>\n",
              "      <td>Marathahalli</td>\n",
              "      <td>Casual Dining</td>\n",
              "      <td>Biryani, North Indian, Mughlai, Fast Food</td>\n",
              "      <td>500</td>\n",
              "      <td>[('Rated 4.0', \"RATED\\n  Amazing variants in f...</td>\n",
              "      <td>[]</td>\n",
              "      <td>Dine-out</td>\n",
              "    </tr>\n",
              "    <tr>\n",
              "      <th>42859</th>\n",
              "      <td>Delisias</td>\n",
              "      <td>No</td>\n",
              "      <td>No</td>\n",
              "      <td>NEW</td>\n",
              "      <td>0</td>\n",
              "      <td>Brigade Road</td>\n",
              "      <td>Bakery</td>\n",
              "      <td>Bakery</td>\n",
              "      <td>400</td>\n",
              "      <td>[('Rated 5.0', \"RATED\\n  This yummy crunch fil...</td>\n",
              "      <td>[]</td>\n",
              "      <td>Delivery</td>\n",
              "    </tr>\n",
              "    <tr>\n",
              "      <th>30910</th>\n",
              "      <td>Bombay Kulfis</td>\n",
              "      <td>Yes</td>\n",
              "      <td>No</td>\n",
              "      <td>3.9 /5</td>\n",
              "      <td>27</td>\n",
              "      <td>Koramangala 5th Block</td>\n",
              "      <td>Dessert Parlor</td>\n",
              "      <td>Ice Cream</td>\n",
              "      <td>200</td>\n",
              "      <td>[('Rated 5.0', 'RATED\\n  Rabri Kulfi is too Go...</td>\n",
              "      <td>[]</td>\n",
              "      <td>Desserts</td>\n",
              "    </tr>\n",
              "    <tr>\n",
              "      <th>48605</th>\n",
              "      <td>Kamat Hotel</td>\n",
              "      <td>No</td>\n",
              "      <td>No</td>\n",
              "      <td>3.6 /5</td>\n",
              "      <td>62</td>\n",
              "      <td>Shivajinagar</td>\n",
              "      <td>Casual Dining</td>\n",
              "      <td>North Indian, South Indian, Chinese</td>\n",
              "      <td>450</td>\n",
              "      <td>[('Rated 3.0', 'RATED\\n  Good vegetarian place...</td>\n",
              "      <td>[]</td>\n",
              "      <td>Dine-out</td>\n",
              "    </tr>\n",
              "    <tr>\n",
              "      <th>8146</th>\n",
              "      <td>Delhiciouss</td>\n",
              "      <td>No</td>\n",
              "      <td>No</td>\n",
              "      <td>3.7/5</td>\n",
              "      <td>24</td>\n",
              "      <td>Whitefield</td>\n",
              "      <td>Quick Bites</td>\n",
              "      <td>North Indian, Sandwich</td>\n",
              "      <td>300</td>\n",
              "      <td>[('Rated 3.0', 'RATED\\n  Food is ok . Chur chu...</td>\n",
              "      <td>[]</td>\n",
              "      <td>Dine-out</td>\n",
              "    </tr>\n",
              "    <tr>\n",
              "      <th>42167</th>\n",
              "      <td>BBQ@52</td>\n",
              "      <td>No</td>\n",
              "      <td>Yes</td>\n",
              "      <td>3.9 /5</td>\n",
              "      <td>53</td>\n",
              "      <td>MG Road</td>\n",
              "      <td>Casual Dining</td>\n",
              "      <td>BBQ, Biryani, Continental</td>\n",
              "      <td>1,500</td>\n",
              "      <td>[('Rated 5.0', 'RATED\\n  Simply loved this pla...</td>\n",
              "      <td>[]</td>\n",
              "      <td>Buffet</td>\n",
              "    </tr>\n",
              "  </tbody>\n",
              "</table>\n",
              "</div>"
            ],
            "text/plain": [
              "                                      name  ... listed_in(type)\n",
              "48293                            Nossa Goa  ...        Dine-out\n",
              "45542                          Cafe Oleiva  ...        Desserts\n",
              "25076                   Hotel Prameela Veg  ...        Dine-out\n",
              "16005                      Hatti Punjab Di  ...        Delivery\n",
              "15515                          Kamat Hotel  ...        Dine-out\n",
              "31912                    Hyder Ali Kitchen  ...        Dine-out\n",
              "17240                            Yo! Thali  ...        Dine-out\n",
              "3397                Arya Vysya Refreshment  ...        Dine-out\n",
              "19390          Samskruti - Sanman Gardenia  ...          Buffet\n",
              "41666  Mast Biryani - Fresh Indian Kitchen  ...        Dine-out\n",
              "42859                             Delisias  ...        Delivery\n",
              "30910                        Bombay Kulfis  ...        Desserts\n",
              "48605                          Kamat Hotel  ...        Dine-out\n",
              "8146                           Delhiciouss  ...        Dine-out\n",
              "42167                               BBQ@52  ...          Buffet\n",
              "\n",
              "[15 rows x 12 columns]"
            ]
          },
          "metadata": {
            "tags": []
          },
          "execution_count": 176
        }
      ]
    },
    {
      "cell_type": "markdown",
      "metadata": {
        "id": "QTjpbRdkxlBv",
        "colab_type": "text"
      },
      "source": [
        "# **Removing Duplicate values**"
      ]
    },
    {
      "cell_type": "code",
      "metadata": {
        "id": "h4bZi-JsxkE4",
        "colab_type": "code",
        "colab": {
          "base_uri": "https://localhost:8080/",
          "height": 34
        },
        "outputId": "36e49d9f-5055-4f5e-8a1f-d5aa14c3f9c3"
      },
      "source": [
        "zomato.duplicated().sum()"
      ],
      "execution_count": null,
      "outputs": [
        {
          "output_type": "execute_result",
          "data": {
            "text/plain": [
              "9836"
            ]
          },
          "metadata": {
            "tags": []
          },
          "execution_count": 177
        }
      ]
    },
    {
      "cell_type": "markdown",
      "metadata": {
        "id": "cxrTmT77ynng",
        "colab_type": "text"
      },
      "source": [
        "**As there is large number of duplicated rows of data present, we drop them**"
      ]
    },
    {
      "cell_type": "code",
      "metadata": {
        "id": "ftaAm675u7nj",
        "colab_type": "code",
        "colab": {}
      },
      "source": [
        "zomato = zomato.drop_duplicates()"
      ],
      "execution_count": null,
      "outputs": []
    },
    {
      "cell_type": "code",
      "metadata": {
        "id": "PDihGmHK0wrf",
        "colab_type": "code",
        "colab": {
          "base_uri": "https://localhost:8080/",
          "height": 336
        },
        "outputId": "ce5815fc-df41-4688-d01e-0cdd9fcf3ab3"
      },
      "source": [
        "zomato.info()"
      ],
      "execution_count": null,
      "outputs": [
        {
          "output_type": "stream",
          "text": [
            "<class 'pandas.core.frame.DataFrame'>\n",
            "Int64Index: 41881 entries, 0 to 51716\n",
            "Data columns (total 12 columns):\n",
            " #   Column                       Non-Null Count  Dtype \n",
            "---  ------                       --------------  ----- \n",
            " 0   name                         41881 non-null  object\n",
            " 1   online_order                 41881 non-null  object\n",
            " 2   book_table                   41881 non-null  object\n",
            " 3   rate                         37629 non-null  object\n",
            " 4   votes                        41881 non-null  int64 \n",
            " 5   location                     41867 non-null  object\n",
            " 6   rest_type                    41709 non-null  object\n",
            " 7   cuisines                     41845 non-null  object\n",
            " 8   approx_cost(for two people)  41628 non-null  object\n",
            " 9   reviews_list                 41881 non-null  object\n",
            " 10  menu_item                    41881 non-null  object\n",
            " 11  listed_in(type)              41881 non-null  object\n",
            "dtypes: int64(1), object(11)\n",
            "memory usage: 4.2+ MB\n"
          ],
          "name": "stdout"
        }
      ]
    },
    {
      "cell_type": "code",
      "metadata": {
        "id": "cJjFCY6h_Whv",
        "colab_type": "code",
        "colab": {
          "base_uri": "https://localhost:8080/",
          "height": 235
        },
        "outputId": "96595faf-d65f-424e-9dce-d0526f6799fc"
      },
      "source": [
        "zomato.isnull().sum()"
      ],
      "execution_count": null,
      "outputs": [
        {
          "output_type": "execute_result",
          "data": {
            "text/plain": [
              "name                              0\n",
              "online_order                      0\n",
              "book_table                        0\n",
              "rate                           4252\n",
              "votes                             0\n",
              "location                         14\n",
              "rest_type                       172\n",
              "cuisines                         36\n",
              "approx_cost(for two people)     253\n",
              "reviews_list                      0\n",
              "menu_item                         0\n",
              "listed_in(type)                   0\n",
              "dtype: int64"
            ]
          },
          "metadata": {
            "tags": []
          },
          "execution_count": 180
        }
      ]
    },
    {
      "cell_type": "markdown",
      "metadata": {
        "id": "ChcFX3dJIAmn",
        "colab_type": "text"
      },
      "source": [
        "# **Filling the null values**"
      ]
    },
    {
      "cell_type": "code",
      "metadata": {
        "id": "oCu6eCMwFC6e",
        "colab_type": "code",
        "colab": {
          "base_uri": "https://localhost:8080/",
          "height": 185
        },
        "outputId": "f5cbb106-326f-4a25-99f2-a02971bf2d74"
      },
      "source": [
        "zomato['rate'].unique()"
      ],
      "execution_count": null,
      "outputs": [
        {
          "output_type": "execute_result",
          "data": {
            "text/plain": [
              "array(['4.1/5', '3.8/5', '3.7/5', '3.6/5', '4.6/5', '4.0/5', '4.2/5',\n",
              "       '3.9/5', '3.1/5', '3.0/5', '3.2/5', '3.3/5', '2.8/5', '4.4/5',\n",
              "       '4.3/5', 'NEW', '2.9/5', '3.5/5', nan, '2.6/5', '3.8 /5', '3.4/5',\n",
              "       '4.5/5', '2.5/5', '2.7/5', '4.7/5', '2.4/5', '2.2/5', '2.3/5',\n",
              "       '3.4 /5', '-', '3.6 /5', '4.8/5', '3.9 /5', '4.2 /5', '4.0 /5',\n",
              "       '4.1 /5', '3.7 /5', '3.1 /5', '2.9 /5', '3.3 /5', '2.8 /5',\n",
              "       '3.5 /5', '2.7 /5', '2.5 /5', '3.2 /5', '2.6 /5', '4.5 /5',\n",
              "       '4.3 /5', '4.4 /5', '4.9/5', '2.1/5', '2.0/5', '1.8/5', '4.6 /5',\n",
              "       '4.9 /5', '3.0 /5', '4.8 /5', '2.3 /5', '4.7 /5', '2.4 /5',\n",
              "       '2.1 /5', '2.2 /5', '2.0 /5', '1.8 /5'], dtype=object)"
            ]
          },
          "metadata": {
            "tags": []
          },
          "execution_count": 181
        }
      ]
    },
    {
      "cell_type": "code",
      "metadata": {
        "id": "ZN_T60jQI5Bs",
        "colab_type": "code",
        "colab": {}
      },
      "source": [
        "zomato['rate'] = zomato['rate'].replace('NEW',np.NaN)\n",
        "zomato['rate'] = zomato['rate'].replace('-',np.NaN)\n",
        "zomato['rate'] = zomato['rate'].fillna(zomato['rate'].mode()[0])"
      ],
      "execution_count": null,
      "outputs": []
    },
    {
      "cell_type": "code",
      "metadata": {
        "id": "9I-bQXV7LFyz",
        "colab_type": "code",
        "colab": {
          "base_uri": "https://localhost:8080/",
          "height": 185
        },
        "outputId": "e0433536-c4f9-4d4c-ef9f-3970bb934754"
      },
      "source": [
        "zomato['rate'].unique()"
      ],
      "execution_count": null,
      "outputs": [
        {
          "output_type": "execute_result",
          "data": {
            "text/plain": [
              "array(['4.1/5', '3.8/5', '3.7/5', '3.6/5', '4.6/5', '4.0/5', '4.2/5',\n",
              "       '3.9/5', '3.1/5', '3.0/5', '3.2/5', '3.3/5', '2.8/5', '4.4/5',\n",
              "       '4.3/5', '2.9/5', '3.5/5', '2.6/5', '3.8 /5', '3.4/5', '4.5/5',\n",
              "       '2.5/5', '2.7/5', '4.7/5', '2.4/5', '2.2/5', '2.3/5', '3.4 /5',\n",
              "       '3.6 /5', '4.8/5', '3.9 /5', '4.2 /5', '4.0 /5', '4.1 /5',\n",
              "       '3.7 /5', '3.1 /5', '2.9 /5', '3.3 /5', '2.8 /5', '3.5 /5',\n",
              "       '2.7 /5', '2.5 /5', '3.2 /5', '2.6 /5', '4.5 /5', '4.3 /5',\n",
              "       '4.4 /5', '4.9/5', '2.1/5', '2.0/5', '1.8/5', '4.6 /5', '4.9 /5',\n",
              "       '3.0 /5', '4.8 /5', '2.3 /5', '4.7 /5', '2.4 /5', '2.1 /5',\n",
              "       '2.2 /5', '2.0 /5', '1.8 /5'], dtype=object)"
            ]
          },
          "metadata": {
            "tags": []
          },
          "execution_count": 183
        }
      ]
    },
    {
      "cell_type": "code",
      "metadata": {
        "id": "jgZf4yblhv_Z",
        "colab_type": "code",
        "colab": {}
      },
      "source": [
        "zomato['location'] = zomato['location'].fillna(zomato['location'].mode()[0])\n",
        "zomato['rest_type'] = zomato['rest_type'].fillna(zomato['rest_type'].mode()[0])\n",
        "zomato['cuisines'] = zomato['cuisines'].fillna(zomato['cuisines'].mode()[0])\n",
        "zomato['approx_cost(for two people)'] = zomato['approx_cost(for two people)'].fillna(zomato['approx_cost(for two people)'].mode()[0])"
      ],
      "execution_count": null,
      "outputs": []
    },
    {
      "cell_type": "code",
      "metadata": {
        "id": "O7lkyG-_JTbd",
        "colab_type": "code",
        "colab": {
          "base_uri": "https://localhost:8080/",
          "height": 235
        },
        "outputId": "8d746403-4c2b-4dd5-f57b-6819cea66031"
      },
      "source": [
        "zomato.isnull().sum()"
      ],
      "execution_count": null,
      "outputs": [
        {
          "output_type": "execute_result",
          "data": {
            "text/plain": [
              "name                           0\n",
              "online_order                   0\n",
              "book_table                     0\n",
              "rate                           0\n",
              "votes                          0\n",
              "location                       0\n",
              "rest_type                      0\n",
              "cuisines                       0\n",
              "approx_cost(for two people)    0\n",
              "reviews_list                   0\n",
              "menu_item                      0\n",
              "listed_in(type)                0\n",
              "dtype: int64"
            ]
          },
          "metadata": {
            "tags": []
          },
          "execution_count": 185
        }
      ]
    },
    {
      "cell_type": "code",
      "metadata": {
        "id": "yBT4Y_s8PMj4",
        "colab_type": "code",
        "colab": {
          "base_uri": "https://localhost:8080/",
          "height": 34
        },
        "outputId": "4a429526-15ab-48e5-d893-4f80f3afc0ee"
      },
      "source": [
        "zomato.shape"
      ],
      "execution_count": null,
      "outputs": [
        {
          "output_type": "execute_result",
          "data": {
            "text/plain": [
              "(41881, 12)"
            ]
          },
          "metadata": {
            "tags": []
          },
          "execution_count": 186
        }
      ]
    },
    {
      "cell_type": "code",
      "metadata": {
        "id": "XYz9Qd5FS4i-",
        "colab_type": "code",
        "colab": {
          "base_uri": "https://localhost:8080/",
          "height": 336
        },
        "outputId": "fb3f1735-8eff-4d60-e013-8763673d2ccd"
      },
      "source": [
        "zomato.info()"
      ],
      "execution_count": null,
      "outputs": [
        {
          "output_type": "stream",
          "text": [
            "<class 'pandas.core.frame.DataFrame'>\n",
            "Int64Index: 41881 entries, 0 to 51716\n",
            "Data columns (total 12 columns):\n",
            " #   Column                       Non-Null Count  Dtype \n",
            "---  ------                       --------------  ----- \n",
            " 0   name                         41881 non-null  object\n",
            " 1   online_order                 41881 non-null  object\n",
            " 2   book_table                   41881 non-null  object\n",
            " 3   rate                         41881 non-null  object\n",
            " 4   votes                        41881 non-null  int64 \n",
            " 5   location                     41881 non-null  object\n",
            " 6   rest_type                    41881 non-null  object\n",
            " 7   cuisines                     41881 non-null  object\n",
            " 8   approx_cost(for two people)  41881 non-null  object\n",
            " 9   reviews_list                 41881 non-null  object\n",
            " 10  menu_item                    41881 non-null  object\n",
            " 11  listed_in(type)              41881 non-null  object\n",
            "dtypes: int64(1), object(11)\n",
            "memory usage: 4.2+ MB\n"
          ],
          "name": "stdout"
        }
      ]
    },
    {
      "cell_type": "markdown",
      "metadata": {
        "id": "l0tr-PbCLNNz",
        "colab_type": "text"
      },
      "source": [
        "# **Transforming categorical data into numerical data**"
      ]
    },
    {
      "cell_type": "markdown",
      "metadata": {
        "id": "TlOC0ML1fv3e",
        "colab_type": "text"
      },
      "source": [
        "# **Performimg EDA**"
      ]
    },
    {
      "cell_type": "markdown",
      "metadata": {
        "id": "ej9Zigv9f75Z",
        "colab_type": "text"
      },
      "source": [
        "**Online order available or not**"
      ]
    },
    {
      "cell_type": "code",
      "metadata": {
        "id": "WEgEjqKvfGJ4",
        "colab_type": "code",
        "colab": {
          "base_uri": "https://localhost:8080/",
          "height": 422
        },
        "outputId": "a673e59f-58e0-4d49-c8c3-99b14ac702e9"
      },
      "source": [
        "plt.figure(figsize=(9,6))\n",
        "plt.title('Restaurants delivering online or Not')\n",
        "sns.countplot(zomato['online_order'])"
      ],
      "execution_count": null,
      "outputs": [
        {
          "output_type": "execute_result",
          "data": {
            "text/plain": [
              "<matplotlib.axes._subplots.AxesSubplot at 0x7f17d47ebc50>"
            ]
          },
          "metadata": {
            "tags": []
          },
          "execution_count": 188
        },
        {
          "output_type": "display_data",
          "data": {
            "image/png": "[encoded data removed]",
            "text/plain": [
              "<Figure size 648x432 with 1 Axes>"
            ]
          },
          "metadata": {
            "tags": [],
            "needs_background": "light"
          }
        }
      ]
    },
    {
      "cell_type": "markdown",
      "metadata": {
        "id": "ez9yxR0NhLOu",
        "colab_type": "text"
      },
      "source": [
        "***The barplot shows that most of the restaurants have the facility of online orders***"
      ]
    },
    {
      "cell_type": "markdown",
      "metadata": {
        "id": "zIZbdC_6jKO3",
        "colab_type": "text"
      },
      "source": [
        "\n",
        "\n",
        "---\n",
        "\n",
        "**Location**"
      ]
    },
    {
      "cell_type": "code",
      "metadata": {
        "id": "4yqeznUEmFFj",
        "colab_type": "code",
        "colab": {
          "base_uri": "https://localhost:8080/",
          "height": 832
        },
        "outputId": "6206b680-49b2-4d15-c6f9-b5d0de5a33d6"
      },
      "source": [
        "plt.figure(figsize=(20,11))\n",
        "plt.title('Count of restaurants in a location')\n",
        "sns.countplot(zomato['location']).set_xticklabels(sns.countplot(zomato['location']).get_xticklabels(), rotation=90, ha=\"right\")\n",
        "sns.countplot(zomato['location'])"
      ],
      "execution_count": null,
      "outputs": [
        {
          "output_type": "execute_result",
          "data": {
            "text/plain": [
              "<matplotlib.axes._subplots.AxesSubplot at 0x7f17d47ebc88>"
            ]
          },
          "metadata": {
            "tags": []
          },
          "execution_count": 189
        },
        {
          "output_type": "display_data",
          "data": {
            "image/png": "[encoded data removed]",
            "text/plain": [
              "<Figure size 1440x792 with 1 Axes>"
            ]
          },
          "metadata": {
            "tags": [],
            "needs_background": "light"
          }
        }
      ]
    },
    {
      "cell_type": "markdown",
      "metadata": {
        "id": "TiCO2q62n2rB",
        "colab_type": "text"
      },
      "source": [
        "***We can see from the barplot that BTM location has the largest no of restaurants***"
      ]
    },
    {
      "cell_type": "markdown",
      "metadata": {
        "id": "bURKQs4_oBjx",
        "colab_type": "text"
      },
      "source": [
        "\n",
        "\n",
        "---\n",
        "**Most frequent of rest_type**"
      ]
    },
    {
      "cell_type": "code",
      "metadata": {
        "id": "7xej_vX_n1el",
        "colab_type": "code",
        "colab": {
          "base_uri": "https://localhost:8080/",
          "height": 836
        },
        "outputId": "081af05b-53a3-4f31-982a-4ab21f7fb0ba"
      },
      "source": [
        "plt.figure(figsize=(20,11))\n",
        "plt.title('Most frequent restaurant type')\n",
        "sns.countplot(zomato['rest_type']).set_xticklabels(sns.countplot(zomato['rest_type']).get_xticklabels(), rotation=90)\n",
        "sns.countplot(zomato['rest_type'])"
      ],
      "execution_count": null,
      "outputs": [
        {
          "output_type": "execute_result",
          "data": {
            "text/plain": [
              "<matplotlib.axes._subplots.AxesSubplot at 0x7f17d47eb3c8>"
            ]
          },
          "metadata": {
            "tags": []
          },
          "execution_count": 190
        },
        {
          "output_type": "display_data",
          "data": {
            "image/png": "[encoded data removed]",
            "text/plain": [
              "<Figure size 1440x792 with 1 Axes>"
            ]
          },
          "metadata": {
            "tags": [],
            "needs_background": "light"
          }
        }
      ]
    },
    {
      "cell_type": "markdown",
      "metadata": {
        "id": "kle0GxkIsIl-",
        "colab_type": "text"
      },
      "source": [
        "***We can see from the countplot that most frequent restaurant type is 'Quick Bites'***"
      ]
    },
    {
      "cell_type": "markdown",
      "metadata": {
        "id": "NzghIPqxrcWR",
        "colab_type": "text"
      },
      "source": [
        "\n",
        "\n",
        "---\n",
        "**Restaurants allowing table booking or not**\n"
      ]
    },
    {
      "cell_type": "code",
      "metadata": {
        "id": "7y9DOHOlnAU_",
        "colab_type": "code",
        "colab": {
          "base_uri": "https://localhost:8080/",
          "height": 422
        },
        "outputId": "53ba4c47-9261-4243-a27f-f70f1067af9b"
      },
      "source": [
        "plt.figure(figsize=(9,6))\n",
        "plt.title('Restaurants having table booking or Not')\n",
        "sns.countplot(zomato['book_table'])"
      ],
      "execution_count": null,
      "outputs": [
        {
          "output_type": "execute_result",
          "data": {
            "text/plain": [
              "<matplotlib.axes._subplots.AxesSubplot at 0x7f17d62c0ef0>"
            ]
          },
          "metadata": {
            "tags": []
          },
          "execution_count": 191
        },
        {
          "output_type": "display_data",
          "data": {
            "image/png": "[encoded data removed]",
            "text/plain": [
              "<Figure size 648x432 with 1 Axes>"
            ]
          },
          "metadata": {
            "tags": [],
            "needs_background": "light"
          }
        }
      ]
    },
    {
      "cell_type": "markdown",
      "metadata": {
        "id": "pNfPipJfnNDZ",
        "colab_type": "text"
      },
      "source": [
        "***We can see that very few restaurants have table booking available***"
      ]
    },
    {
      "cell_type": "markdown",
      "metadata": {
        "id": "l7u4r9PGoQOV",
        "colab_type": "text"
      },
      "source": [
        "\n",
        "\n",
        "---\n",
        "\n",
        "**Maximum range of average cost for two people**"
      ]
    },
    {
      "cell_type": "code",
      "metadata": {
        "id": "TvjD-8s-ugZ1",
        "colab_type": "code",
        "colab": {
          "base_uri": "https://localhost:8080/",
          "height": 482
        },
        "outputId": "78b60ba7-1441-4ba2-847e-49145a3e17e1"
      },
      "source": [
        "plt.figure(figsize = (12,8))\n",
        "zomato['approx_cost(for two people)'].value_counts()[:20].plot(kind = 'pie')\n",
        "plt.title('Avg cost in Restaurent for two people')\n",
        "plt.show()"
      ],
      "execution_count": null,
      "outputs": [
        {
          "output_type": "display_data",
          "data": {
            "image/png": "[encoded data removed]",
            "text/plain": [
              "<Figure size 864x576 with 1 Axes>"
            ]
          },
          "metadata": {
            "tags": []
          }
        }
      ]
    },
    {
      "cell_type": "markdown",
      "metadata": {
        "id": "yfaVvjoEvqRx",
        "colab_type": "text"
      },
      "source": [
        "***The pieplot shows that maximum range of average cost for two people is '300 Rs' ***"
      ]
    },
    {
      "cell_type": "markdown",
      "metadata": {
        "id": "yywtNv16zmSf",
        "colab_type": "text"
      },
      "source": [
        "\n",
        "\n",
        "---\n",
        "\n",
        "**Most frequent type of restaurant**"
      ]
    },
    {
      "cell_type": "code",
      "metadata": {
        "id": "8pLhjglkzrvn",
        "colab_type": "code",
        "colab": {
          "base_uri": "https://localhost:8080/",
          "height": 482
        },
        "outputId": "575c07a8-5641-4df0-9e32-bd90f2462d98"
      },
      "source": [
        "plt.figure(figsize = (12,8))\n",
        "zomato['listed_in(type)'].value_counts()[:20].plot(kind = 'pie')\n",
        "plt.title('Type of restaurant')\n",
        "plt.show()"
      ],
      "execution_count": null,
      "outputs": [
        {
          "output_type": "display_data",
          "data": {
            "image/png": "[encoded data removed]",
            "text/plain": [
              "<Figure size 864x576 with 1 Axes>"
            ]
          },
          "metadata": {
            "tags": []
          }
        }
      ]
    },
    {
      "cell_type": "markdown",
      "metadata": {
        "id": "jaUPRKzm0bZU",
        "colab_type": "text"
      },
      "source": [
        "***From the pieplot we see the most frequently listed restaurant type is 'Delivery'***"
      ]
    },
    {
      "cell_type": "markdown",
      "metadata": {
        "id": "8HwoGoRn0okc",
        "colab_type": "text"
      },
      "source": [
        "\n",
        "\n",
        "---\n",
        "**Removing '/' from rating(e.g. 2.0/5) and converting rate to float type**\n"
      ]
    },
    {
      "cell_type": "code",
      "metadata": {
        "id": "ah6KHqQd0xQ_",
        "colab_type": "code",
        "colab": {}
      },
      "source": [
        "remove_slash = lambda x: x.replace('/5', '') if type(x) == np.str else x\n",
        "zomato.rate = zomato.rate.apply(remove_slash).str.strip().astype('float')"
      ],
      "execution_count": null,
      "outputs": []
    },
    {
      "cell_type": "markdown",
      "metadata": {
        "id": "00Caz9-D011M",
        "colab_type": "text"
      },
      "source": [
        "# **Making categories of ratings**"
      ]
    },
    {
      "cell_type": "code",
      "metadata": {
        "id": "VphLq2BA06uj",
        "colab_type": "code",
        "colab": {}
      },
      "source": [
        "bins = [-1,1,1.9,2.9,3.9,4.9]\n",
        "categories = pd.cut(zomato['rate'],bins,labels=[1,2,3,4,5])\n",
        "zomato['rate'] = categories"
      ],
      "execution_count": null,
      "outputs": []
    },
    {
      "cell_type": "code",
      "metadata": {
        "id": "JwPm56J109l-",
        "colab_type": "code",
        "colab": {
          "base_uri": "https://localhost:8080/",
          "height": 235
        },
        "outputId": "425f144a-6857-4bf0-8710-11855956cff2"
      },
      "source": [
        "zomato.rate"
      ],
      "execution_count": null,
      "outputs": [
        {
          "output_type": "execute_result",
          "data": {
            "text/plain": [
              "0        5\n",
              "1        5\n",
              "2        4\n",
              "3        4\n",
              "4        4\n",
              "        ..\n",
              "51712    4\n",
              "51713    4\n",
              "51714    4\n",
              "51715    5\n",
              "51716    4\n",
              "Name: rate, Length: 41881, dtype: category\n",
              "Categories (5, int64): [1 < 2 < 3 < 4 < 5]"
            ]
          },
          "metadata": {
            "tags": []
          },
          "execution_count": 196
        }
      ]
    },
    {
      "cell_type": "code",
      "metadata": {
        "id": "0765m-a4VSvm",
        "colab_type": "code",
        "colab": {}
      },
      "source": [
        "from sklearn.preprocessing import LabelEncoder\n",
        "Encoder = LabelEncoder()                 \n",
        "zomato['online_order'] = Encoder.fit_transform(zomato['online_order'])\n",
        "zomato['book_table'] = Encoder.fit_transform(zomato['book_table'])\n",
        "zomato['location'] = Encoder.fit_transform(zomato['location'])\n",
        "zomato['rest_type'] = Encoder.fit_transform(zomato['rest_type'])\n",
        "zomato['cuisines'] = Encoder.fit_transform(zomato['cuisines'])\n",
        "zomato['listed_in(type)'] = Encoder.fit_transform(zomato['listed_in(type)'])\n"
      ],
      "execution_count": null,
      "outputs": []
    },
    {
      "cell_type": "code",
      "metadata": {
        "id": "_Nkr-XuSXjSx",
        "colab_type": "code",
        "colab": {
          "base_uri": "https://localhost:8080/",
          "height": 296
        },
        "outputId": "b070817a-eaf1-4d5e-85f7-9de8fc6b3ea2"
      },
      "source": [
        "zomato.head()"
      ],
      "execution_count": null,
      "outputs": [
        {
          "output_type": "execute_result",
          "data": {
            "text/html": [
              "<div>\n",
              "<style scoped>\n",
              "    .dataframe tbody tr th:only-of-type {\n",
              "        vertical-align: middle;\n",
              "    }\n",
              "\n",
              "    .dataframe tbody tr th {\n",
              "        vertical-align: top;\n",
              "    }\n",
              "\n",
              "    .dataframe thead th {\n",
              "        text-align: right;\n",
              "    }\n",
              "</style>\n",
              "<table border=\"1\" class=\"dataframe\">\n",
              "  <thead>\n",
              "    <tr style=\"text-align: right;\">\n",
              "      <th></th>\n",
              "      <th>name</th>\n",
              "      <th>online_order</th>\n",
              "      <th>book_table</th>\n",
              "      <th>rate</th>\n",
              "      <th>votes</th>\n",
              "      <th>location</th>\n",
              "      <th>rest_type</th>\n",
              "      <th>cuisines</th>\n",
              "      <th>approx_cost(for two people)</th>\n",
              "      <th>reviews_list</th>\n",
              "      <th>menu_item</th>\n",
              "      <th>listed_in(type)</th>\n",
              "    </tr>\n",
              "  </thead>\n",
              "  <tbody>\n",
              "    <tr>\n",
              "      <th>0</th>\n",
              "      <td>Jalsa</td>\n",
              "      <td>1</td>\n",
              "      <td>1</td>\n",
              "      <td>5</td>\n",
              "      <td>775</td>\n",
              "      <td>1</td>\n",
              "      <td>27</td>\n",
              "      <td>2159</td>\n",
              "      <td>800</td>\n",
              "      <td>[('Rated 4.0', 'RATED\\n  A beautiful place to ...</td>\n",
              "      <td>[]</td>\n",
              "      <td>0</td>\n",
              "    </tr>\n",
              "    <tr>\n",
              "      <th>1</th>\n",
              "      <td>Spice Elephant</td>\n",
              "      <td>1</td>\n",
              "      <td>0</td>\n",
              "      <td>5</td>\n",
              "      <td>787</td>\n",
              "      <td>1</td>\n",
              "      <td>27</td>\n",
              "      <td>952</td>\n",
              "      <td>800</td>\n",
              "      <td>[('Rated 4.0', 'RATED\\n  Had been here for din...</td>\n",
              "      <td>[]</td>\n",
              "      <td>0</td>\n",
              "    </tr>\n",
              "    <tr>\n",
              "      <th>2</th>\n",
              "      <td>San Churro Cafe</td>\n",
              "      <td>1</td>\n",
              "      <td>0</td>\n",
              "      <td>4</td>\n",
              "      <td>918</td>\n",
              "      <td>1</td>\n",
              "      <td>22</td>\n",
              "      <td>766</td>\n",
              "      <td>800</td>\n",
              "      <td>[('Rated 3.0', \"RATED\\n  Ambience is not that ...</td>\n",
              "      <td>[]</td>\n",
              "      <td>0</td>\n",
              "    </tr>\n",
              "    <tr>\n",
              "      <th>3</th>\n",
              "      <td>Addhuri Udupi Bhojana</td>\n",
              "      <td>0</td>\n",
              "      <td>0</td>\n",
              "      <td>4</td>\n",
              "      <td>88</td>\n",
              "      <td>1</td>\n",
              "      <td>78</td>\n",
              "      <td>2555</td>\n",
              "      <td>300</td>\n",
              "      <td>[('Rated 4.0', \"RATED\\n  Great food and proper...</td>\n",
              "      <td>[]</td>\n",
              "      <td>0</td>\n",
              "    </tr>\n",
              "    <tr>\n",
              "      <th>4</th>\n",
              "      <td>Grand Village</td>\n",
              "      <td>0</td>\n",
              "      <td>0</td>\n",
              "      <td>4</td>\n",
              "      <td>166</td>\n",
              "      <td>4</td>\n",
              "      <td>27</td>\n",
              "      <td>2188</td>\n",
              "      <td>600</td>\n",
              "      <td>[('Rated 4.0', 'RATED\\n  Very good restaurant ...</td>\n",
              "      <td>[]</td>\n",
              "      <td>0</td>\n",
              "    </tr>\n",
              "  </tbody>\n",
              "</table>\n",
              "</div>"
            ],
            "text/plain": [
              "                    name  online_order  ...  menu_item listed_in(type)\n",
              "0                  Jalsa             1  ...         []               0\n",
              "1         Spice Elephant             1  ...         []               0\n",
              "2        San Churro Cafe             1  ...         []               0\n",
              "3  Addhuri Udupi Bhojana             0  ...         []               0\n",
              "4          Grand Village             0  ...         []               0\n",
              "\n",
              "[5 rows x 12 columns]"
            ]
          },
          "metadata": {
            "tags": []
          },
          "execution_count": 198
        }
      ]
    },
    {
      "cell_type": "markdown",
      "metadata": {
        "id": "yPxoRmPmSo87",
        "colab_type": "text"
      },
      "source": [
        "**Removing ',' from approx_cost(for two people) and convert it to numerical data**"
      ]
    },
    {
      "cell_type": "code",
      "metadata": {
        "id": "JuLOCqWDSnMe",
        "colab_type": "code",
        "colab": {}
      },
      "source": [
        "#renaming column\n",
        "zomato = zomato.rename(columns={'approx_cost(for two people)':'cost'})"
      ],
      "execution_count": null,
      "outputs": []
    },
    {
      "cell_type": "code",
      "metadata": {
        "id": "zmbNluc2bc87",
        "colab_type": "code",
        "colab": {}
      },
      "source": [
        "zomato['cost'] = zomato['cost'].astype('str')\n",
        "zomato['cost'] = zomato['cost'].apply(lambda x : float(''.join([str(elem) for elem in x.split(',')])))"
      ],
      "execution_count": null,
      "outputs": []
    },
    {
      "cell_type": "markdown",
      "metadata": {
        "id": "_VkvKEeb_xfQ",
        "colab_type": "text"
      },
      "source": [
        "\n",
        "\n",
        "---\n",
        "\n"
      ]
    },
    {
      "cell_type": "code",
      "metadata": {
        "id": "6tXXqPRSAAzQ",
        "colab_type": "code",
        "colab": {
          "base_uri": "https://localhost:8080/",
          "height": 171
        },
        "outputId": "c7307220-29a8-4e3d-e85f-72e316cf87f9"
      },
      "source": [
        "zomato['reviews_list'] = zomato['reviews_list'].str.replace(',' , '')\n",
        "zomato['reviews_list'] = zomato['reviews_list'].astype(str).apply(lambda x: ' '.join(sorted(x.split())))\n",
        "zomato['reviews_list'].unique()"
      ],
      "execution_count": null,
      "outputs": [
        {
          "output_type": "execute_result",
          "data": {
            "text/plain": [
              "array(['\"Alice \\'RATED\\\\n \\'RATED\\\\n \\'RATED\\\\n \\'RATED\\\\n \\'RATED\\\\n \\'RATED\\\\n \\'RATED\\\\n \\'RATED\\\\n \\'RATED\\\\n \\'RATED\\\\n \\'RATED\\\\n \\'RATED\\\\n (\\'Rated (\\'Rated (\\'Rated (\\'Rated (\\'Rated (\\'Rated (\\'Rated (\\'Rated (\\'Rated (\\'Rated (\\'Rated 2.0\\' 4.0\\' 4.0\\' 4.0\\' 4.0\\' 4.0\\' 4.0\\' 4.0\\' 4.0\\' 5.0\\' 5.0\\' 5.0\\' 5/5\\\\nAmbience 5/5\\\\nService 5cars. 5cars. 5cars. : : :5/5\\') :5/5\\\\nOverall ? ?. ?. ?? ?? ?? ?? ??????????.\\\\nService: ??\\\\nQuality A A Ala Ambience Anyways BDA. Banashankari Bhutta But Carte. Cheers!\\') Chicken Christmas Clearly Clearly Clearly Coll Definitely Do Expensive Firstly Food Food Food Food Food Good Good Great Halwa I I India It It It Its Jalsa. Junoon\". Me Mughal Must Never On Overdelighted Pumpkin Seating Second Service Staff The The The The The The The The The The The The The The We We We We You [(\\'Rated a a a a a a a a a a a a a a a a a a about again.\\') ages ala alacarteÃ\\x83\\\\x83Ã\\x82\\\\x83Ã\\x83\\\\x82Ã\\x82\\\\x82Ã\\x83\\\\x83Ã\\x82\\\\x82Ã\\x83\\\\x82Ã\\x82\\\\x92. all all all all.The along also also always amazing. ambiance. ambience ambience ambience. and and and and and and and and and and and and and and and and and and and and and and and and and and and and and and and anymore.\\') are are are arrangement as as as at at at atmosphere authentic. available. baby back basement basement basement be beautiful been been being best best better.Would breads buffet buffet buffet buffet buffet buffet buffet. builds but but but butter by by can canÃ\\x83\\\\x83Ã\\x82\\\\x83Ã\\x83\\\\x82Ã\\x82\\\\x82Ã\\x83\\\\x83Ã\\x82\\\\x82Ã\\x83\\\\x82Ã\\x82\\\\x92t carte chaap chaap chaap chill chilli chilli combo.\\\\nLemon come come. comfortable. comfortable. comfortable. complaint completely compromised concern concern concern congested congested congested corn corrionder could cumbersome\\') cumbersome\\') cumbersome\\')] curry dessert dine dinner disappointed dish dish dish dish. dish. dish. empty. era. essence ethnic excellent.\\\\n\\\\nsubirmajumder85.wixsite.com\\') experience family family fan few food food food food food food. food.\\\\nCheese for for fresh fried friendly friendly.\\\\n\\\\nOverall friends go good good good good good good good good good good good good. great great! had had had had hangout.\\\\nCheers\\') have have here here here here. hindi in in in in.The inquiring interiors intm is is is is is is is is is is is is is is is is is is is is it it it it.\\') item.\\\\nEgg items items items itÃ\\x83\\\\x83Ã\\x82\\\\x83Ã\\x83\\\\x82Ã\\x82\\\\x82Ã\\x83\\\\x83Ã\\x82\\\\x82Ã\\x83\\\\x82Ã\\x82\\\\x92s jalea jalea jalea just just just just kulchas lemon lightings like limited limited limited limited lot maintain maintain maintain makes makes makes masala me me me methi miss mocktails mostly music. must must must must my my near nice nice nice not not not not occasion of of of of of of of of of of of of office ok ok. old olive on on on on once.\\') one one one one only only only only only only order ordered ordered outlets outlets outlets palak panner papad paratha paratha. parking parking parking parking. parking. parking. per per per perfect.We place place place place place place place place place place. pleasant professional provide provided quality quite really recommend recommend relax......\\\\n\\\\nService restaurant restaurant rice roti royal said service service service service side slower so some soup soya soya soya staff...\\\\n\\\\nFood standard. standard. standard. standout standout standout starters starters steep steep steep strong surely take taste taste tasty tasty.\\\\nIn that the the the the the the the the the the the the the the the the the the their there they they they thing thing this this this this thus times to to to to to to to to to to to too. too. took took totally trademark trademark trademark truly try try try! try.\\\\n\\\\nThe try.\\\\n\\\\nThe try.\\\\n\\\\nThe two unfortunately us us us.\\\\nTest veg vegetarians. very very very very very very very very very visit visited visited visiting wait.\\') was was was was was was was was was was was was was was was we weekday. weekend went went which which while wise wise wise with with with with with with worth would wrong you yummy',\n",
              "       '!\\\\n\\\\nTable \"RATED\\\\n \"RATED\\\\n \"RATED\\\\n \"RATED\\\\n \"RATED\\\\n \"RATED\\\\n \\'RATED\\\\n \\'RATED\\\\n \\'RATED\\\\n \\'RATED\\\\n \\'RATED\\\\n \\'RATED\\\\n \\'RATED\\\\n \\'RATED\\\\n (\\'Rated (\\'Rated (\\'Rated (\\'Rated (\\'Rated (\\'Rated (\\'Rated (\\'Rated (\\'Rated (\\'Rated (\\'Rated (\\'Rated (\\'Rated .. ... 12.30 150-250. 2.0\\' 2.0\\' 200-300. 3.0\\' 3.0\\' 3.0\\' 4.0\\' 4.0\\' 4.0\\' 4.0\\' 4.0\\' 4.0\\' 4.0\\' 4.0\\' 4/5\\\\nAmbience 4/5\\\\nPocket 4/5\\\\n\\\\nWill 5.0\\' 8/10\\\\nAmbience:8/10\\\\nStaff:8/10\\\\nOne 80-100. 800 : : : :3/5\\\\nFriendly ? ??\\') A A Banashankari Biriyani Buffet But Can Chicken Chinese Cost Cost Food Food Food: Gobi Good Good Great Had I I I I I I I I I\\'ve If In Indian It It It It Its Jamun Just Lassi Main Manage Mutton Nice Nightmare Not Prices Quiet SPL: Service Service Since So Specially Spice Staff Starters Thai The The The The The The The The The The The The The There There There They They They They They They This Turned Wafer We Will Zomato Zomato [(\\'Rated a a a a a a a a a a a a a a a a a about about above abt according adjusting affordable. again ages all all all almost also also also also amazing. ambiance... ambience ambience ambience ambience. and and and and and and and and and and and and and and and and and and and and and and and and and and and and and and and and and and annoying...\\\\n\\\\n1. appetite. are arranged arranged as as as at at at attached available average average. average.\") awesome\\\\n\\\\nI back back bad bad bad... be be be be been before best best biriyani biriyani biryani bit blob buds. buffet buffet buffet buffet(only buffet. burnt but but but but but cake cake. calm can carte casual chats cheap chewy chicken chicken chocolate chocolate choose clean. cold combo. complementary cooked cooked cool costly\") course course courteous courteous. crew crowd curry customers.\\') dakshin decent decent. decided definitely delicious delite depends desert deserts dessert dessert dine dining dinner dinner dinner. dinner.. disappointing. disappointing. dishes. don\\'t don\\'t don\\'t dough drink early egg elephant end.\\') everyone expensive expensive\") experience experience experience extraordinary. family family family family family family. felt felt find find fine. first fish flavour food food food food food food food food. food...but food.\\\\nThere\\'s foodies for for for for for for for for for for for for for for for found found fresh fried friendly friendly friendly from garlic gave get gold gold. good good good good good good good good good good good good good good good. good. good..neat good.\\\\nOverall good.\\\\nThe gravies great\\\\n\\\\n2. gulab had had had had had had had had had. hangout hara hard hard has have have have have have have having heavy hell helpful here here. here.. here.\\\\nI high i ice improve improve in in insane. inside inside. inside. is is is is is is is is is is is is is is is is is is is is it it it items its jamun just katriguppe kept kept know kurchan..was la leg legs\\\\n\\\\nNo less like liked little little little little looking lunch lunch. lunch. lunch...and main maintained manchow manner. may may me.\") medium might mix momos momos more most mouth much music music mutton my name near new nice nice nice nice noise noisy.\\') north not not nothing nothing noticed number of of of of of of of of of of of of of of of of of okay. on on on on one one one or or or or ordered ordered out overall overall pan paneer paneer paneer panner parking\\\\n\\\\nFor part particular partner peace. peaceful people. perfect perfect photo pieces...\") place place place place place place place place place place place place place. place. place. place. place.\") place.. places playing plenty presentation pretty price price price price. puri puri pyaz quality quantity quantity quantity quantity quite r raitha. rating raw really really really really really really really recommend reduce refilled regular remember repeat restaurant restaurant restaurant restrooms rice rice rice rice roti roti see serve serve.\\\\nThom service service.\\\\nThe serving sev simple slow slow. slowly. small smell so so so so so so. soft some some some soup soup soup.. soups space spend spicy spicy\\\\n\\\\nLasooni staff staff staff staff starters starters. suggested suitable sweet tables....only take talk talk taste taste taste tasted.. tasty tasty tasty tender terms thai that that that that that the the the the the the the the the the the the the the the the the the the the the the the the the the the the the the the the their they they they they they they thing thing this this this this this this this thought tikka time time time to to to to to to to to to to to to to to to to too too too.\\\\nWe treat tried try try try try try trying two two type u uncomfortable understanding..\\') undoubtedly ur us us.\\')] usually uttar vanilla varieties variety veg veg)\\') vegetables veggie very very very very very very very very very very very very very view.\\') vilaythi visit wafers... wanted was was was was was was was was was was was was was was was was was was was was was was was was was was was was was was was was was was was was was was was we we we we we we we we\\'ll well well well well.\\\\n\\\\nFood went wer were were were what what when where where where which which whole will with with with with with with with with with worst. would you you your your yum',\n",
              "       '! !! !:)\\\\nWe !Good !\\\\nExcept !\\\\nFood \"RATED\\\\n \"RATED\\\\n \"RATED\\\\n \"RATED\\\\n \"RATED\\\\n \"RATED\\\\n \"RATED\\\\n \"RATED\\\\n \"RATED\\\\n \"RATED\\\\n \\'RATED\\\\n \\'RATED\\\\n \\'RATED\\\\n \\'RATED\\\\n \\'RATED\\\\n \\'RATED\\\\n \\'RATED\\\\n \\'RATED\\\\n \\'RATED\\\\n \\'RATED\\\\n \\'churros (\\'Rated (\\'Rated (\\'Rated (\\'Rated (\\'Rated (\\'Rated (\\'Rated (\\'Rated (\\'Rated (\\'Rated (\\'Rated (\\'Rated (\\'Rated (\\'Rated (\\'Rated (\\'Rated (\\'Rated (\\'Rated (\\'Rated (the - -\\\\nIt -\\\\nThis . . . .\") .\\\\nChuros .\\\\n\\\\nTaste 1) 1.0\\' 1.0\\' 10mins 15mins 2.0\\' 2nd 3.0\\' 3.0\\' 3.0\\' 3.0\\' 3.0\\' 3.0\\' 3.0\\' 3.0\\' 3.0\\' 399 4.0\\' 4.0\\' 4.0\\' 4.0\\' 4.0\\' 4.0\\' 4.0\\' 4.0\\' 499 6/10\\\\nAmbience 7.5/10\") 8/10\\\\n\\\\nOverall : : : : : : : : :\\')\") :7/10\\\\nValue :\\\\nIt ? ?\\') ??\") ??..\") ???\\\\nChurros ???\\\\nHot ??\\\\n\\\\nAmbiance ??\\\\n\\\\nOne ??\\\\n\\\\nService ?\\\\nNachos ?\\\\n\\\\nCleanliness A A A A Africano Ambience As Banashankari Banashankari Both Buffet But Cafe. Can Cheesecake Chocolate Churro Churro Churros Churros Churros Churros Churros Churros.\")] Cockroaches Congested Country Cross Especially First Food Garlic Google Have Haven\\'t Having Honestly I I I I I I I I I I I I I I I If It Little Loaded Lord MAYO! Mexican Milkshakes Most Nachos Nostalgia Not One Otherwise Parking Ranch Really Repeat San San San San Savior Seriously Service So Soup South Spain Spanish Staff Store Such Thai Thai Thankfully Thanks That\\'ll The The The The The The The The Then They They\\'re This Though Very Very Visited Visited Was We We We We We Without Worth Yes [(\\'Rated \\\\nWent a a a a a a a a a a a a a a a a a about about about actual actually again ahead alive all all all all all all almost almost along also also also am amazing ambience ambience ambience ambience ambience ambience an an and and and and and and and and and and and and and and and and and and and and and and and and and and and and and and and and and and and and and and and and and and any any anyone anything are are are are around as as as as as as as at atmosphere average average average.\") back back bad bakasura bakasura\\'s bangalore based be be be be become been been before before before. being being best best.\\\\nOverall better big bit bite bread bread but but but but but but but by cafe cafe cafe cafe cafe cafe cafe. cafes cake cakes can cannot caramel care chairs! charged cheese cherry chocolate chocolate chocolate chocolate chocolate chocolate chocolate churos churos. churro churro churro churroic churros churros churros churros churros churros churros churros churros churros churros.\\\\n\\\\nStarters:\\\\n1. city cleaned close closing cockroach cockroaches!!Bakasura coconut coffee cold come complained complete consider.\\') cooked corporate couldnt course:\\\\nsicilia courteous.\\\\n\\\\nI crowded crumbs crust curry cute. day.\\\\n\\\\nQuickly deal decade declined. decor decoration delectable delivered der\\') dessert desserts desserts desserts. did dint dip disappointed disappointed!! disappointed.\\\\nBeing disappointing disapproves. discomfort dish dish!!\\\\n2. dish.\\\\n\\\\nFinally dish.\\\\n\\\\nMain dishes dishes dissapointed dissapointed do don\\'t dont down down drastically. drawback due dull dusty easily.\\\\n\\\\nSoups:\\\\nMinestrone else enough enough eponymous even even evening ever ever excited expected experience experience experience!\\\\nPeace experienceÃ\\x83\\\\x83Ã\\x82\\\\x83Ã\\x83\\\\x82Ã\\x82\\\\x82Ã\\x83\\\\x83Ã\\x82\\\\x82Ã\\x83\\\\x82Ã\\x82\\\\x94\\\\n\\\\nHit famous favourite feel. find first first first first flies food food food food.\") food.\") for for for for for for for for for for for for for for for for freshly freshly friendly friends.\\\\nThe from from fulfilling get go go go. going gold gone good good good good good good good good good!\\') good. good. good. good.\") good....\\') good.\\\\nNutella good\\\\n2) good\\\\n3) good\\\\n4) got great great great! green guess. had had had had had had hang hangout happened happy happy happy hard has has has has has has has has have have have heavenly! hence here here here here hesitation high hope hot hot hot how hungry i if in in in in in in in in in in in inattentive interior is is is is is is is is is is is is is it it it it it it it it it it it it it it it it\\'s it\\'s it\\'s it. it.\\\\n\\\\nChurros items judgmental. just just k k\\\\nService kims kitchen\\\\nAmbience lasagne.\\\\n\\\\nNachos last last last late.\\') led let lights like like like like like listed little loaded loaded location long looking looks looks love love love love lower. lucky made.\\\\n\\\\nIt mains mains make masala mayonnese.. me me me. meal meal.\\\\n\\\\nThis melted menu mild milk. moat mocktails mocktails money more more more.\\') moving murals must must my my my nachos nachos nachos nachos nachos name need nesting never never new next nice nice nice. nice\\\\n5) normal not not not not not not not not not not not now nutella of of of of of of of of of of of of of of of of of offering often okayish okayish.\\\\nLasagne old old on on one one one only only only only. open option options or or or order)\\\\nPasta ordered ordered ordered ordered other other other. our our our our our out out out out!\\\\n\\\\nA outlet outside outside over over over over. panner parcels pasta pasta pasta pastas pastries pathetic pathetic.( people person pic picture.\\\\n\\\\nMy pictures pink pizza pizza pizza pizza pizza pizza pizza. pizza. pizza\\\\nPizza pizzas place place place place place place place place place place place place place place place place place place place.\\\\n\\\\nSeems places places plate. pocket polite positive potential preparing pretty pretty pretty pretty pretty pretty price priced professional pudding... put quality quality quality quality quantity quick quite rate really really recently. recommend recommended\\\\nNear reduced respond restaurant restaurant\\'s result retouching review rice. room sadly said sauce sauce sauce. saw say search see seemed served served served service shakes should should simple simple since single slow slow smile smoke snack so). sofas some some soo soup spacious spend spicy spicy.\\\\n\\\\nI stacked staff staff staff staff staff staff. starters starters starts state still still stock store stuffed. suggests super super sure!\\') surprised swear sweet table. table. take take take take taken talk taste taste.\\') tasty tempted than than thanks that that that that that that that that. the the the the the the the the the the the the the the the the the the the the the the the the the the the the the the the the the the the the the the the the the the the the the the the their their their their their them them them them them? there there there there they they they they\\'re thin thing think thirst this this this this this this this this this this this though time time time time time time. time.\\\\nBut to to to to to to to to to to to to to to to to to to to to to to.notice too too too too too too. too.\\\\nRecommended.\\') took topped tour town tried tried tried tried. triggered try try try try try trying two two\\'. u unhappy unique.\\\\nTried up upto?\\\\n\\\\nBakasura usual. vegetable vegetables veggies.\\\\nThe very very very very very very very very visit visit visit visit visit visited visiting walked walls want warm was was was was was was was was was was was was was was was was was was was was was was was was was was was was was was was was wasn\\'t wasn\\'t water way we we we we we welcomed well well well went were were were were were were were were were were were were were what when which which who who who with with with with with with with with with with with with with with with with with with with with within words!\\\\nLastly words. worse would would would would writings xD years. you you yummy Ã\\x83\\\\x83Ã\\x82\\\\x83Ã\\x83\\\\x82Ã\\x82\\\\x82Ã\\x83\\\\x83Ã\\x82\\\\x82Ã\\x83\\\\x82Ã\\x82\\\\x93Chocolaty',\n",
              "       ...,\n",
              "       '!\") !\") !\") !\") \"RATED\\\\n \"RATED\\\\n \"RATED\\\\n \"RATED\\\\n \"RATED\\\\n \"RATED\\\\n \"RATED\\\\n \"RATED\\\\n \"RATED\\\\n \"RATED\\\\n \"RATED\\\\n \"RATED\\\\n \"RATED\\\\n \"RATED\\\\n \"RATED\\\\n \"RATED\\\\n \"RATED\\\\n \"RATED\\\\n \"RATED\\\\n \"RATED\\\\n \"RATED\\\\n \"RATED\\\\n #Best \\'RATED\\\\n \\'RATED\\\\n \\'RATED\\\\n \\'RATED\\\\n \\'RATED\\\\n \\'RATED\\\\n \\'RATED\\\\n \\'RATED\\\\n \\'RATED\\\\n \\'RATED\\\\n \\'RATED\\\\n \\'RATED\\\\n \\'RATED\\\\n \\'RATED\\\\n \\'RATED\\\\n \\'RATED\\\\n \\'RATED\\\\n \\'RATED\\\\n \\'RATED\\\\n \\'RATED\\\\n \\'RATED\\\\n \\'RATED\\\\n \\'RATED\\\\n \\'RATED\\\\n \\'RATED\\\\n \\'RATED\\\\n \\'RATED\\\\n \\'RATED\\\\n \\'RATED\\\\n \\'RATED\\\\n \\'RATED\\\\n \\'RATED\\\\n \\'RATED\\\\n \\'RATED\\\\n \\'RATED\\\\n \\'RATED\\\\n \\'RATED\\\\n \\'RATED\\\\n \\'RATED\\\\n \\'RATED\\\\n \\'RATED\\\\n \\'RATED\\\\n \\'RATED\\\\n \\'RATED\\\\n \\'RATED\\\\n \\'RATED\\\\n \\'RATED\\\\n \\'RATED\\\\n \\'RATED\\\\n \\'RATED\\\\n \\'RATED\\\\n \\'RATED\\\\n \\'RATED\\\\n \\'RATED\\\\n \\'RATED\\\\n \\'RATED\\\\n ( ( ( ( (\\'Rated (\\'Rated (\\'Rated (\\'Rated (\\'Rated (\\'Rated (\\'Rated (\\'Rated (\\'Rated (\\'Rated (\\'Rated (\\'Rated (\\'Rated (\\'Rated (\\'Rated (\\'Rated (\\'Rated (\\'Rated (\\'Rated (\\'Rated (\\'Rated (\\'Rated (\\'Rated (\\'Rated (\\'Rated (\\'Rated (\\'Rated (\\'Rated (\\'Rated (\\'Rated (\\'Rated (\\'Rated (\\'Rated (\\'Rated (\\'Rated (\\'Rated (\\'Rated (\\'Rated (\\'Rated (\\'Rated (\\'Rated (\\'Rated (\\'Rated (\\'Rated (\\'Rated (\\'Rated (\\'Rated (\\'Rated (\\'Rated (\\'Rated (\\'Rated (\\'Rated (\\'Rated (\\'Rated (\\'Rated (\\'Rated (\\'Rated (\\'Rated (\\'Rated (\\'Rated (\\'Rated (\\'Rated (\\'Rated (\\'Rated (\\'Rated (\\'Rated (\\'Rated (\\'Rated (\\'Rated (\\'Rated (\\'Rated (\\'Rated (\\'Rated (\\'Rated (\\'Rated (\\'Rated (\\'Rated (including (including (including ) - - - - - . . . . . . . . . . . . . .\\') .\\') .\\') .\\') .\\') .\\') .\\') .. .. .. .. .. .. .. .. .. .. ..\") ..\") ..\") .Only .Only .Only .Only .We .We .We 1 1 1 1.0\\' 1.0\\' 1.0\\' 1.0\\' 10 15 2 2 2 2 2 2 2 2.0\\' 2.0\\' 2.0\\' 2.0\\' 2.5/5. 2.5/5. 2.5/5. 2/5\") 2/5\\\\nBeer 2/5\\\\nBeer 2/5\\\\nBeer 2/5\\\\nBeer 3 3 3 3 3 3 3 3 3.0\\' 3.0\\' 3.0\\' 3.0\\' 3.0\\' 3.0\\' 3.0\\' 3.0\\' 3.0\\' 3.0\\' 3.0\\' 3.0\\' 3.0\\' 3.0\\' 3.0\\' 3.0\\' 3.0\\' 3.0\\' 3.0\\' 3.0\\' 3.0\\' 3.0\\' 3.0\\' 3.5/5\\\\n\\\\nBeen 3.5/5\\\\n\\\\nBeen 3.5/5\\\\n\\\\nBeen 3.5/5\\\\n\\\\nBeen 3/5\\') 3/5\\') 3/5\\') 3/5\\') 3/5\\\\nAmbiance 3/5\\\\nAmbiance 3/5\\\\nAmbiance 3/5\\\\nAmbiance 3/5\\\\nDrinks 3/5\\\\nDrinks 3/5\\\\nDrinks 3/5\\\\nDrinks 30 4.0\\' 4.0\\' 4.0\\' 4.0\\' 4.0\\' 4.0\\' 4.0\\' 4.0\\' 4.0\\' 4.0\\' 4.0\\' 4.0\\' 4.0\\' 4.0\\' 4.0\\' 4.0\\' 4.0\\' 4.0\\' 4.0\\' 4.0\\' 4.0\\' 4.0\\' 4.0\\' 4.0\\' 4.0\\' 4.0\\' 4.0\\' 4.0\\' 4.0\\' 4.0\\' 4.0\\' 4.0\\' 4.0\\' 4/5 4/5 4/5 4/5 4/5 4/5 4/5\\\\nBeer 4/5\\\\nBeer 4/5\\\\nBeer 4/5\\\\nBeer 4/5\\\\nFood 4/5\\\\nFood 4/5\\\\nFood 4/5\\\\nFood 4/5\\\\nService 4/5\\\\nService 4/5\\\\nService 4/5\\\\nService 4/5\\\\nValue 4/5\\\\nValue 4/5\\\\nValue 4/5\\\\nValue 5 5 5 5% 5% 5% 5% 5.0\\' 5.0\\' 5.0\\' 5.0\\' 5.0\\' 5.0\\' 5.0\\' 5.0\\' 5.0\\' 5.0\\' 5.0\\' 5.0\\' 5.0\\' 5.0\\' 5/5\\') 5/5\\') 5/5\\') 5/5\\\\nService 5/5\\\\nService 5/5\\\\nService 5/5\\\\nService 5mins. 5mins. 5mins. 5mins. 750 750 750 9 9 9 9 : : : : : : : : : : : : : : : : : : : : : : : : : : : : : :)\") :3/5\\\\nDrinks:5/5\\\\nAmbiance:3.5/5\") :3/5\\\\nDrinks:5/5\\\\nAmbiance:3.5/5\") :3/5\\\\nDrinks:5/5\\\\nAmbiance:3.5/5\") @ @ @ A A A A A A A A A A A A Add All All All All All All Also Amazing Amazing Amazing Amazing Ambience Ambience Ambience An And Bad Bad Bad Beer Beer Beer Beer Beer Beer Beer Beer Beer Beer Beer Beer Beer Beer Beer Beer Being Being Being Bengaluru Bengaluru Bengaluru Bengaluru Bengaluru Bengaluru Bengaluru\\\\nBeen Bengaluru\\\\nBeen Bengaluru\\\\nBeen Bhurji Bhurji Bhurji Bhurji Biryani Both Budweiser Budweiser Budweiser Budweiser. Burger Burger Burger But But But But Cafe Cafe Cafe Cafe Cafe Chicken Chicken Chicken Chicken Chicken Chicken Chicken Chicken Chicken Chicken Chilly Chilly Chilly Chilly Chilly Chilly Coupled Coupled Coupled Craft Craft Craft Dal Dal Dal Dal Even Everything Food Food Food Food Food Food Food Food Food Food Food Food Food Food Food Food Food Food Food- Food- Food- Food- For For For For For For French French French Friday Fries.\\\\nOverall Fries.\\\\nOverall Fries.\\\\nOverall Geist Geist Geist Geist Geist Get God God God Gold Gold Gold Gold Gravy Gravy Gravy Have Have Have Have I I I I I I I I I I I I I I I I I I I I I I I I I I I I I I I I I I I I I I I I I I I I I\\'m I\\'m If It It It It It It It It It It It It It It It\\'s Its ItÃ\\x83\\\\x83Ã\\x82\\\\x83Ã\\x83\\\\x82Ã\\x82\\\\x83Ã\\x83\\\\x83Ã\\x82\\\\x82Ã\\x83\\\\x82Ã\\x82Â¢Ã\\x83\\\\x83Ã\\x82\\\\x83Ã\\x83\\\\x82Ã\\x82\\\\x82Ã\\x83\\\\x83Ã\\x82\\\\x82Ã\\x83\\\\x82Ã\\x82\\\\x80Ã\\x83\\\\x83Ã\\x82\\\\x83Ã\\x83\\\\x82Ã\\x82\\\\x82Ã\\x83\\\\x83Ã\\x82\\\\x82Ã\\x83\\\\x82Ã\\x82\\\\x99s ItÃ\\x83\\\\x83Ã\\x82\\\\x83Ã\\x83\\\\x82Ã\\x82\\\\x83Ã\\x83\\\\x83Ã\\x82\\\\x82Ã\\x83\\\\x82Ã\\x82Â¢Ã\\x83\\\\x83Ã\\x82\\\\x83Ã\\x83\\\\x82Ã\\x82\\\\x82Ã\\x83\\\\x83Ã\\x82\\\\x82Ã\\x83\\\\x82Ã\\x82\\\\x80Ã\\x83\\\\x83Ã\\x82\\\\x83Ã\\x83\\\\x82Ã\\x82\\\\x82Ã\\x83\\\\x83Ã\\x82\\\\x82Ã\\x83\\\\x82Ã\\x82\\\\x99s ItÃ\\x83\\\\x83Ã\\x82\\\\x83Ã\\x83\\\\x82Ã\\x82\\\\x83Ã\\x83\\\\x83Ã\\x82\\\\x82Ã\\x83\\\\x82Ã\\x82Â¢Ã\\x83\\\\x83Ã\\x82\\\\x83Ã\\x83\\\\x82Ã\\x82\\\\x82Ã\\x83\\\\x83Ã\\x82\\\\x82Ã\\x83\\\\x82Ã\\x82\\\\x80Ã\\x83\\\\x83Ã\\x82\\\\x83Ã\\x83\\\\x82Ã\\x82\\\\x82Ã\\x83\\\\x83Ã\\x82\\\\x82Ã\\x83\\\\x82Ã\\x82\\\\x99s ItÃ\\x83\\\\x83Ã\\x82\\\\x83Ã\\x83\\\\x82Ã\\x82\\\\x83Ã\\x83\\\\x83Ã\\x82\\\\x82Ã\\x83\\\\x82Ã\\x82Â¢Ã\\x83\\\\x83Ã\\x82\\\\x83Ã\\x83\\\\x82Ã\\x82\\\\x82Ã\\x83\\\\x83Ã\\x82\\\\x82Ã\\x83\\\\x82Ã\\x82\\\\x80Ã\\x83\\\\x83Ã\\x82\\\\x83Ã\\x83\\\\x82Ã\\x82\\\\x82Ã\\x83\\\\x83Ã\\x82\\\\x82Ã\\x83\\\\x82Ã\\x82\\\\x99s ItÃ\\x83\\\\x83Ã\\x82\\\\x83Ã\\x83\\\\x82Ã\\x82\\\\x83Ã\\x83\\\\x83Ã\\x82\\\\x82Ã\\x83\\\\x82Ã\\x82Â¢Ã\\x83\\\\x83Ã\\x82\\\\x83Ã\\x83\\\\x82Ã\\x82\\\\x82Ã\\x83\\\\x83Ã\\x82\\\\x82Ã\\x83\\\\x82Ã\\x82\\\\x80Ã\\x83\\\\x83Ã\\x82\\\\x83Ã\\x83\\\\x82Ã\\x82\\\\x82Ã\\x83\\\\x83Ã\\x82\\\\x82Ã\\x83\\\\x82Ã\\x82\\\\x99s ItÃ\\x83\\\\x83Ã\\x82\\\\x83Ã\\x83\\\\x82Ã\\x82\\\\x83Ã\\x83\\\\x83Ã\\x82\\\\x82Ã\\x83\\\\x82Ã\\x82Â¢Ã\\x83\\\\x83Ã\\x82\\\\x83Ã\\x83\\\\x82Ã\\x82\\\\x82Ã\\x83\\\\x83Ã\\x82\\\\x82Ã\\x83\\\\x82Ã\\x82\\\\x80Ã\\x83\\\\x83Ã\\x82\\\\x83Ã\\x83\\\\x82Ã\\x82\\\\x82Ã\\x83\\\\x83Ã\\x82\\\\x82Ã\\x83\\\\x82Ã\\x82\\\\x99s ItÃ\\x83\\\\x83Ã\\x82\\\\x83Ã\\x83\\\\x82Ã\\x82\\\\x83Ã\\x83\\\\x83Ã\\x82\\\\x82Ã\\x83\\\\x82Ã\\x82Â¢Ã\\x83\\\\x83Ã\\x82\\\\x83Ã\\x83\\\\x82Ã\\x82\\\\x82Ã\\x83\\\\x83Ã\\x82\\\\x82Ã\\x83\\\\x82Ã\\x82\\\\x80Ã\\x83\\\\x83Ã\\x82\\\\x83Ã\\x83\\\\x82Ã\\x82\\\\x82Ã\\x83\\\\x83Ã\\x82\\\\x82Ã\\x83\\\\x82Ã\\x82\\\\x99s Keep Keep Keep Keep Kingfisher Kingfisher Kingfisher Lil Located Located Located Lovely Lovely Lovely Lovely Maggi Mahadevapura Mahadevapura Mahadevapura Makhani Makhani Makhani Makhani Mall Mall Mall Masala Masala Masala Mention Mention Mention Moderate. Moderate. Moderate. Moderate. Must My Nachos Nachos Nachos Nice Nice Nice Nice Nice Night Nit No No No No Nobody Nobody Nobody Not Not Not Not Not Not Not Not Not Not Of Ofcourse!!!!!!!!!!!!!!!!!!!!!!!!!!!!\\') Often Often Often Often On On Once Once Once Once One One One One Ordered Outdoor Outside Over Overall Overall Overall Overall Overfried Overfried Overfried Overfried Pakoda Paneer Paneer Pasta Pasta Pasta Pasta People Pitcher Pitcher Pitcher Place Place Place Platter(onion Premium Premium Premium Pretty Pretty Pretty Pretty Pretty Rajeev Rajen Rajen Rajen Road SERVICE. SERVICE. SERVICE. Saturday Saturday Saturday Selection Selection Selection Selection Service Service Service Service Service Service Service Should Situated Situated Situated Small Small Small So Specially Stadium Stadium Stadium Staff Staff Staff Staff Staff Staff Staff Style Style Style Suited Sunday Sunday Sunday Sunday Sunday Sunday Sunday Sunday THE THE THE Tap Thank Thanks The The The The The The The The The The The The The The The The The The The The The The The The The The The The The The The The The The The The The The The The The The The The Their Their Their Their There\\'s They They They They They They They They They They They Tired Tired Tired Tired To To To Too Too Too Too Too VR VR VR VR VR VR VR VR VR VR VR VR VR VR VR VR VR VR VR VR VR Very Very Very Very Voila We We We We We We We We We We We We We We We We We We We We We We We We We We We Went Which Whitefield Whitefield Whitefield Whitefield. Whoever Whoever Whoever Will Will Will Will Will Worry Worry Worry Worry Worth Worth Worth Worth You You Your Your Your Zomato Zomato Zomato Zomato Zomato Zomato Zomato Zomato Zomato [(\\'Rated \\\\nAmbience \\\\nAmbience \\\\nAmbience \\\\nFood \\\\nFood \\\\nFood \\\\n\\\\nService \\\\n\\\\nService \\\\n\\\\nService \\\\n\\\\nSpecial \\\\n\\\\nSpecial \\\\n\\\\nSpecial \\\\n\\\\nThe \\\\n\\\\nThe \\\\n\\\\nThe a a a a a a a a a a a a a a a a a a a a a a a a a a a a a a a a a a a a a a a a a a a a a a a a a a a a a a a a a a a a a a a a a a a a a a a a a a a a a a a a a a a a a a a a a a a a a a a a a a a a a a a a a a a a a a a able able able able about about about about about about about about about absolutely activity. activity. activity. activity. actually. actually. actually. after after afternoon afternoon afternoon afternoon afternoon. afternoon. afternoon. again again again?? air.\\\\nThe air.\\\\nThe air.\\\\nThe air.\\\\nThe all all all all all all all all all all all all all all all all...\\') alone. also also also also also also...kitchen also.\\\\n\\\\nOverall although although although always always always always always am am am am am am am am amazing amazing amazing amazing amazing amazing amazing amazing amazing amazing amazing. amazing.\\\\nFor ambiance ambiance ambiance ambiance ambiance ambiance ambiance ambience ambience ambience ambience ambience ambience ambience ambience ambience ambience ambience ambience ambience ambience ambience ambience ambience ambience ambience ambience ambience. ambience. ambience. ambience. an an an an an an and and and and and and and and and and and and and and and and and and and and and and and and and and and and and and and and and and and and and and and and and and and and and and and and and and and and and and and and and and and and and and and and and and and and and and and and and and and and and and and and and and and and and and and and and and and and and and and and and and and and and and and and and and and and and and and and and and and and and and and and and and and and and and and and and and and and and and and and and and and and and and and and and and and and and and and and and and and and and and and and and and and and and and and and andey andey andey andey annoying...n any any any any apart appealing appear appÃ\\x83\\\\x83Ã\\x82\\\\x83Ã\\x83\\\\x82Ã\\x82\\\\x83Ã\\x83\\\\x83Ã\\x82\\\\x82Ã\\x83\\\\x82Ã\\x82\\\\x83Ã\\x83\\\\x83Ã\\x82\\\\x83Ã\\x83\\\\x82Ã\\x82\\\\x82Ã\\x83\\\\x83Ã\\x82\\\\x82Ã\\x83\\\\x82Ã\\x82Â©tit arabiata arabiata arabiata arabiata are are are are are are are are are are are area area area area area area. around around around around...\\\\n\\\\nOverall around.\\\\nSeating around.\\\\nSeating around.\\\\nSeating around.\\\\nSeating arrangement arrangement arrangement arrangement arrangement. arrangement. arrangement. arrangements as as as as as as as as as as as as as as as as as as as as as as as as as as as as as as as as as as as ask ask ask ask ask ask ask ask. asked at at at at at at at at at atrocious attention attention attention attention available available available available. available. available. available. available.\\\\nComing average away away away away awesome awesome awesome awesome baad back back back back bad bad bad bad bad bad bad bar bar bar bar bar barbeque basically basically basically battery be be be be be be be be be be be be be be beautiful became became became became been been been been beer beer beer beer beer beer beer beer beer beer beer beer beer beer beer beer beer beer beer beer beer beer beer beer beer beer beer beer beer beer beer beer beer beer beer beer beer beer beer beer beer beer beer beer beer beer beer beer beer beer beer beer beer beer beer beer beer beer beer!\\\\nThat\\'s beer. beer. beer. beer. beer. beer. beer. beer. beer. beer. beer. beer.\\') beer...food beer.\\\\nStaters beer\\\\nOne beer\\\\nOne beer\\\\nOne beer\\\\nThe beer\\\\nThe beer\\\\nThe beers beers beers beers beers. beers. beers. beers. being best best best best best best best best better better better better better better better better big big big big bill bill bill bill biryani bit. bit. bit. bite bitter. bitter. bitter. bitter. blah blah blah blah blah blah both both bottled bottled bottled bottled bottled bottled bottled bottles bout boy! braised breathing breathing breathing breathing burger burger burger burger burgers burgers burgers burgers burgers. burgers. burgers. burji busy but but but but but but but but but but but but but but but but but but but but but but but but but buzzing buzzing buzzing buzzing buzzing by by by by cafe cafe cafe cafe cafe cafe cafe cafe cafe cafe cafe cafe cafe cafe cafe cafe cafe cafe cafe.\\') calcutta calcutta calcutta calcutta calcutta call. call. call. called called came came can can can can can can can can can can can can can can cannot cant case case case case catch catch catch catch charge charge charge charge charger cheap. cheap. cheap. chef chef chicken chicken chicken chicken chicken chicken chicken chicken chicken chicken chicken chicken chicken chicken chicken chicken chicken chicken chicken chicken chicken chicken chicken chicken chicken chicken chicken chicken chicken chicken chicken- chicken- chicken- chicken- chill.\") chilled chilled chilled chilled. chilli chilli chilli chilli chilli chilli chilling chillout chillout chillout chillout choices chomp chomp chomp chomp choose\\\\nSuperb church church church church clam classic classic classic classic close close close close cocktail....Thanks coke cold. cold. cold. cold. combination combo combo combo combo come come come come comes comes comes comfortable.\") comfortable.\") comfortable.\") comfortable.\") coming complaints complaints complaints conjusted...too content content content content contrary cooked cool cool cool cool cool cool cool cool cool. corner corner corner couldn\\'t course course\\\\nI courteous courteous courteous courteous courteous courteous courteous courteous courteous courtyard courtyard courtyard courtyard craft craft craft craft crammed crammed crammed crammed cramped craving created crisp. crisp. crisp. crisp. crispiness. crispyit crowd crowd crowd crowd crowded crowded crowded crowded crowded crowded crowded crowded.\\\\n\\\\nI crowded.\\\\n\\\\nI crowded.\\\\n\\\\nI crust customers\\') customers\\') customers\\') customers\\') customers.\\') customers.\\') customers.\\') customers.\\') damn damn damn darn decent definitely definitely definitely definitely definitely definitely definitely definitely definitely deliciousÃ\\x83\\\\x83Ã\\x82\\\\x83Ã\\x83\\\\x82Ã\\x82\\\\x83Ã\\x83\\\\x83Ã\\x82\\\\x82Ã\\x83\\\\x82Ã\\x82Â°Ã\\x83\\\\x83Ã\\x82\\\\x83Ã\\x83\\\\x82Ã\\x82\\\\x82Ã\\x83\\\\x83Ã\\x82\\\\x82Ã\\x83\\\\x82Ã\\x82\\\\x9fÃ\\x83\\\\x83Ã\\x82\\\\x83Ã\\x83\\\\x82Ã\\x82\\\\x82Ã\\x83\\\\x83Ã\\x82\\\\x82Ã\\x83\\\\x82Ã\\x82\\\\x98Ã\\x83\\\\x83Ã\\x82\\\\x83Ã\\x83\\\\x82Ã\\x82\\\\x82Ã\\x83\\\\x83Ã\\x82\\\\x82Ã\\x83\\\\x82Ã\\x82\\\\x8dÃ\\x83\\\\x83Ã\\x82\\\\x83Ã\\x83\\\\x82Ã\\x82\\\\x83Ã\\x83\\\\x83Ã\\x82\\\\x82Ã\\x83\\\\x82Ã\\x82Â°Ã\\x83\\\\x83Ã\\x82\\\\x83Ã\\x83\\\\x82Ã\\x82\\\\x82Ã\\x83\\\\x83Ã\\x82\\\\x82Ã\\x83\\\\x82Ã\\x82\\\\x9fÃ\\x83\\\\x83Ã\\x82\\\\x83Ã\\x83\\\\x82Ã\\x82\\\\x82Ã\\x83\\\\x83Ã\\x82\\\\x82Ã\\x83\\\\x82Ã\\x82\\\\x98Ã\\x83\\\\x83Ã\\x82\\\\x83Ã\\x83\\\\x82Ã\\x82\\\\x82Ã\\x83\\\\x83Ã\\x82\\\\x82Ã\\x83\\\\x82Ã\\x82\\\\x8dThis delightful delightful delightful delivering descent descent descent descent despite did didn\\'t didn\\'t didn\\'t didn\\'t didnt didnt didnt didnt didnÃ\\x83\\\\x83Ã\\x82\\\\x83Ã\\x83\\\\x82Ã\\x82\\\\x83Ã\\x83\\\\x83Ã\\x82\\\\x82Ã\\x83\\\\x82Ã\\x82Â¢Ã\\x83\\\\x83Ã\\x82\\\\x83Ã\\x83\\\\x82Ã\\x82\\\\x82Ã\\x83\\\\x83Ã\\x82\\\\x82Ã\\x83\\\\x82Ã\\x82\\\\x80Ã\\x83\\\\x83Ã\\x82\\\\x83Ã\\x83\\\\x82Ã\\x82\\\\x82Ã\\x83\\\\x83Ã\\x82\\\\x82Ã\\x83\\\\x82Ã\\x82\\\\x99t didnÃ\\x83\\\\x83Ã\\x82\\\\x83Ã\\x83\\\\x82Ã\\x82\\\\x83Ã\\x83\\\\x83Ã\\x82\\\\x82Ã\\x83\\\\x82Ã\\x82Â¢Ã\\x83\\\\x83Ã\\x82\\\\x83Ã\\x83\\\\x82Ã\\x82\\\\x82Ã\\x83\\\\x83Ã\\x82\\\\x82Ã\\x83\\\\x82Ã\\x82\\\\x80Ã\\x83\\\\x83Ã\\x82\\\\x83Ã\\x83\\\\x82Ã\\x82\\\\x82Ã\\x83\\\\x83Ã\\x82\\\\x82Ã\\x83\\\\x82Ã\\x82\\\\x99t didnÃ\\x83\\\\x83Ã\\x82\\\\x83Ã\\x83\\\\x82Ã\\x82\\\\x83Ã\\x83\\\\x83Ã\\x82\\\\x82Ã\\x83\\\\x82Ã\\x82Â¢Ã\\x83\\\\x83Ã\\x82\\\\x83Ã\\x83\\\\x82Ã\\x82\\\\x82Ã\\x83\\\\x83Ã\\x82\\\\x82Ã\\x83\\\\x82Ã\\x82\\\\x80Ã\\x83\\\\x83Ã\\x82\\\\x83Ã\\x83\\\\x82Ã\\x82\\\\x82Ã\\x83\\\\x83Ã\\x82\\\\x82Ã\\x83\\\\x82Ã\\x82\\\\x99t different different different disappointing disappointing disappointing disappointing. dish dish dish dish dish dish dish dishes do do do do do don\\'t don\\'t don\\'t done done?? done?? done?? done?? donÃ\\x83\\\\x83Ã\\x82\\\\x83Ã\\x83\\\\x82Ã\\x82\\\\x83Ã\\x83\\\\x83Ã\\x82\\\\x82Ã\\x83\\\\x82Ã\\x82Â¢Ã\\x83\\\\x83Ã\\x82\\\\x83Ã\\x83\\\\x82Ã\\x82\\\\x82Ã\\x83\\\\x83Ã\\x82\\\\x82Ã\\x83\\\\x82Ã\\x82\\\\x80Ã\\x83\\\\x83Ã\\x82\\\\x83Ã\\x83\\\\x82Ã\\x82\\\\x82Ã\\x83\\\\x83Ã\\x82\\\\x82Ã\\x83\\\\x82Ã\\x82\\\\x99t door door.\\\\n\\\\nI door.\\\\n\\\\nI door.\\\\n\\\\nI door.\\\\n\\\\nI dose dose dose dose downpour downpour downpour draught draught draught draught draught draught drink drink drink drinks drinks drinks drinks drinks drinks drinks...was due due due due due due due due each). each). each). egg egg egg egg egg egg empty end end end end enjoy enjoy enjoy enjoy enter entrance environment especially especially especially especially especially especially especially even evening evening evening evening. evening. evening. evening. evening... every expect expect expect expected. expected. expected. experience experience experience experience experience experience experience experience experience experience experience...dint exterior exterior exterior faces faces faces family. fancy fancy fancy faster. faster. faster. favourite feel feeling fest fest fest few few few few few few few few fill fill fill finally fine.\") first flavoured flavoured flavoured floks.... floor floor floor following- following- following- following- food food food food food food food food food food food food food food food food food food food food food food food food food food food food food food food food food food food food food food food food food food food food food food food food food. food...food food...really foodÃ\\x83\\\\x83Ã\\x82\\\\x83Ã\\x83\\\\x82Ã\\x82\\\\x83Ã\\x83\\\\x83Ã\\x82\\\\x82Ã\\x83\\\\x82Ã\\x82Â°Ã\\x83\\\\x83Ã\\x82\\\\x83Ã\\x83\\\\x82Ã\\x82\\\\x82Ã\\x83\\\\x83Ã\\x82\\\\x82Ã\\x83\\\\x82Ã\\x82\\\\x9fÃ\\x83\\\\x83Ã\\x82\\\\x83Ã\\x83\\\\x82Ã\\x82\\\\x82Ã\\x83\\\\x83Ã\\x82\\\\x82Ã\\x83\\\\x82Ã\\x82\\\\x98Ã\\x83\\\\x83Ã\\x82\\\\x83Ã\\x83\\\\x82Ã\\x82\\\\x82Ã\\x83\\\\x83Ã\\x82\\\\x82Ã\\x83\\\\x82Ã\\x82\\\\x80 foodÃ\\x83\\\\x83Ã\\x82\\\\x83Ã\\x83\\\\x82Ã\\x82\\\\x83Ã\\x83\\\\x83Ã\\x82\\\\x82Ã\\x83\\\\x82Ã\\x82Â°Ã\\x83\\\\x83Ã\\x82\\\\x83Ã\\x83\\\\x82Ã\\x82\\\\x82Ã\\x83\\\\x83Ã\\x82\\\\x82Ã\\x83\\\\x82Ã\\x82\\\\x9fÃ\\x83\\\\x83Ã\\x82\\\\x83Ã\\x83\\\\x82Ã\\x82\\\\x82Ã\\x83\\\\x83Ã\\x82\\\\x82Ã\\x83\\\\x82Ã\\x82\\\\x98Ã\\x83\\\\x83Ã\\x82\\\\x83Ã\\x83\\\\x82Ã\\x82\\\\x82Ã\\x83\\\\x83Ã\\x82\\\\x82Ã\\x83\\\\x82Ã\\x82\\\\x80 foodÃ\\x83\\\\x83Ã\\x82\\\\x83Ã\\x83\\\\x82Ã\\x82\\\\x83Ã\\x83\\\\x83Ã\\x82\\\\x82Ã\\x83\\\\x82Ã\\x82Â°Ã\\x83\\\\x83Ã\\x82\\\\x83Ã\\x83\\\\x82Ã\\x82\\\\x82Ã\\x83\\\\x83Ã\\x82\\\\x82Ã\\x83\\\\x82Ã\\x82\\\\x9fÃ\\x83\\\\x83Ã\\x82\\\\x83Ã\\x83\\\\x82Ã\\x82\\\\x82Ã\\x83\\\\x83Ã\\x82\\\\x82Ã\\x83\\\\x82Ã\\x82\\\\x98Ã\\x83\\\\x83Ã\\x82\\\\x83Ã\\x83\\\\x82Ã\\x82\\\\x82Ã\\x83\\\\x83Ã\\x82\\\\x82Ã\\x83\\\\x82Ã\\x82\\\\x80 foodÃ\\x83\\\\x83Ã\\x82\\\\x83Ã\\x83\\\\x82Ã\\x82\\\\x83Ã\\x83\\\\x83Ã\\x82\\\\x82Ã\\x83\\\\x82Ã\\x82Â°Ã\\x83\\\\x83Ã\\x82\\\\x83Ã\\x83\\\\x82Ã\\x82\\\\x82Ã\\x83\\\\x83Ã\\x82\\\\x82Ã\\x83\\\\x82Ã\\x82\\\\x9fÃ\\x83\\\\x83Ã\\x82\\\\x83Ã\\x83\\\\x82Ã\\x82\\\\x82Ã\\x83\\\\x83Ã\\x82\\\\x82Ã\\x83\\\\x82Ã\\x82\\\\x98Ã\\x83\\\\x83Ã\\x82\\\\x83Ã\\x83\\\\x82Ã\\x82\\\\x82Ã\\x83\\\\x83Ã\\x82\\\\x82Ã\\x83\\\\x82Ã\\x82\\\\x80 for for for for for for for for for for for for for for for for for for for for for for for for for for for for for for for for for for for for for for for for for for for for for for for for for for for for for for for for for for for for for for for found found french fresh fresh fresh fresh fresh fresh fresh fresh fresh fresh fresh fresh fresh fresh fresh fresh fried fried fried fried friend friend friend friendly friendly friendly friendly friendly friendly friendly friendly friendly friendly friendly friendly friendly friendly friendly friendly friendly.\\\\nFor friends friends friends friends friends friends friends friends. fries from from from from from from from from from from from from from from from from funda(well funda(well funda(well funda(well furnitureÃ\\x83\\\\x83Ã\\x82\\\\x83Ã\\x83\\\\x82Ã\\x82\\\\x83Ã\\x83\\\\x83Ã\\x82\\\\x82Ã\\x83\\\\x82Ã\\x82Â¢Ã\\x83\\\\x83Ã\\x82\\\\x83Ã\\x83\\\\x82Ã\\x82\\\\x82Ã\\x83\\\\x83Ã\\x82\\\\x82Ã\\x83\\\\x82Ã\\x82\\\\x80Ã\\x83\\\\x83Ã\\x82\\\\x83Ã\\x83\\\\x82Ã\\x82\\\\x82Ã\\x83\\\\x83Ã\\x82\\\\x82Ã\\x83\\\\x82Ã\\x82\\\\x99s.. furnitureÃ\\x83\\\\x83Ã\\x82\\\\x83Ã\\x83\\\\x82Ã\\x82\\\\x83Ã\\x83\\\\x83Ã\\x82\\\\x82Ã\\x83\\\\x82Ã\\x82Â¢Ã\\x83\\\\x83Ã\\x82\\\\x83Ã\\x83\\\\x82Ã\\x82\\\\x82Ã\\x83\\\\x83Ã\\x82\\\\x82Ã\\x83\\\\x82Ã\\x82\\\\x80Ã\\x83\\\\x83Ã\\x82\\\\x83Ã\\x83\\\\x82Ã\\x82\\\\x82Ã\\x83\\\\x83Ã\\x82\\\\x82Ã\\x83\\\\x82Ã\\x82\\\\x99s.. furnitureÃ\\x83\\\\x83Ã\\x82\\\\x83Ã\\x83\\\\x82Ã\\x82\\\\x83Ã\\x83\\\\x83Ã\\x82\\\\x82Ã\\x83\\\\x82Ã\\x82Â¢Ã\\x83\\\\x83Ã\\x82\\\\x83Ã\\x83\\\\x82Ã\\x82\\\\x82Ã\\x83\\\\x83Ã\\x82\\\\x82Ã\\x83\\\\x82Ã\\x82\\\\x80Ã\\x83\\\\x83Ã\\x82\\\\x83Ã\\x83\\\\x82Ã\\x82\\\\x82Ã\\x83\\\\x83Ã\\x82\\\\x82Ã\\x83\\\\x82Ã\\x82\\\\x99s.. furnitureÃ\\x83\\\\x83Ã\\x82\\\\x83Ã\\x83\\\\x82Ã\\x82\\\\x83Ã\\x83\\\\x83Ã\\x82\\\\x82Ã\\x83\\\\x82Ã\\x82Â¢Ã\\x83\\\\x83Ã\\x82\\\\x83Ã\\x83\\\\x82Ã\\x82\\\\x82Ã\\x83\\\\x83Ã\\x82\\\\x82Ã\\x83\\\\x82Ã\\x82\\\\x80Ã\\x83\\\\x83Ã\\x82\\\\x83Ã\\x83\\\\x82Ã\\x82\\\\x82Ã\\x83\\\\x83Ã\\x82\\\\x82Ã\\x83\\\\x82Ã\\x82\\\\x99s.. garden garden garden garden gatherings.\\') gatherings.\\') gatherings.\\') gave gave generally generously get get get get get get get get get get get gets gets gets getting give giving glass go go go go go go go go go go-to go.\\\\n\\\\nFood go.\\\\n\\\\nFood go.\\\\n\\\\nFood gold gold gold gold.\\\\nOverall gold.\\\\nOverall gold.\\\\nOverall gold.\\\\nOverall good good good good good good good good good good good good good good good good good good good good good good good good good good good good good good good good good good good good good good good good good good good good good good good good. good. good. good. good. good. good. good. good. good. good. good. good. good. good. good. good. good. good. good. good. good. good. good.\") good.\\\\n\\\\nThey good.\\\\n\\\\nThey good.\\\\n\\\\nThey good.\\\\n\\\\nThis good\\\\nFood got governmentÃ\\x83\\\\x83Ã\\x82\\\\x83Ã\\x83\\\\x82Ã\\x82\\\\x83Ã\\x83\\\\x83Ã\\x82\\\\x82Ã\\x83\\\\x82Ã\\x82Â¢Ã\\x83\\\\x83Ã\\x82\\\\x83Ã\\x83\\\\x82Ã\\x82\\\\x82Ã\\x83\\\\x83Ã\\x82\\\\x82Ã\\x83\\\\x82Ã\\x82\\\\x80Ã\\x83\\\\x83Ã\\x82\\\\x83Ã\\x83\\\\x82Ã\\x82\\\\x82Ã\\x83\\\\x83Ã\\x82\\\\x82Ã\\x83\\\\x82Ã\\x82\\\\x99s governmentÃ\\x83\\\\x83Ã\\x82\\\\x83Ã\\x83\\\\x82Ã\\x82\\\\x83Ã\\x83\\\\x83Ã\\x82\\\\x82Ã\\x83\\\\x82Ã\\x82Â¢Ã\\x83\\\\x83Ã\\x82\\\\x83Ã\\x83\\\\x82Ã\\x82\\\\x82Ã\\x83\\\\x83Ã\\x82\\\\x82Ã\\x83\\\\x82Ã\\x82\\\\x80Ã\\x83\\\\x83Ã\\x82\\\\x83Ã\\x83\\\\x82Ã\\x82\\\\x82Ã\\x83\\\\x83Ã\\x82\\\\x82Ã\\x83\\\\x82Ã\\x82\\\\x99s governmentÃ\\x83\\\\x83Ã\\x82\\\\x83Ã\\x83\\\\x82Ã\\x82\\\\x83Ã\\x83\\\\x83Ã\\x82\\\\x82Ã\\x83\\\\x82Ã\\x82Â¢Ã\\x83\\\\x83Ã\\x82\\\\x83Ã\\x83\\\\x82Ã\\x82\\\\x82Ã\\x83\\\\x83Ã\\x82\\\\x82Ã\\x83\\\\x82Ã\\x82\\\\x80Ã\\x83\\\\x83Ã\\x82\\\\x83Ã\\x83\\\\x82Ã\\x82\\\\x82Ã\\x83\\\\x83Ã\\x82\\\\x82Ã\\x83\\\\x82Ã\\x82\\\\x99s governmentÃ\\x83\\\\x83Ã\\x82\\\\x83Ã\\x83\\\\x82Ã\\x82\\\\x83Ã\\x83\\\\x83Ã\\x82\\\\x82Ã\\x83\\\\x82Ã\\x82Â¢Ã\\x83\\\\x83Ã\\x82\\\\x83Ã\\x83\\\\x82Ã\\x82\\\\x82Ã\\x83\\\\x83Ã\\x82\\\\x82Ã\\x83\\\\x82Ã\\x82\\\\x80Ã\\x83\\\\x83Ã\\x82\\\\x83Ã\\x83\\\\x82Ã\\x82\\\\x82Ã\\x83\\\\x83Ã\\x82\\\\x82Ã\\x83\\\\x82Ã\\x82\\\\x99s great great great great great great great great great great great great great great..\\\\n\\\\nService great\\\\nMusic ground ground ground group group group group groups groups groups groups groups.\\') groups.\\') groups.\\') groups.\\') gst. gst. gst. gst. guy guy guys had had had had had had had had had had had had had had had had had had had had had had had had had had had had had. had.. half hangout hangout happily happily happily happily happy happy happy happy happy happy happy happy hariyali hariyali has has has has has has has have have have have have have have have have have have have have have have have have have have have have have have have have have have have have have have have have have have have have have have have have have have have having helpless hence hence hence here here here here here here here here here here here here here here here here here here here here here here here here here here here here here high high high high highly highly highly highly highly highly hits honest honest honest honey hoped. hoped. hoped. hoped. hot hot hot hot hours hours hours how how however however however however however however however however however however however hr hulk(veg hulk(veg hulk(veg hulk(veg hungry\\\\nValue hungry\\\\nValue hungry\\\\nValue hungry\\\\nValue i idea idea idea idea ideal ideal ideal ideal ideal ideal ideal ideal ideas if if if if if if if if if if if if if if if if if if imagine impressed in in in in in in in in in in in in in in in in in in in in in in in in in in in in in in in in in in in in in included:\\\\nNachos including including indoor indoor indoor indoor indoor indoor indoor indoor indoor indoor indoor innovative inside inside inside inside inside inside inside inside inside inspire inspire inspire inspire interested interior interior interior interior into into into into is is is is is is is is is is is is is is is is is is is is is is is is is is is is is is is is is is is is is is is is is is is is is is is is is is is is is is is is is is is is is is is is is is is is is is is is is is is is is is is is is is is is is is is is is is is is is is is is is is is is is is is is is is is is is is is is is is is is is is is is is is is is is is is is is is is it it it it it it it it it it it it it it it it it it it it it it it it it it it!!!!!\\') it\\'s it\\'s it\\'s it\\'s it\\'s it\\'s it\\'s it\\'s it\\'s it\\'s it\\'s it\\'s it. it.\") it..the item its just just just just just just just just just just k ka ka ka ka keep keep keep keep keshar ketchup.\\\\n\\\\nAmbiance ketchup.\\\\n\\\\nAmbiance ketchup.\\\\n\\\\nAmbiance ketchup.\\\\n\\\\nAmbiance kids kids kids kids kind kind kind kitchen know know knowledge kohliwada kohliwada kohliwada kohliwada lack lacked lacked lacked lacked lacked lagged lagged lagged largest largest largest largest late late layer lazy least left left left less less less less less less like like like like like like like like like like like like like like like like like like like like like like like like like like like like like like like like like liked liked liked likes likes likes liking liking liking liking lime lime lime lime lime lime lime limited limited limited literally little little little little little little little little little little little little located located located located located location long long long long longer lot lots loved lovely lovely. lovely. lovely. lovers lovers lovers lovers.\\\\nGreat lovers.\\\\nGreat lovers.\\\\nGreat lovers.\\\\nGreat lunch made made made made made made made made made main make make make make make makes makes makes makhani makhani makhani makhani making making mall mall mall mall mall mall mall mall mall mall mall. mall. mall. mall. mall. mall. mall. manage managed managed managed manager manager manager mandate mandate mandate mandate mark mark mark mark. mark. mark. marvellouswhich masala mashed mashed mashed me me me.\\') me.\\') me.\\') meh. meh. meh. menu menu menu menu menu menu menu menu. menu. menu. mins mins minting minting minting minting minutes. money money money money money money money money money money- money- money- money- more more more more more more mosquito most much much much much much much much much much much much. much...we mug mug mug mug multiple must must must must must must must must must must must my my my my my my my my my my my my n n n n n n n n n n n n n nachos nachos nachos nachos nacos name name name nd never nice nice nice nice nice nice nice nice nice nice nice nice nice nice nice nice nice nice nice nice nice nice nice. nice...I night. night. night. night...\\\\n\\\\nWell night..waited no no no no no no. no. no. not not not not not not not not not not not not not not not not not not not not not not not not not not not not not not not not not not not not not not. not. not. not. number number number ocktober ocktober ocktober of of of of of of of of of of of of of of of of of of of of of of of of of of of of of of of of of of of of of of of of of of of of of of of of of of of of of of of of of of of of of of of of of of of of of of of of of of of of of of of of of of of of of of of of of of of of of of of of of of of oh ok.. ok.\\\\n\\\\nNOW ok.\\\\n\\\\nNOW ok.\\\\n\\\\nNOW ok\\\\nService ok\\\\nService ok\\\\nService okay on on on on on on on on on on on on on on on on on on on on on on on on on on on on on on one one one one one one one one one one one one one one one.. ones ones ones onion onion onion onion only only only only only opened options options options options options options options options. or or or or or or or orange orange orange order order order order order/visit ordered ordered ordered ordered ordered ordered ordered ordered ordered ordered ordered ordered ordered ordered ordered ordered ordered ordered ordered ordered ordered ordered ordered ordered ordered ordered ordered ordered ordered ordered ordered ordered ordered ordered.\\') ordered.\\') ordered.\\') orders orders...no original other other other other other other other our our our our out out out out out out outdoor outdoor outdoor outdoor outdoor outdoor outdoor outdoor outdoor outdoor outdoor outer outside outside outside outside outside outside outside outside outside outside outside outside outside outside outside outside outside over overall overall overall overall ow packed.. palette.\\\\nAmbience- palette.\\\\nAmbience- palette.\\\\nAmbience- palette.\\\\nAmbience- particular particular particular pathetic pathetic pathetic pay pay pay pay paying paying paying paying peanut people people people people people people people pepperoni pepperoni pepperoni pepperoni per per per perfect.\\\\nPortion person persons) persons) persons) pieces pizza pizza pizza pizza pizza pizza pizza pizza pizza pizza pizza pizza... pizza..but pizza\\\\nEgg pizzas pizzas pizzas pizzas pizzas pizzas. place place place place place place place place place place place place place place place place place place place place place place place place place place place place place place place place place place place place place place place place place place place place place place place place place place place place place place place place place place place place place place place place place place place place place place place place place place place place place place place place place place. place. places places places planning plate platter platter platter platter platter) platter) platter) platter) platter.\\\\nOverall platter.\\\\nOverall platter.\\\\nOverall pocket pocket pocket polite polite polite polite politely popped popular popular popular potato potato; potato; potato; potatoes) precious presented pretty pretty pretty pretty pretty pretty pretty pretty pretty pretty pretty pretty pretty pretty price price price priced. probably probably probably probably professional. professional. professional. professional. provide provide provide provide providing providing pub pub. pub. pub. quaintness\\\\nLove quality quality quality quality quality quantity quantity quick quick quick quick quick quite quite quite quite quite quite quite rain rain rain rain rate rate rate rating.. reach reach reach really really really really really really really really really really really really really really really really really really really reasonably recommend recommend recommended recommended recommended recommended. recommended. recommended. recommended. recommended.\\') refreshing refreshing refreshing refreshing regret regular relax.\\\\nSo relax.\\\\nSo relax.\\\\nSo remind remind remind remind remind remind remind remind remind restaurant restaurant restaurant restaurant restaurant restaurant restaurant restaurant restaurant.\\\\nWe revisit revisit revisit revisit right right right right right rings rings rings rings rings rolls rolls. rolls. rolls. room room room roti. roti. roti. rs rs rs salt salt salt salt same.. samwhere saturday saturday saturday sausages sausages sausages savior. savior. savior. say say say say say say scenic scenic scenic scrumptious scrumptious scrumptious scrumptious seat seated seated seated seated seated seated seated seated seating seating seating seating seating seating seating seating seating seating seating seating seating seating seating seating seating seating seating seating seating seating seating seating. seating. seating. seatings second see see see see see seem seem seem seems seems seems seems selection selections selections selections selections serve serve serve serve served served served served servers servers servers servers servers servers servers servers servers serves serves serves service service service service service service service service service service service service service service service service service service service service service service service service service service service service- service- service- service- service. service. service. service.\\\\n\\\\nWent service.\\\\n\\\\nWent service.\\\\n\\\\nWent serving set setting setting\\\\nBest shift shopping shopping shopping shopping shopping shops should should side side side side similar similar similar similar simply simply simply simply single sit sit sit sitting sitting sitting sitting sitting sitting sitting sitting sitting sitting sitting sitting situation.\\\\n\\\\nChilli skins sliders.\\\\nThe sliders.\\\\nThe sliders.\\\\nThe sliders.\\\\nThe slow slow slow slow slow slow slow slow. slow. slow. slow. slow.\\') slow.\\') slow.\\') slow... slow...have slow..no small small small small small small small small small small small small small small small small small small small small small small small small small small smoke smoking snacks so so so so so so so so so so so so so social social social social soda soda soda soda.\\\\nThe soda.\\\\nThe soda.\\\\nThe soda.\\\\nThe solely solely solely solely some some some some some some some some some some some some something something something something soon sourness sourness sourness sourness space space space space spoons spoons spoons spoons spree\\\\nWe spring spring spring spring staff staff staff staff staff staff. staff. staff. staff. staff. staff. staff. staff\\\\nFood staff\\\\nFood staff\\\\nFood star star star star.\\\\nMy star.\\\\nMy star.\\\\nMy starters starters starters starters starters starters\\\\nPeppy starters\\\\nVeg steaks steaks steaks steel.\\\\nCustomer steel.\\\\nCustomer steel.\\\\nCustomer steel.\\\\nCustomer still still still stock stock stock stole stole stole stomach stomach stomach street street street street strewn stroll stroll stroll stroll strong strong strong strong strongly stuff stuff stuff stuff\\\\n\\\\nFood stuff\\\\n\\\\nFood stuff\\\\n\\\\nFood style succulent such suggested sunday sunday sunday sunday sunday super super. supreme sure surprise table table table table table table table...Good tables tables tables tables take take take takes takes takes takes taking talking talks. talks. talks. tangri tangri. tangy tangy tangy tangy tap\\\\nThe taste taste taste taste taste taste. taste. taste. taste. taste. taste. tasted tasted tasted tasted tasted tasted tasted tasty tasty. tasty. tasty. tasty. tasty. tasty. tasty. tasty.\\\\nMust terms test test test tgere than than than than than than thanks thanks thanks thanks that that that that that that that that that that that that that that that that that that that that that that that that.\\\\n\\\\nService the the the the the the the the the the the the the the the the the the the the the the the the the the the the the the the the the the the the the the the the the the the the the the the the the the the the the the the the the the the the the the the the the the the the the the the the the the the the the the the the the the the the the the the the the the the the the the the the the the the the the the the the the the the the the the the the the the the the the the the the the the the the the the the the the the the the the the the the the the the the the the the the the the the the the the the the the the the the the the the the the the the the the the the the the the the the the the the the their their their their their their their their their their their their their their their their their their their their their their their their them them them them them them them them them them them them them them them them them them them them them them them them them them them them them then then then then then there there there there there there there there there there there there there there.\") there\\\\nZomato there\\\\nZomato there\\\\nZomato these they they they they they they they they they they they they they they they they they they they thin thing thing thing thing thing thing thing thing thing thing thing thing things things things things think this this this this this this this this this this this this this this this this this this this this this this this this this this this this this this this though. though. though. though. though.\\') though.\\') though.\\') till time time time time time time time time time\\')] time.\\\\n\\\\nWe times times times times times times times times times... tired tissues tissues tissues tissues to to to to to to to to to to to to to to to to to to to to to to to to to to to to to to to to to to to to to to to to to to to to to to to to to to to to to to to to to to to to to to to to to to to to to to to to to to to to to to to to to to to to to to to to to to to to to to to to to to to to to to to to to to to to to to to to to to to to to to to to to to to to to to to to to to to to to toast. toast. toast. toast. too too too too too too too too too too too too too too too. too. too. took top top top top top towes towes towes town... tried tried tried tried tried trio true.\\\\nI try try try try try try try try try try.\") try.\\\\nBeer u unwind\\') unwind\\') unwind\\') up up up up up up up up up up up up up up up up up up up up up.. upto upto upto upto us us us used useless using varients varients varients varieties varieties varieties varieties veg veg vegetable vegetable vegetable vegetarian vegetarian vegetarian verities verities verities very very very very very very very very very very very very very very very very very very very very very very very very very very vicinity vicinity vicinity vicinity vinegary vinegary vinegary vinegary visit visit visit visit visit visit visit visit visit!\\\\nbon visited visited visited visited visiting visiting visiting visiting vr wait wanna want want want want want wanted wanted wanted wanted wanted was was was was was was was was was was was was was was was was was was was was was was was was was was was was was was was was was was was was was was was was was was was was was was was was was was was was was was was was was was was was was was was was was was was was was was was was was was was was was was was was was was was was was was was was was was was was waste water water. water. water. water. way way way way way way we we we we we we we we we we we we we we we we we we we we we we we we we we we we we we we we we we we we we we we we weather weather weather weekday weekend.\\\\nService weekends. well well well well well well well well well well well well well.Dahi well.\\\\nHad well.\\\\nHad well.\\\\nHad well.\\\\nHad well.\\\\nI well.\\\\nI well.\\\\nI went went were were were were were were were were were were were were were were were were were were were were were were were were were were were were were were were were were were were were were were were what what what what whatever wheat wheat wheat when when when when whenever whenever whenever whenever where where where where where where whereas whereas whereas which which which which which which which which which which which which which which which which which which which which which while while while while who who who who who whole why why why why why will will will will will will wine wings wings wings wings wings wings wings wings wings- wings- wings- wings- wings... winner!\\\\n\\\\ntheuncliched.com\\') with with with with with with with with with with with with with with with with with with with with with with with with with with with with with with with with with with with with with with with with with with with within within within within without wonderfully wonÃ\\x83\\\\x83Ã\\x82\\\\x83Ã\\x83\\\\x82Ã\\x82\\\\x83Ã\\x83\\\\x83Ã\\x82\\\\x82Ã\\x83\\\\x82Ã\\x82Â¢Ã\\x83\\\\x83Ã\\x82\\\\x83Ã\\x83\\\\x82Ã\\x82\\\\x82Ã\\x83\\\\x83Ã\\x82\\\\x82Ã\\x83\\\\x82Ã\\x82\\\\x80Ã\\x83\\\\x83Ã\\x82\\\\x83Ã\\x83\\\\x82Ã\\x82\\\\x82Ã\\x83\\\\x83Ã\\x82\\\\x82Ã\\x83\\\\x82Ã\\x82\\\\x99t wonÃ\\x83\\\\x83Ã\\x82\\\\x83Ã\\x83\\\\x82Ã\\x82\\\\x83Ã\\x83\\\\x83Ã\\x82\\\\x82Ã\\x83\\\\x82Ã\\x82Â¢Ã\\x83\\\\x83Ã\\x82\\\\x83Ã\\x83\\\\x82Ã\\x82\\\\x82Ã\\x83\\\\x83Ã\\x82\\\\x82Ã\\x83\\\\x82Ã\\x82\\\\x80Ã\\x83\\\\x83Ã\\x82\\\\x83Ã\\x83\\\\x82Ã\\x82\\\\x82Ã\\x83\\\\x83Ã\\x82\\\\x82Ã\\x83\\\\x82Ã\\x82\\\\x99t wonÃ\\x83\\\\x83Ã\\x82\\\\x83Ã\\x83\\\\x82Ã\\x82\\\\x83Ã\\x83\\\\x83Ã\\x82\\\\x82Ã\\x83\\\\x82Ã\\x82Â¢Ã\\x83\\\\x83Ã\\x82\\\\x83Ã\\x83\\\\x82Ã\\x82\\\\x82Ã\\x83\\\\x83Ã\\x82\\\\x82Ã\\x83\\\\x82Ã\\x82\\\\x80Ã\\x83\\\\x83Ã\\x82\\\\x83Ã\\x83\\\\x82Ã\\x82\\\\x82Ã\\x83\\\\x83Ã\\x82\\\\x82Ã\\x83\\\\x82Ã\\x82\\\\x99t wood wood wood wood work.\\') work.\\') work.\\') work.\\') world world world worth would would would would would would would would would would would would would would would would would would you you you you you you you you you you you you you you you you you you you you you you you you you you you you you you you you you you you you you you you you you you\\'re you\\'ve you\\'ve you\\'ve you\\'ve your your your your your yum\\\\nService yum\\\\nThank yumm. yumm. yumm. yummy yummy yummy yummy.\\\\n\\\\nDo zomato zone..loved Ã\\x83\\\\x83Ã\\x82\\\\x83Ã\\x83\\\\x82Ã\\x82\\\\x83Ã\\x83\\\\x83Ã\\x82\\\\x82Ã\\x83\\\\x82Ã\\x82Â°Ã\\x83\\\\x83Ã\\x82\\\\x83Ã\\x83\\\\x82Ã\\x82\\\\x82Ã\\x83\\\\x83Ã\\x82\\\\x82Ã\\x83\\\\x82Ã\\x82\\\\x9fÃ\\x83\\\\x83Ã\\x82\\\\x83Ã\\x83\\\\x82Ã\\x82\\\\x82Ã\\x83\\\\x83Ã\\x82\\\\x82Ã\\x83\\\\x82Ã\\x82\\\\x98Ã\\x83\\\\x83Ã\\x82\\\\x83Ã\\x83\\\\x82Ã\\x82\\\\x82Ã\\x83\\\\x83Ã\\x82\\\\x82Ã\\x83\\\\x82Ã\\x82Â¬. Ã\\x83\\\\x83Ã\\x82\\\\x83Ã\\x83\\\\x82Ã\\x82\\\\x83Ã\\x83\\\\x83Ã\\x82\\\\x82Ã\\x83\\\\x82Ã\\x82Â°Ã\\x83\\\\x83Ã\\x82\\\\x83Ã\\x83\\\\x82Ã\\x82\\\\x82Ã\\x83\\\\x83Ã\\x82\\\\x82Ã\\x83\\\\x82Ã\\x82\\\\x9fÃ\\x83\\\\x83Ã\\x82\\\\x83Ã\\x83\\\\x82Ã\\x82\\\\x82Ã\\x83\\\\x83Ã\\x82\\\\x82Ã\\x83\\\\x82Ã\\x82\\\\x98Ã\\x83\\\\x83Ã\\x82\\\\x83Ã\\x83\\\\x82Ã\\x82\\\\x82Ã\\x83\\\\x83Ã\\x82\\\\x82Ã\\x83\\\\x82Ã\\x82Â¬. Ã\\x83\\\\x83Ã\\x82\\\\x83Ã\\x83\\\\x82Ã\\x82\\\\x83Ã\\x83\\\\x83Ã\\x82\\\\x82Ã\\x83\\\\x82Ã\\x82Â°Ã\\x83\\\\x83Ã\\x82\\\\x83Ã\\x83\\\\x82Ã\\x82\\\\x82Ã\\x83\\\\x83Ã\\x82\\\\x82Ã\\x83\\\\x82Ã\\x82\\\\x9fÃ\\x83\\\\x83Ã\\x82\\\\x83Ã\\x83\\\\x82Ã\\x82\\\\x82Ã\\x83\\\\x83Ã\\x82\\\\x82Ã\\x83\\\\x82Ã\\x82\\\\x98Ã\\x83\\\\x83Ã\\x82\\\\x83Ã\\x83\\\\x82Ã\\x82\\\\x82Ã\\x83\\\\x83Ã\\x82\\\\x82Ã\\x83\\\\x82Ã\\x82Â¬.',\n",
              "       '\"RATED\\\\n \"RATED\\\\n \"RATED\\\\n \"RATED\\\\n \"RATED\\\\n \"RATED\\\\n \"RATED\\\\n \"RATED\\\\n \"RATED\\\\n \"RATED\\\\n \"RATED\\\\n \"RATED\\\\n \"RATED\\\\n \"RATED\\\\n \"RATED\\\\n \"RATED\\\\n \"RATED\\\\n \"RATED\\\\n \"RATED\\\\n \"RATED\\\\n \"RATED\\\\n \"RATED\\\\n \\'RATED\\\\n \\'RATED\\\\n \\'RATED\\\\n \\'RATED\\\\n \\'RATED\\\\n \\'RATED\\\\n \\'RATED\\\\n \\'RATED\\\\n \\'RATED\\\\n \\'RATED\\\\n \\'RATED\\\\n \\'RATED\\\\n \\'RATED\\\\n \\'RATED\\\\n \\'RATED\\\\n \\'RATED\\\\n \\'RATED\\\\n \\'RATED\\\\n \\'RATED\\\\n \\'RATED\\\\n \\'RATED\\\\n \\'RATED\\\\n (\\'Rated (\\'Rated (\\'Rated (\\'Rated (\\'Rated (\\'Rated (\\'Rated (\\'Rated (\\'Rated (\\'Rated (\\'Rated (\\'Rated (\\'Rated (\\'Rated (\\'Rated (\\'Rated (\\'Rated (\\'Rated (\\'Rated (\\'Rated (\\'Rated (\\'Rated (\\'Rated (\\'Rated (\\'Rated (\\'Rated (\\'Rated (\\'Rated (\\'Rated (\\'Rated (\\'Rated (\\'Rated (\\'Rated (\\'Rated (\\'Rated (\\'Rated (\\'Rated (\\'Rated (\\'Rated (\\'Rated (\\'Rated (\\'Rated (\\'Rated (2+2). (a (one - 10 1030 1030 1030 15% 2+2 2.0\\' 2.0\\' 2.5/5\\\\nFood 2.5/5\\\\nPricing 2.5/5\\\\nService 2/5; 20 20% 20% 20% 3.0\\' 3.0\\' 3.0\\' 3.0\\' 3.0\\' 3.0\\' 3.0\\' 3.0\\' 3.0\\' 3.0\\' 3.0\\' 3.0\\' 3.0\\' 3.0\\' 3.0\\' 3.0\\' 3.0\\' 3.0\\' 3.0\\' 3.0\\' 3/5\\') 3/5.\") 3/5\\\\nVariety 4.0\\' 4.0\\' 4.0\\' 4.0\\' 4.0\\' 4.0\\' 4.0\\' 4.0\\' 4.0\\' 4.0\\' 4.0\\' 4.0\\' 4.0\\' 4.0\\' 4.0\\' 4.0\\' 4.0\\' 4th 5) 5.0\\' 5.0\\' 5.0\\' 5.0\\' 5.0\\' : : : : : : : :P\\\\n\\\\nThe ;)\\\\nThe ;)\\\\nThe ;)\\\\nThe A A Alcohol Alcoholic Amazing Amazing Amazing Ambience Among Among Among And And And And Apart Axis Bacon Beautiful Beautiful Beautiful Been Bengaluru! Bengaluru! Bengaluru! Biryani Biryani Biryani Both But But But Cheese Chilli Coming Coming Cool Decent Decent Decent Dull Dull Dull English English English Everything Food Food Food Foodie Fooled For Friday Friday Friday Friday Friday Fridays Fridays Fridays Fridays. FridayÃ\\x83\\\\x83Ã\\x82\\\\x83Ã\\x83\\\\x82Ã\\x82\\\\x83Ã\\x83\\\\x83Ã\\x82\\\\x82Ã\\x83\\\\x82Ã\\x82Â¢Ã\\x83\\\\x83Ã\\x82\\\\x83Ã\\x83\\\\x82Ã\\x82\\\\x82Ã\\x83\\\\x83Ã\\x82\\\\x82Ã\\x83\\\\x82Ã\\x82\\\\x80Ã\\x83\\\\x83Ã\\x82\\\\x83Ã\\x83\\\\x82Ã\\x82\\\\x82Ã\\x83\\\\x83Ã\\x82\\\\x82Ã\\x83\\\\x82Ã\\x82\\\\x99s FridayÃ\\x83\\\\x83Ã\\x82\\\\x83Ã\\x83\\\\x82Ã\\x82\\\\x83Ã\\x83\\\\x83Ã\\x82\\\\x82Ã\\x83\\\\x82Ã\\x82Â¢Ã\\x83\\\\x83Ã\\x82\\\\x83Ã\\x83\\\\x82Ã\\x82\\\\x82Ã\\x83\\\\x83Ã\\x82\\\\x82Ã\\x83\\\\x82Ã\\x82\\\\x80Ã\\x83\\\\x83Ã\\x82\\\\x83Ã\\x83\\\\x82Ã\\x82\\\\x82Ã\\x83\\\\x83Ã\\x82\\\\x82Ã\\x83\\\\x82Ã\\x82\\\\x99s FridayÃ\\x83\\\\x83Ã\\x82\\\\x83Ã\\x83\\\\x82Ã\\x82\\\\x83Ã\\x83\\\\x83Ã\\x82\\\\x82Ã\\x83\\\\x82Ã\\x82Â¢Ã\\x83\\\\x83Ã\\x82\\\\x83Ã\\x83\\\\x82Ã\\x82\\\\x82Ã\\x83\\\\x83Ã\\x82\\\\x82Ã\\x83\\\\x82Ã\\x82\\\\x80Ã\\x83\\\\x83Ã\\x82\\\\x83Ã\\x83\\\\x82Ã\\x82\\\\x82Ã\\x83\\\\x83Ã\\x82\\\\x82Ã\\x83\\\\x82Ã\\x82\\\\x99s FridayÃ\\x83\\\\x83Ã\\x82\\\\x83Ã\\x83\\\\x82Ã\\x82\\\\x83Ã\\x83\\\\x83Ã\\x82\\\\x82Ã\\x83\\\\x82Ã\\x82Â¢Ã\\x83\\\\x83Ã\\x82\\\\x83Ã\\x83\\\\x82Ã\\x82\\\\x82Ã\\x83\\\\x83Ã\\x82\\\\x82Ã\\x83\\\\x82Ã\\x82\\\\x80Ã\\x83\\\\x83Ã\\x82\\\\x83Ã\\x83\\\\x82Ã\\x82\\\\x82Ã\\x83\\\\x83Ã\\x82\\\\x82Ã\\x83\\\\x82Ã\\x82\\\\x99s FridayÃ\\x83\\\\x83Ã\\x82\\\\x83Ã\\x83\\\\x82Ã\\x82\\\\x83Ã\\x83\\\\x83Ã\\x82\\\\x82Ã\\x83\\\\x82Ã\\x82Â¢Ã\\x83\\\\x83Ã\\x82\\\\x83Ã\\x83\\\\x82Ã\\x82\\\\x82Ã\\x83\\\\x83Ã\\x82\\\\x82Ã\\x83\\\\x82Ã\\x82\\\\x80Ã\\x83\\\\x83Ã\\x82\\\\x83Ã\\x83\\\\x82Ã\\x82\\\\x82Ã\\x83\\\\x83Ã\\x82\\\\x82Ã\\x83\\\\x82Ã\\x82\\\\x99s FridayÃ\\x83\\\\x83Ã\\x82\\\\x83Ã\\x83\\\\x82Ã\\x82\\\\x83Ã\\x83\\\\x83Ã\\x82\\\\x82Ã\\x83\\\\x82Ã\\x82Â¢Ã\\x83\\\\x83Ã\\x82\\\\x83Ã\\x83\\\\x82Ã\\x82\\\\x82Ã\\x83\\\\x83Ã\\x82\\\\x82Ã\\x83\\\\x82Ã\\x82\\\\x80Ã\\x83\\\\x83Ã\\x82\\\\x83Ã\\x83\\\\x82Ã\\x82\\\\x82Ã\\x83\\\\x83Ã\\x82\\\\x82Ã\\x83\\\\x82Ã\\x82\\\\x99s From Getting Getting Getting Give Goa.\\\\nThey Goa.\\\\nThey Goa.\\\\nThey God Gold Good Had Had Have Have Have Having Hookah Hookah Hookah Hope I I I I I I I I I I I I I I I I I I I I I I I I I I I I I I I I I I I I I I I I I I I I I I ITPl ITPl ITPl Iced If Indiranagar Indiranagar Indiranagar It It\\'s IÃ\\x83\\\\x83Ã\\x82\\\\x83Ã\\x83\\\\x82Ã\\x82\\\\x83Ã\\x83\\\\x83Ã\\x82\\\\x82Ã\\x83\\\\x82Ã\\x82Â¢Ã\\x83\\\\x83Ã\\x82\\\\x83Ã\\x83\\\\x82Ã\\x82\\\\x82Ã\\x83\\\\x83Ã\\x82\\\\x82Ã\\x83\\\\x82Ã\\x82\\\\x80Ã\\x83\\\\x83Ã\\x82\\\\x83Ã\\x83\\\\x82Ã\\x82\\\\x82Ã\\x83\\\\x83Ã\\x82\\\\x82Ã\\x83\\\\x82Ã\\x82\\\\x99d Karaoke. Karaoke. Karaoke. Koramangala Koramangala Koramangala LIIT LIIT LIIT LIIT LIIT LIIT Location Location Location Loved Loved Loved Matches Matches Matches Music Music Music Music Music Music My My My No Of Of Of Our Overall Overall Overall Overall Pablos PabloÃ\\x83\\\\x83Ã\\x82\\\\x83Ã\\x83\\\\x82Ã\\x82\\\\x83Ã\\x83\\\\x83Ã\\x82\\\\x82Ã\\x83\\\\x82Ã\\x82Â¢Ã\\x83\\\\x83Ã\\x82\\\\x83Ã\\x83\\\\x82Ã\\x82\\\\x82Ã\\x83\\\\x83Ã\\x82\\\\x82Ã\\x83\\\\x82Ã\\x82\\\\x80Ã\\x83\\\\x83Ã\\x82\\\\x83Ã\\x83\\\\x82Ã\\x82\\\\x82Ã\\x83\\\\x83Ã\\x82\\\\x82Ã\\x83\\\\x82Ã\\x82\\\\x99s PabloÃ\\x83\\\\x83Ã\\x82\\\\x83Ã\\x83\\\\x82Ã\\x82\\\\x83Ã\\x83\\\\x83Ã\\x82\\\\x82Ã\\x83\\\\x82Ã\\x82Â¢Ã\\x83\\\\x83Ã\\x82\\\\x83Ã\\x83\\\\x82Ã\\x82\\\\x82Ã\\x83\\\\x83Ã\\x82\\\\x82Ã\\x83\\\\x82Ã\\x82\\\\x80Ã\\x83\\\\x83Ã\\x82\\\\x83Ã\\x83\\\\x82Ã\\x82\\\\x82Ã\\x83\\\\x83Ã\\x82\\\\x82Ã\\x83\\\\x82Ã\\x82\\\\x99s PabloÃ\\x83\\\\x83Ã\\x82\\\\x83Ã\\x83\\\\x82Ã\\x82\\\\x83Ã\\x83\\\\x83Ã\\x82\\\\x82Ã\\x83\\\\x82Ã\\x82Â¢Ã\\x83\\\\x83Ã\\x82\\\\x83Ã\\x83\\\\x82Ã\\x82\\\\x82Ã\\x83\\\\x83Ã\\x82\\\\x82Ã\\x83\\\\x82Ã\\x82\\\\x80Ã\\x83\\\\x83Ã\\x82\\\\x83Ã\\x83\\\\x82Ã\\x82\\\\x82Ã\\x83\\\\x83Ã\\x82\\\\x82Ã\\x83\\\\x82Ã\\x82\\\\x99s PabloÃ\\x83\\\\x83Ã\\x82\\\\x83Ã\\x83\\\\x82Ã\\x82\\\\x83Ã\\x83\\\\x83Ã\\x82\\\\x82Ã\\x83\\\\x82Ã\\x82Â¢Ã\\x83\\\\x83Ã\\x82\\\\x83Ã\\x83\\\\x82Ã\\x82\\\\x82Ã\\x83\\\\x83Ã\\x82\\\\x82Ã\\x83\\\\x82Ã\\x82\\\\x80Ã\\x83\\\\x83Ã\\x82\\\\x83Ã\\x83\\\\x82Ã\\x82\\\\x82Ã\\x83\\\\x83Ã\\x82\\\\x82Ã\\x83\\\\x82Ã\\x82\\\\x99s PabloÃ\\x83\\\\x83Ã\\x82\\\\x83Ã\\x83\\\\x82Ã\\x82\\\\x83Ã\\x83\\\\x83Ã\\x82\\\\x82Ã\\x83\\\\x82Ã\\x82Â¢Ã\\x83\\\\x83Ã\\x82\\\\x83Ã\\x83\\\\x82Ã\\x82\\\\x82Ã\\x83\\\\x83Ã\\x82\\\\x82Ã\\x83\\\\x82Ã\\x82\\\\x80Ã\\x83\\\\x83Ã\\x82\\\\x83Ã\\x83\\\\x82Ã\\x82\\\\x82Ã\\x83\\\\x83Ã\\x82\\\\x82Ã\\x83\\\\x82Ã\\x82\\\\x99s Passion Peach Perfect Perfect Perfect Plus Regulars Regulars Regulars Sapien\\\\nInstagram Saturday Saturday Saturday Saturday Saturday Saturday Service Service Service So Spanish Sunday Sunday...it\\'s Sunday...it\\'s Sunday...it\\'s The The The The The The The The The The The The The The The The The The The The The The The The The The The The The The The The The The The The The The The The The The The The There There There These They They They They They They They This This This This This This Thursday Thursday Thursday Thursday Try Very Visited We We We We We We Well Went What Whiskey Yes Zomato Zomato Zomato Zomato Zomato [(\\'Rated a a a a a a a a a a a a a a a a a a a a a a a a a a a a a a a a a a a a a a a a a a a a a a a a a a a a a a a a a a a a a a a a a a a a a a a a a a a a a a a a a a a a a a a about about add add added added added adding adding adding additional after after after afternoon again\\') again\\') again\\') age all all all allow allow allow almost almost almost almost almost almost almost almost almost almost also also also also also also always always always am amazing amazing amazing amazing ambience ambience ambience ambience ambience ambience ambience ambience ambience ambience ambience ambience ambience ambience ambience ambience ambience ambience ambience ambience an an an an an an an an an an an an and and and and and and and and and and and and and and and and and and and and and and and and and and and and and and and and and and and and and and and and and and and and and and and and and and and and and and and and and and and and and and and and and and and and and and and and and and and and and and and and and and and and and and and and and and and and any any any any apologies appetiser appetiser appetiser appetizers. appetizers. appetizers. application applied are are are are are are are are are are are are are are are are are are are area area. around around as as as as as as as as as as as as as as as as as as as as asked at at at at at at at at at at at at at at at.\\\\nP.S. at.\\\\nP.S. at.\\\\nP.S. ate atmosphere attend attended attraction available average away away away awesome back bacon bad.ambience ball ball ball balls balls balls\\\\nChicken bank bar bar bar bar\\\\n\\\\nThe battered battered battered battered be be be be be be be be be be be be be be be be be be be be be be be because because because because because beef beef beef been been been been been been been beer beer beer beer beer beer beer beer beers beers beers beers.chilli before before before best best best best best best better biergarten..coming biergarten..coming biergarten..coming big big big big big big big big big bills bills bills billwatch billwatch billwatch bit bit bit bit bit bit bit bit bit booking booking booking both both both both both both both both bothered brewery. bruschetta bruschetta bruschetta buddies. buddies. buddies. bump burgers burgers business. business. business. but but but but but but but but but but but but but but but but but but but but but but but but but but buzzed. by by by by by came can can can can can can celebrated changing changing changing checked checked checked cheerful cheese cheese cheese cheese cheese chicken chicken chicken chicken chicken chicken chicken chicken chicken chicken chicken chicken chicken chicken chicken chicken chicken chicken chicken chicken chill chilli chilli chilli chilli chilli chilli chilli chilli chilli chilli chilli chilli chilli chilli chilli close close close cocktail cocktail cocktail cocktails cocktails. company company company company. compared compared compared concentrated considering containers corn could couple couple couple couple couple couple couple couple course course course course course courteous coz coz crazy crazy crazy crowd crowd crowd crowd crowd crowd crowd crowd crowd crowd\\\\nHad crowd\\\\nHad crowd\\\\nHad crowded crowded crowded crowded crowds. crowds. crowds. cucumber customer customer customer customer customer dampened day day day day day day decent decent decent decent decent.\\') decent.\\') decent.\\') decent...to decent...to decent...to decent...what decent...what decent...what decided definitely definitely definitely definitely definitely depends description. description. description. didn\\'t didn\\'t didnt different different different different different) diffetent diluted..had diluted..had diluted..had dine. dinner dinner dinner dinner dinners dinners dinners disappointed. discount dish. dishes doesn\\'t don\\'t don\\'t don\\'t done done done donÃ\\x83\\\\x83Ã\\x82\\\\x83Ã\\x83\\\\x82Ã\\x82\\\\x83Ã\\x83\\\\x83Ã\\x82\\\\x82Ã\\x83\\\\x82Ã\\x82Â¢Ã\\x83\\\\x83Ã\\x82\\\\x83Ã\\x83\\\\x82Ã\\x82\\\\x82Ã\\x83\\\\x83Ã\\x82\\\\x82Ã\\x83\\\\x82Ã\\x82\\\\x80Ã\\x83\\\\x83Ã\\x82\\\\x83Ã\\x83\\\\x82Ã\\x82\\\\x82Ã\\x83\\\\x83Ã\\x82\\\\x82Ã\\x83\\\\x82Ã\\x82\\\\x99t doubt down downside draws draws draws drink drinks drinks drinks drinks drinks drinks drinks drinks drinks. drinks...\") drinks...\") drinks...\") drinks...service drinks...service drinks...service drinks\\\\nSo drinksr drunk due due due dull dull. dull. dull. dull...I dull...I dull...I each each each else empty. empty.\\\\n\\\\nWe empty.\\\\n\\\\nWe empty.\\\\n\\\\nWe end end end ended energy energy energy enjoy enjoyed enjoyed enjoyed enjoyed enjoyed enough enter\\\\nLove entered entertaining entertaining entertaining entire entire entire entire entire entire entrance especially even evening evening evening evening evening evening evening evening. evening.tried evenings evenings evenings every everything everything exactly excellent excellent excellent excellent. excellent. excellent. exception exception exception expect experience experience! experience. experience. experience. experience.\\\\nHoping experiences experiences experiences explained explained explained extremely extremely extremely eye fabulously fact fan.\\') farewell feat feel feel feel feel few few few filled finally finding fine. fine. fine. first first first fist food food food food food food food food food food food food food food food food food food food food food food food. food. food. foods foods foods foos foos foos for for for for for for for for for for for for for for for for for for for for for for for for for for for for for for for for for found found found found french fridays fridays fridays fried fried fried friendly friendly friendly friendly friendly. friendly. friendly. friends friends friends. friends. friends. friends. friends.\\\\n#foodiesapien\\\\nFollow fries.\\\\nWhen from from from from from from from from from from from fruit fun\\\\nHeard garlic gastrobar gastrobar gastrobar gastrobar. gastrobar. gastrobar. gave gave gave get get get get get get gets gets gets gets giant gisn give given given given glass. gloomy gloomy gloomy go go go go go going gold gold gold gold gone gone gone good good good good good good good good good good good good good good good good good good good good good good good good good good good good good good good good good. good. good\\\\nAnd good\\\\nGood good\\\\nGood good\\\\nGood got got great great great great great great great great great great great great great!\\') group guest guys guys!!\\') had had had had had had had had half hang hang hang hang hangout happening happening happening hard.\") hard.\") hard.\") has has has has has has have have have have have have have have have have have have have have have have have have have have have have have have have have have have have heading heard helpful here here here here here here here here here here here here here here here here. here. here. here. here. here\\\\nVery here\\\\nVery here\\\\nVery high highlight highlight highlight hnev hnev hnev hoarding home hooka hookah. hookah. hookah. hop hour hour hour how however huge huge huge huge huge huge! iced iced iced if if if if immediately improved. improved. improved. in in in in in in in in in in in in in in in in in in in inside. instead intervals.\\') intervals.\\') intervals.\\') into into into is is is is is is is is is is is is is is is is is is is is is is is is is is is is is is is is is is is is is is is is is is is is is is is is is is is is is is is isn\\'t isn\\'t isn\\'t issues it it it it it it it it it it it it it it it it it it it it it it it it it it it it it it\\'s it\\'s it\\'s it\\'s it\\'s it\\'s it\\'s it. it.\\\\nIts it.\\\\nIts it.\\\\nIts it.\\\\n\\\\nI items items items items items items its its its its its itÃ\\x83\\\\x83Ã\\x82\\\\x83Ã\\x83\\\\x82Ã\\x82\\\\x83Ã\\x83\\\\x83Ã\\x82\\\\x82Ã\\x83\\\\x82Ã\\x82Â¢Ã\\x83\\\\x83Ã\\x82\\\\x83Ã\\x83\\\\x82Ã\\x82\\\\x82Ã\\x83\\\\x83Ã\\x82\\\\x82Ã\\x83\\\\x82Ã\\x82\\\\x80Ã\\x83\\\\x83Ã\\x82\\\\x83Ã\\x83\\\\x82Ã\\x82\\\\x82Ã\\x83\\\\x83Ã\\x82\\\\x82Ã\\x83\\\\x82Ã\\x82\\\\x99s jackets jackets jackets just just just just just just just just just karaoke karaoke karaoke karaoke karaoke karaoke karaoke karaoke karaoke karaoke karaoke kareoke kareoke kareoke kept kitchen lack lacking...crowd lacking...crowd lacking...crowd large. late lazy least lemon lemon lemon less less less less...coming less...coming less...coming let let let-down let-down let-down levels liit. like like like like like like liked liked liked liked live live lively lively lively lively lively lively located located located long long long look looked looked looked looked looks looks looks looks looks looks lot lot lot lot love love love lovely lovely lovely made made made main main major major major majorly make makes makes makes management manishpushkar\\') many many many mark. mark. mark. mark..used mark..used mark..used masala masala masala massive matches matches matters matters matters may may may may may may me me me me. means means means meh. membe mentioned menu menu mins minutes mistake more more more more. more. more. more. more\\\\nÃ\\x83\\\\x83Ã\\x82\\\\x83Ã\\x83\\\\x82Ã\\x82\\\\x83Ã\\x83\\\\x83Ã\\x82\\\\x82Ã\\x83\\\\x82Ã\\x82Â°Ã\\x83\\\\x83Ã\\x82\\\\x83Ã\\x83\\\\x82Ã\\x82\\\\x82Ã\\x83\\\\x83Ã\\x82\\\\x82Ã\\x83\\\\x82Ã\\x82\\\\x9fÃ\\x83\\\\x83Ã\\x82\\\\x83Ã\\x83\\\\x82Ã\\x82\\\\x82Ã\\x83\\\\x83Ã\\x82\\\\x82Ã\\x83\\\\x82Ã\\x82\\\\x98Ã\\x83\\\\x83Ã\\x82\\\\x83Ã\\x83\\\\x82Ã\\x82\\\\x82Ã\\x83\\\\x83Ã\\x82\\\\x82Ã\\x83\\\\x82Ã\\x82\\\\x80\\\\nWe most most most motion motion motion much much much...had music music music music music\")] music...I music; musicfooddrinks musicfooddrinks musicfooddrinks must must must my my my my my my my my my my my my my nachos near near near near near near near near near nearby nearby. nearby. nearby. need need need need need need need need need need need needs needs needs next next next next nice nice nice nice nice nice nice.\\') nice.hated night night night night night night night night. night. night. night. night. night. night. night. nights nights nights nights no no no no not not not not not not not not not not not not not nothing nothing nothing nothing occupied of of of of of of of of of of of of of of of of of of of of of of of of of of of of of of of of of of of of of of of of of of offer offer.\\\\nWe offered office office office office ok ok ok ok.\\\\n.\\\\nThey ok.\\\\n.\\\\nThey ok.\\\\n.\\\\nThey okay okay old on on on on on on on on on on on on on on on on on on on on on on on on on on on on on on on on on on on on on on on on on on on on on on on on on on one one one one onion onion onion onion only only only only only only only only only only only only only only only open open openness openness openness or or or or or or or order order order.\\\\n\\\\nThey ordered ordered ordered ordered ordered ordered ordered ordered ordering ordering ordering other other other other other other our our our our our our our our our out out out out out out out out out. out.\\') outside over own own own package. package. package. paneer paneer paneer paneer party pasta pasta pasta pathetic..we pay.\") pay.\") pay.\") peanut peanut peanut people people people people people people pertaining pertaining pertaining pesto pizza pizza pizza pizza pizzas pizzas pizzas pizzas\\\\nCheese pizzzas. place place place place place place place place place place place place place place place place place place place place place place place place place place place place place place place place place place place place place place place place place place place place place place place place place place place place place place place place place place place place place place. place. place. place. place. place. place. place. place. place. place. place.\") place.\") place.\") place...it\\'s place...it\\'s place...it\\'s place.\\\\nThe place.\\\\nThe place.\\\\nThe places places places places plan play play play playlist. please plus plus poppers pork possible. potato potato potato potent potent potent prawn prawn prawn prawn prawn prawn preference preference preference prepare pretty pretty pretty pretty priced. prior prior prior prompt provided\\\\nWould provided\\\\nWould provided\\\\nWould pub pub pub pulao\\\\nAll qualities quick quick quick quiet quiet quiet quite quite quite quite quite rather rather rating rating rating reaching ready ready ready ready really really really really really really really really really really really really reasonably recipe refused. regular regular regular rehash relief reminded rest rest rest restrooms restrooms restrooms revamp. revamp. revamp. rgt rgt rgt rice rice. rice. rice. rings rings rings rings salty.\\') same samosas samosas samosas sausage say school screen screened.\\\\n\\\\nAmbience-4/5\\\\nF&B-3/5\\\\nHospitality-3/5\") screened.\\\\n\\\\nAmbience-4/5\\\\nF&B-3/5\\\\nHospitality-3/5\") screened.\\\\n\\\\nAmbience-4/5\\\\nF&B-3/5\\\\nHospitality-3/5\") screens seating seating seating seating seating seemed selection serve. serve. serve. served servers service service service service service service service service service service service! service! service! service!\") serving serving serving set setup several shacks shacks shacks shots shots shots show.\\') shut shut shut side. side. side. slow slow slow so so so so so so so so so so so so so so so so some some some someone something songs songs songs soon soon. soon. soon. soon.\\') soothing sort sort sour sour sour sour sours space spacious spacious spacious spacious spend spend spend spirits. spoils spoils spoils sports staff staff staff staff staff staff staff staff staff stand stand stand started starters starters starters starters starters starters(nachos steak steak. store stuck sum sum sum super sure sure. table table table table table table table table table table table table table table\\'s table\\'s table\\'s tables tables tables take take take take task task task tasty tasty tasty tasty. tea tea tea tea.\\\\nFor team team team team team team tell terms terms terms than that that that that that that that that that that that\\'s the the the the the the the the the the the the the the the the the the the the the the the the the the the the the the the the the the the the the the the the the the the the the the the the the the the the the the the the the the the the the the the the the the the the the the the the the the the the the the the the the the the the the the the the the the the the the the the the the the the the the the the the the the the the the the the the the the the the the the the the the the the the the the the the the the the the the their their their their their their their their them then then then then then. there there there there there there there. there. there.\\\\nA there.\\\\nA there.\\\\nA these they they they they they they they they they they they they they they they they they they they they they they think think think think think this this this this this this this this this this this this this this this this this this this this this this this this this this though though though though though though though though though thought thought thought tikka tikka tikka tikka..chicken tikka..chicken tikka..chicken time time time time time time time time time time time.\\') time.\\') time.\\') timers timers timers times times times times times times times. to to to to to to to to to to to to to to to to to to to to to to to to to to to to to to to to to to to to to to to to to to to to to to to to to to to to to to to to to to to to to to to to to to to to to to to to to to to to to to to to to to to to to to to to to to to to to to to to to to to to to.\\\\n\\\\nAmbience too too too too too too too too too. too. too. too. too. took totally totally tried tried tried tried try tutorial unfortunately unfortunately unfortunately up up up up up up up up up upto upto upto us us us used vary vegetarian vegetarian vegetarian very very very very very very very very very very very very very very vibe vibe vibe vibe visit visit visit visit visit visit visit visit visit visit visit visit. visited visited visited visited wafers wafers wafers wait wait waiters want want want want wanted warm warm warm was was was was was was was was was was was was was was was was was was was was was was was was was was was was was was was was was was was was was was was was was was was was was was was was was was was was was wasn\\'t wasn\\'t wasn\\'t wasn\\'t wasn\\'t wasn\\'t watching water way way we we we we we we we we we we we we we we we\\'re weekdays weekdays weekdays weekdays. weekdays. weekdays. weekend weekend weekend well well well well well well well well well. well.\\\\nOverall went went went went went went went went went went went went were were were were were were were were were were were were were were were were were were were were were were were were were were were were were were were were what\\'s when when when when when when where which which which which which which which which which which which which which which which which which which which which which which which which which whiskey whiskey whiskey whiskey whisky whole whole whole whole whole whole why why why widespread will wings) wings\\\\nPulled with with with with with with with with with with with with with with with with with with with with with with with with with work work work work work work would would would would write yay yes you you you you you you you you you you you you you you you you you you youngsters your your your your your your your your your youtube yum yum yum yum\\\\nGreat yummy. zomato Ã\\x83\\\\x83Ã\\x82\\\\x83Ã\\x83\\\\x82Ã\\x82\\\\x83Ã\\x83\\\\x83Ã\\x82\\\\x82Ã\\x83\\\\x82Ã\\x82Â¢Ã\\x83\\\\x83Ã\\x82\\\\x83Ã\\x83\\\\x82Ã\\x82\\\\x82Ã\\x83\\\\x83Ã\\x82\\\\x82Ã\\x83\\\\x82Ã\\x82\\\\x80Ã\\x83\\\\x83Ã\\x82\\\\x83Ã\\x83\\\\x82Ã\\x82\\\\x82Ã\\x83\\\\x83Ã\\x82\\\\x82Ã\\x83\\\\x82Ã\\x82\\\\x9changoutÃ\\x83\\\\x83Ã\\x82\\\\x83Ã\\x83\\\\x82Ã\\x82\\\\x83Ã\\x83\\\\x83Ã\\x82\\\\x82Ã\\x83\\\\x82Ã\\x82Â¢Ã\\x83\\\\x83Ã\\x82\\\\x83Ã\\x83\\\\x82Ã\\x82\\\\x82Ã\\x83\\\\x83Ã\\x82\\\\x82Ã\\x83\\\\x82Ã\\x82\\\\x80Ã\\x83\\\\x83Ã\\x82\\\\x83Ã\\x83\\\\x82Ã\\x82\\\\x82Ã\\x83\\\\x83Ã\\x82\\\\x82Ã\\x83\\\\x82Ã\\x82\\\\x9d Ã\\x83\\\\x83Ã\\x82\\\\x83Ã\\x83\\\\x82Ã\\x82\\\\x83Ã\\x83\\\\x83Ã\\x82\\\\x82Ã\\x83\\\\x82Ã\\x82Â°Ã\\x83\\\\x83Ã\\x82\\\\x83Ã\\x83\\\\x82Ã\\x82\\\\x82Ã\\x83\\\\x83Ã\\x82\\\\x82Ã\\x83\\\\x82Ã\\x82\\\\x9fÃ\\x83\\\\x83Ã\\x82\\\\x83Ã\\x83\\\\x82Ã\\x82\\\\x82Ã\\x83\\\\x83Ã\\x82\\\\x82Ã\\x83\\\\x82Ã\\x82\\\\x98Ã\\x83\\\\x83Ã\\x82\\\\x83Ã\\x83\\\\x82Ã\\x82\\\\x82Ã\\x83\\\\x83Ã\\x82\\\\x82Ã\\x83\\\\x82Ã\\x82\\\\x81\") Ã\\x83\\\\x83Ã\\x82\\\\x83Ã\\x83\\\\x82Ã\\x82\\\\x83Ã\\x83\\\\x83Ã\\x82\\\\x82Ã\\x83\\\\x82Ã\\x82Â°Ã\\x83\\\\x83Ã\\x82\\\\x83Ã\\x83\\\\x82Ã\\x82\\\\x82Ã\\x83\\\\x83Ã\\x82\\\\x82Ã\\x83\\\\x82Ã\\x82\\\\x9fÃ\\x83\\\\x83Ã\\x82\\\\x83Ã\\x83\\\\x82Ã\\x82\\\\x82Ã\\x83\\\\x83Ã\\x82\\\\x82Ã\\x83\\\\x82Ã\\x82\\\\x98Ã\\x83\\\\x83Ã\\x82\\\\x83Ã\\x83\\\\x82Ã\\x82\\\\x82Ã\\x83\\\\x83Ã\\x82\\\\x82Ã\\x83\\\\x82Ã\\x82\\\\x91Ã\\x83\\\\x83Ã\\x82\\\\x83Ã\\x83\\\\x82Ã\\x82\\\\x83Ã\\x83\\\\x83Ã\\x82\\\\x82Ã\\x83\\\\x82Ã\\x82Â°Ã\\x83\\\\x83Ã\\x82\\\\x83Ã\\x83\\\\x82Ã\\x82\\\\x82Ã\\x83\\\\x83Ã\\x82\\\\x82Ã\\x83\\\\x82Ã\\x82\\\\x9fÃ\\x83\\\\x83Ã\\x82\\\\x83Ã\\x83\\\\x82Ã\\x82\\\\x82Ã\\x83\\\\x83Ã\\x82\\\\x82Ã\\x83\\\\x82Ã\\x82\\\\x98Ã\\x83\\\\x83Ã\\x82\\\\x83Ã\\x83\\\\x82Ã\\x82\\\\x82Ã\\x83\\\\x83Ã\\x82\\\\x82Ã\\x83\\\\x82Ã\\x82\\\\x91\\\\n.\\\\nThe Ã\\x83\\\\x83Ã\\x82\\\\x83Ã\\x83\\\\x82Ã\\x82\\\\x83Ã\\x83\\\\x83Ã\\x82\\\\x82Ã\\x83\\\\x82Ã\\x82Â°Ã\\x83\\\\x83Ã\\x82\\\\x83Ã\\x83\\\\x82Ã\\x82\\\\x82Ã\\x83\\\\x83Ã\\x82\\\\x82Ã\\x83\\\\x82Ã\\x82\\\\x9fÃ\\x83\\\\x83Ã\\x82\\\\x83Ã\\x83\\\\x82Ã\\x82\\\\x82Ã\\x83\\\\x83Ã\\x82\\\\x82Ã\\x83\\\\x82Ã\\x82\\\\x98Ã\\x83\\\\x83Ã\\x82\\\\x83Ã\\x83\\\\x82Ã\\x82\\\\x82Ã\\x83\\\\x83Ã\\x82\\\\x82Ã\\x83\\\\x82Ã\\x82\\\\x91Ã\\x83\\\\x83Ã\\x82\\\\x83Ã\\x83\\\\x82Ã\\x82\\\\x83Ã\\x83\\\\x83Ã\\x82\\\\x82Ã\\x83\\\\x82Ã\\x82Â°Ã\\x83\\\\x83Ã\\x82\\\\x83Ã\\x83\\\\x82Ã\\x82\\\\x82Ã\\x83\\\\x83Ã\\x82\\\\x82Ã\\x83\\\\x82Ã\\x82\\\\x9fÃ\\x83\\\\x83Ã\\x82\\\\x83Ã\\x83\\\\x82Ã\\x82\\\\x82Ã\\x83\\\\x83Ã\\x82\\\\x82Ã\\x83\\\\x82Ã\\x82\\\\x98Ã\\x83\\\\x83Ã\\x82\\\\x83Ã\\x83\\\\x82Ã\\x82\\\\x82Ã\\x83\\\\x83Ã\\x82\\\\x82Ã\\x83\\\\x82Ã\\x82\\\\x91\\\\n.\\\\nThe Ã\\x83\\\\x83Ã\\x82\\\\x83Ã\\x83\\\\x82Ã\\x82\\\\x83Ã\\x83\\\\x83Ã\\x82\\\\x82Ã\\x83\\\\x82Ã\\x82Â°Ã\\x83\\\\x83Ã\\x82\\\\x83Ã\\x83\\\\x82Ã\\x82\\\\x82Ã\\x83\\\\x83Ã\\x82\\\\x82Ã\\x83\\\\x82Ã\\x82\\\\x9fÃ\\x83\\\\x83Ã\\x82\\\\x83Ã\\x83\\\\x82Ã\\x82\\\\x82Ã\\x83\\\\x83Ã\\x82\\\\x82Ã\\x83\\\\x82Ã\\x82\\\\x98Ã\\x83\\\\x83Ã\\x82\\\\x83Ã\\x83\\\\x82Ã\\x82\\\\x82Ã\\x83\\\\x83Ã\\x82\\\\x82Ã\\x83\\\\x82Ã\\x82\\\\x91Ã\\x83\\\\x83Ã\\x82\\\\x83Ã\\x83\\\\x82Ã\\x82\\\\x83Ã\\x83\\\\x83Ã\\x82\\\\x82Ã\\x83\\\\x82Ã\\x82Â°Ã\\x83\\\\x83Ã\\x82\\\\x83Ã\\x83\\\\x82Ã\\x82\\\\x82Ã\\x83\\\\x83Ã\\x82\\\\x82Ã\\x83\\\\x82Ã\\x82\\\\x9fÃ\\x83\\\\x83Ã\\x82\\\\x83Ã\\x83\\\\x82Ã\\x82\\\\x82Ã\\x83\\\\x83Ã\\x82\\\\x82Ã\\x83\\\\x82Ã\\x82\\\\x98Ã\\x83\\\\x83Ã\\x82\\\\x83Ã\\x83\\\\x82Ã\\x82\\\\x82Ã\\x83\\\\x83Ã\\x82\\\\x82Ã\\x83\\\\x82Ã\\x82\\\\x91\\\\n.\\\\nThe Ã\\x83\\\\x83Ã\\x82\\\\x83Ã\\x83\\\\x82Ã\\x82\\\\x83Ã\\x83\\\\x83Ã\\x82\\\\x82Ã\\x83\\\\x82Ã\\x82Â°Ã\\x83\\\\x83Ã\\x82\\\\x83Ã\\x83\\\\x82Ã\\x82\\\\x82Ã\\x83\\\\x83Ã\\x82\\\\x82Ã\\x83\\\\x82Ã\\x82\\\\x9fÃ\\x83\\\\x83Ã\\x82\\\\x83Ã\\x83\\\\x82Ã\\x82\\\\x82Ã\\x83\\\\x83Ã\\x82\\\\x82Ã\\x83\\\\x82Ã\\x82Â¤Ã\\x83\\\\x83Ã\\x82\\\\x83Ã\\x83\\\\x82Ã\\x82\\\\x82Ã\\x83\\\\x83Ã\\x82\\\\x82Ã\\x83\\\\x82Ã\\x82\\\\x97\") Ã\\x83\\\\x83Ã\\x82\\\\x83Ã\\x83\\\\x82Ã\\x82\\\\x83Ã\\x83\\\\x83Ã\\x82\\\\x82Ã\\x83\\\\x82Ã\\x82Â°Ã\\x83\\\\x83Ã\\x82\\\\x83Ã\\x83\\\\x82Ã\\x82\\\\x82Ã\\x83\\\\x83Ã\\x82\\\\x82Ã\\x83\\\\x82Ã\\x82\\\\x9fÃ\\x83\\\\x83Ã\\x82\\\\x83Ã\\x83\\\\x82Ã\\x82\\\\x82Ã\\x83\\\\x83Ã\\x82\\\\x82Ã\\x83\\\\x82Ã\\x82Â¤Ã\\x83\\\\x83Ã\\x82\\\\x83Ã\\x83\\\\x82Ã\\x82\\\\x82Ã\\x83\\\\x83Ã\\x82\\\\x82Ã\\x83\\\\x82Ã\\x82\\\\x97\") Ã\\x83\\\\x83Ã\\x82\\\\x83Ã\\x83\\\\x82Ã\\x82\\\\x83Ã\\x83\\\\x83Ã\\x82\\\\x82Ã\\x83\\\\x82Ã\\x82Â°Ã\\x83\\\\x83Ã\\x82\\\\x83Ã\\x83\\\\x82Ã\\x82\\\\x82Ã\\x83\\\\x83Ã\\x82\\\\x82Ã\\x83\\\\x82Ã\\x82\\\\x9fÃ\\x83\\\\x83Ã\\x82\\\\x83Ã\\x83\\\\x82Ã\\x82\\\\x82Ã\\x83\\\\x83Ã\\x82\\\\x82Ã\\x83\\\\x82Ã\\x82Â¤Ã\\x83\\\\x83Ã\\x82\\\\x83Ã\\x83\\\\x82Ã\\x82\\\\x82Ã\\x83\\\\x83Ã\\x82\\\\x82Ã\\x83\\\\x82Ã\\x82\\\\x97\")',\n",
              "       '\"RATED\\\\n \"RATED\\\\n \"RATED\\\\n \"RATED\\\\n \"RATED\\\\n \"RATED\\\\n \"RATED\\\\n \"RATED\\\\n \"RATED\\\\n \"RATED\\\\n \"RATED\\\\n \"RATED\\\\n \"RATED\\\\n \"RATED\\\\n \"RATED\\\\n \"RATED\\\\n \"RATED\\\\n \"RATED\\\\n \"RATED\\\\n \"RATED\\\\n \"RATED\\\\n \"RATED\\\\n #Bira\") #ThinCrustPizzas \\'RATED\\\\n \\'RATED\\\\n \\'RATED\\\\n \\'RATED\\\\n \\'RATED\\\\n \\'RATED\\\\n (\\'Rated (\\'Rated (\\'Rated (\\'Rated (\\'Rated (\\'Rated (\\'Rated (\\'Rated (\\'Rated (\\'Rated (\\'Rated (\\'Rated (\\'Rated (\\'Rated (\\'Rated (\\'Rated (\\'Rated (\\'Rated (\\'Rated (\\'Rated (\\'Rated (\\'Rated (\\'Rated (\\'Rated (\\'Rated (\\'Rated (\\'Rated (Burgers) (seriously?? (seriously?? (seriously?? - - - . 1.0\\' 1.0\\' 1.0\\' 1st 2.0\\' 20mins 2nd 3.0\\' 3.0\\' 3.0\\' 3.0\\' 3.0\\' 3.0\\' 3.0\\' 3.0\\' 3.0\\' 3.0\\' 3.0\\' 4.0\\' 4.0\\' 4.0\\' 4.0\\' 4.0\\' 4.0\\' 4.0\\' 4.0\\' 4.0\\' 4.0\\' 5 5.0\\' 5.0\\' 5.0\\' 6people 80% 9pm : :-\\\\n\\\\n1. A A A American And And And And And Below Bira. Bira..they Bira..they Bira..they Both Both Both Brownie But But But But But But Can Cheers..!!\") Chicken\\\\n\\\\nLoved Chinese Coming Drinks Even Even Even Even Even Food For Found Found Friday Gambas! Good Good Good Good Grilled Had Hanky Has Has Has He However I I I I I I I I I I I I I I I I I I I I I I\\'m I\\'m ITPL ITPL ITPL ITPL ITPL ITPL ITPL If It It It\\'s It\\'s It\\'s Italian Kind Margherita Mexican Not Not Not OK OK.\\\\n\\\\nAmbience OK.\\\\n\\\\nAmbience OK.\\\\n\\\\nAmbience Oliver Oliver\\'s Oliver\\'s Oliver\\'s Oliver\\'s.. One\\'s Ordered Otherwise Otherwise Otherwise Paneer Panky Pathetic Perhaps Pizza Pizza Pizza Please Potato Potato Potato Prawns Pub Saturday Saturday Saturday Sauces Sauces Sauces Service Service Service Shake\\\\n2. Should Should Should Sitting So Staffs TV TV TV Taste Tasty Tasty Tasty The The The The The The The The The The The The The The There They They They They They They They They They This This This This This Though Though Though Tiramisu Ultimately Visited We We We We Went When When When You Zomato. Zomato. Zomato. [(\\'Rated \\\\nComing \\\\nI \\\\nOverlooking \\\\nTalking \\\\nThe \\\\nThe a a a a a a a a a a a a a a a a a a a a a a a a a a a a a a a a a a a a a a about about above above above above-average according according according active advantage advantage advantage after after aim all almost almost almost along also also also also also also although always amateurs. amazing amazing. amazing. amazing. ambience ambience ambience ambience ambience ambience ambience. ambience.\") ambience.. amount and and and and and and and and and and and and and and and and and and and and and and and and and and and and and and and and and and and and and and and and and and and and and and and and and and and and and and and and and and and and and any any any any any any appetite are are are around as as as as as as as as as as asked asked asked asked asked asked asking at at at atleast atleast atleast atmosphere attitude attitude attitude attract attract attract availability available available available available available available available available. available. average average.\\\\nMy babycorn back. back. bar bar bar basically be be be be been been beer beer beers. below below below below below below beside beside beside better better better bhel big big big big big.\\\\nWe big.\\\\nWe big.\\\\nWe bill bit bit bit bit bit both both bothered bothered bothered branded breath.\\\\nDid brownie brownie brownie buenos burger busting.ambience busting.ambience busting.ambience but but but by call called can can can can chairs chairs chicken chicken chicken chill chill chill chilly chilly chilly chips. choice.we choice.we choice.we cigarette cleanliness cleanliness cleanliness close cockroach cockroach cockroach cocktail cocktails. coke. combo combo combo complex. construction. construction. construction. corn cornitos couple crispy crush crust crust customers.\") customers.\") customers.\") day day day dead dead dead decent decent delectable...\\\\n\\\\nThe delicious delicious. delicious. delicious. delivered.\\\\nPlease delivered.\\\\nPlease delivered.\\\\nPlease delivery delivery delivery desi desi desi desserts desserts desserts desserts dewy.\") did did did didn\\'t didn\\'t didn\\'t didn\\'t didn\\'t didn\\'t diet different different different different dim. dine dining dining dining disappointed. disappointed.\") disappointing disappointing. disappointment disappointment. disappointment. disappointment. dishes dishes. do don\\'t downer downer downer drink drinks drinks drinks drinks drinks drinks\") drinks. drinks.\\\\nOn dry during during easy easy easy empty. enjoy especially etc. etc. etc. eve. even even even even evening).Music evening).Music evening).Music every expect expect expect expected experience experience experience experience. experience. experience. failed failed failed fat feel feel feel few few filling find finger finger finger first flame flame flame flavourful.\\\\n\\\\nThe floor food food food food food food food food food food food food food food food food food food food food food food food food food food food. for for for for for for for for for for for for for for for for for for for for found found found found friend friendly...\") friendly.bug friendly.bug friendly.bug friends friends friends friends friends from from from from full full full generous generous generous get get get get get get give give give give give given go go go go go going good good good good good good good good good good good good good good good good good good good. good. good. good. good. good.\") good... good.\\\\n\\\\nWe good.\\\\n\\\\nWe good.\\\\n\\\\nWe got got got got got got great great great guy guy guy guy guy guy had had had had had had had had had had had had had had half hang hang hang hang hangout hangout hangout happen happen have have have have have have have have have have here here here here here here here. here. here. here. hey.. high high high high high high home home home home.\\\\nWith hours.\\\\nThe house house house i i if if if if if if if improve in in in in in in in in in in in into into into is is is is is is is is is is is is is is is is is is is is is is is is is is is is is is is is it it it it it it it it it it it it it it it it it it\\'s it\\'s it\\'s it\\'s it\\'s it\\'s it.Then it.Then it.Then items... its its its itself. jalapeno jalapeno jalapeno just just just just keep know know know lacked least least least like like like like like liked liked liked limited list list list listed lit literally literally literally little little little little little live lively lively look look look look look look looks love love love lovely low lunch made made made. mainly make make make make make make mark.beer mark.beer mark.beer match me meat) menu menu mind minimise minimise minimise miserably.\\\\n\\\\nOverall miserably.\\\\n\\\\nOverall miserably.\\\\n\\\\nOverall missing missing missing mocktails. mocktails. mocktails. mood more more most most much much much music music music my my my my myself. nachos nachos nachos nachos nachos near near near near new nice nicely noise. noise. noise. noodles not not not not not not not not not not not not not not not not not not not not not nothing now now now now. of of of of of of of of of of of of of of of of of of of of of of of of of of offers offers offers offers office office.\") office.\") office.\") oily oily oily ok ok ok okayish.\\\\nOverall old on on on on on on on on on on on on on on on on on on on one one one one one one one. one. only only only only only only only..not only..not only..not open opt options options or order order order order.\\\\nThe order.\\\\nThe order.\\\\nThe ordered ordered ordered other other other our our our our out out out out out out out out out over over overall overcharged overpriced paneer paneer paneer par par par par par par par.\") par.\") par.\") part part part particularly past patata patata patata people people people. peri peri personally picture.\\') pieces pizza pizza pizza pizza. pizza. pizza. pizza. pizza. pizza. pizzas pizzas pizzas pizzas pizzas pizzas... place place place place place place place place place place place place place place place place. place.the place.the place.the places places plate pleasant pleasantly pocket pocket pocket pointing pointing pointing poppers poppers poppers pork pork post presentation pretty pretty pretty pretty pretty pretty pretty pretty pretty pricing pro pub pub pub pub pub pub quality quality quality quality quality quality quantity quantity quantity quantity.\\') quick. quite quite quite range rated rated rated rates. rates. rates. really really really really really recommend recommend recommend recommend restaurant restaurant restaurant restaurant restaurant restaurant right right right rolls rolls rolls rusted.\") rusty rusty. salsa salsa salsa sauce.\\\\n\\\\nFor sauce.\\\\n\\\\nFor sauce.\\\\n\\\\nFor screenings. screens screens screens seasoning. seats seats seats seemed seemed seems served served served servers servers servers serves serves service service service service service service service service service service service service service service service serving shady. shake shifted shifted shifted shopping shot shot sizzling slightly slow. smoke so so so so so so so some some some some some some some some some some some some some special special special spicy( spinach spinach spinach sports sports sports spring spring spring staff staff. staff. staff. starters starters starters. starters. starters. still still still stools stopped stress stress stress struggled styled styled styled succelent sundae sundae sundae sure sure sure sure surprised surprisingly table. table. table. table.\\') table.\\\\nAnother table.\\\\nAnother table.\\\\nAnother tables tables taste taste taste taste.\\\\n\\\\nI tasted tasted tasted terms that that that that that the the the the the the the the the the the the the the the the the the the the the the the the the the the the the the the the the the the the the the the the the the the the the the the the the the the the the the the the the the the the the the the the the the the the the the the the the their their their them them them them them them.\\\\n\\\\nWe them.\\\\n\\\\nWe them.\\\\n\\\\nWe then there there there. there. there. they they they they they they thin thing. thing. thing. this this this this though throughout throughout throughout tikka time.\\') time.\\') time.\\') times to to to to to to to to to to to to to to to to to to to to to to to to to to to to to to to to to to to to to to to to to to to to to to to to to to to to to to to to to told told told too too too too too too too toppings traditional tried tried tried tried try try try try two u u u u under under under unprofessionalism unprofessionalism unprofessionalism unresponsive unresponsive unresponsive up up up upto upto upto ur ur ur ur ur ur us variants vegetarian very very vibe visit visit visit visits visits visits waiters waiters.\\\\nDuring want want want want want want want wanted was was was was was was was was was was was was was was was was was was was was was was was was was was was was was was was was was was was was was was was was was was was was was was was was was was was was was was was way way way we we we we we we we we we we we week. week. week. week. week. week. well well well well well well well well.\") well.\") well.\") went went went went went went went went went were were were were were were were were were were were were were were were were were were what what what what what what when when when when when when when where whet which which which which which which which which while who why why why why wine wise wise wise with with with with with with with with with with with with with with with with with with work work work work.\\\\nThis working worn would would would would would you you you you you\\'re you. you.. your your your your your yum! Ã\\x83\\\\x83Ã\\x82\\\\x83Ã\\x83\\\\x82Ã\\x82\\\\x83Ã\\x83\\\\x83Ã\\x82\\\\x82Ã\\x83\\\\x82Ã\\x82Â¢Ã\\x83\\\\x83Ã\\x82\\\\x83Ã\\x83\\\\x82Ã\\x82\\\\x82Ã\\x83\\\\x83Ã\\x82\\\\x82Ã\\x83\\\\x82Ã\\x82\\\\x9cÃ\\x83\\\\x83Ã\\x82\\\\x83Ã\\x83\\\\x82Ã\\x82\\\\x82Ã\\x83\\\\x83Ã\\x82\\\\x82Ã\\x83\\\\x82Ã\\x82\\\\x8cÃ\\x83\\\\x83Ã\\x82\\\\x83Ã\\x83\\\\x82Ã\\x82\\\\x83Ã\\x83\\\\x83Ã\\x82\\\\x82Ã\\x83\\\\x82Ã\\x82Â°Ã\\x83\\\\x83Ã\\x82\\\\x83Ã\\x83\\\\x82Ã\\x82\\\\x82Ã\\x83\\\\x83Ã\\x82\\\\x82Ã\\x83\\\\x82Ã\\x82\\\\x9fÃ\\x83\\\\x83Ã\\x82\\\\x83Ã\\x83\\\\x82Ã\\x82\\\\x82Ã\\x83\\\\x83Ã\\x82\\\\x82Ã\\x83\\\\x82Ã\\x82\\\\x8fÃ\\x83\\\\x83Ã\\x82\\\\x83Ã\\x83\\\\x82Ã\\x82\\\\x82Ã\\x83\\\\x83Ã\\x82\\\\x82Ã\\x83\\\\x82Ã\\x82Â» Ã\\x83\\\\x83Ã\\x82\\\\x83Ã\\x83\\\\x82Ã\\x82\\\\x83Ã\\x83\\\\x83Ã\\x82\\\\x82Ã\\x83\\\\x82Ã\\x82Â°Ã\\x83\\\\x83Ã\\x82\\\\x83Ã\\x83\\\\x82Ã\\x82\\\\x82Ã\\x83\\\\x83Ã\\x82\\\\x82Ã\\x83\\\\x82Ã\\x82\\\\x9fÃ\\x83\\\\x83Ã\\x82\\\\x83Ã\\x83\\\\x82Ã\\x82\\\\x82Ã\\x83\\\\x83Ã\\x82\\\\x82Ã\\x83\\\\x82Ã\\x82\\\\x98Ã\\x83\\\\x83Ã\\x82\\\\x83Ã\\x83\\\\x82Ã\\x82\\\\x82Ã\\x83\\\\x83Ã\\x82\\\\x82Ã\\x83\\\\x82Ã\\x82\\\\x8b\")]'],\n",
              "      dtype=object)"
            ]
          },
          "metadata": {
            "tags": []
          },
          "execution_count": 201
        }
      ]
    },
    {
      "cell_type": "markdown",
      "metadata": {
        "id": "tILcnFAa_8lu",
        "colab_type": "text"
      },
      "source": [
        "\n",
        "\n",
        "---\n",
        "\n"
      ]
    },
    {
      "cell_type": "code",
      "metadata": {
        "id": "ouVUmRw3is5I",
        "colab_type": "code",
        "colab": {
          "base_uri": "https://localhost:8080/",
          "height": 171
        },
        "outputId": "9fb51ac6-00f5-401b-8ec0-0292ff6db45b"
      },
      "source": [
        "zomato['menu_item'] = zomato['menu_item'].str.replace(',' , '')\n",
        "zomato['menu_item'] = zomato['menu_item'].astype(str).apply(lambda x: ' '.join(sorted(x.split())))\n",
        "zomato['menu_item'].unique()"
      ],
      "execution_count": null,
      "outputs": [
        {
          "output_type": "execute_result",
          "data": {
            "text/plain": [
              "array(['[]',\n",
              "       \"& & & & 'CheeseCake 'CheeseCake 'Chocolate 'Chocolate 'Chocolate 'Chocolate 'Cookie 'Gulab 'Gulab 'Gulkand 'Gulkand-E-Bahar' 'Hazelnut 'Hazelnut 'Moments' 'Oreo 'Pan 'Pan 'Pink 'Plum 'Red 'Red 'Red 'Red 'Red 'Red 'Red 'Red 'Red 'Red 'Valentine 'Valentine 'Valentines (700 (750 (750 (Pack (Pack (Pack (Pack (Pack (Pack (Pack (Pack (Pack (Pack (Pack (Pack (Pack (Pack (Pack (Pack (Pack (Pack (Pack 1)' 1)' 1)' 1)' 1)'] 10)' 2)' 2)' 2)' 2)' 2)' 2)' 2)' 2)' 2)' 2)' 5)' 5)' 500 500 500 6)' Brownie Brownie Butter Butter Cake Cake Cake Cake Cake Cake Cake Cake Cake Cake Cake Cake Cake Cake Cake Cake Cake' Cake' Cheese Cheese Chocolate Chocolate Chocolate Combo' Cream Cream Crumble Decadence Decadence Decadence Decadence Fantasy Fantasy' Frosting Frosting Gm)' Gm)' Gms)' Guava Jamun Jamun Jar Jar' Jar' ML' ML' ML' Mud Of Of Of Of Of Of Of Red Shot Slice Slice Slice Slice Slice Slice Slice Slice Vanilla Velvet Velvet Velvet Velvet Velvet Velvet Velvet Velvet Velvet Velvet Velvet With With ['Chocolate of of of of of of of of of of of of\",\n",
              "       \"& & & & & 'Aloo 'American 'Barbeque 'Chai 'Chai 'Chatpate 'Cheese 'Cheese 'CheeseCake 'Cheesy 'Cheesy 'Cheesy 'Chicken 'Chicken 'Chicken 'Chicken 'Chocolate 'Chocolate 'Curd 'Dal 'Dal 'Dal 'Double 'Double 'Egg 'Falafel 'Fiery 'Fiery 'Fiery 'Flavorful 'Fusion 'Gulab 'Gulab 'Hare 'Hare 'Hazelnut 'Jumbo 'Jumbo 'Jumbo 'Kashmiri 'Kesar 'Kulcha' 'Mac 'Mac 'Mac 'Makhani 'Malai 'Malai 'Malai 'Masala 'Masala 'Masala 'Mexican 'Mint 'Moments' 'Mutton 'Mutton 'Mutton 'Mutton 'Mutton 'Pan 'Pan 'Paneer 'Paneer 'Peach 'Plum 'Potato 'Rajma 'Rajma 'Rajma 'Red 'Reshmi 'SWIG 'SWIG 'Singhada 'Singhada 'Singhada 'Smoked 'Smoked 'Smoked 'Smoked 'Triangle 'Upvas 'Veg 'Veg (Half (Half (Half (Half (Half (Half (Half (Pack (Pack (Pack (Pack (Pack (Pack (Serves (Serves (Serves + 1)' 1)' 1)' 1)' 1)' 2)' 4 4' 4)' 4)' 4)' Aloo Aloo Aloo Aloo Bhuna Bhuna Bhuna Bhuna Boti Bowl Bowl Bowl Bowl Bowl Bowl Breakfast' Brownie Butter Butter Butter Butter Cake Cake' Cake' Cake' Chaas'] Chai Chaman Chaman Chatpata Cheese Cheese Cheese Cheese Cheese Chicken Chicken Chicken Chicken Chicken Chicken Chicken Chicken Chicken Chicken Chicken Chicken Chilli Chole Combo' Combo' Combo' Combo' Combo' Combo' Combo' Combo' Combo' Combo' Combo' Combo' Corn Dahi' Decadence Dip' Dip' Egg Falafel Falafel Falafel Fantasy' Green Hare Hare Jamun Jamun Jeera Jumbo KG)' KG)' KG)' KG)' KG)' KG)' Kahwa Kebab Kg)' Ki Ki Kofta Kofta Kofta Kulcha Makhani Makhani Makhani Masala Masala Masala Masala' Mayo Mayo Mayo Meal' Meal' Meal' Meatball Meatballs' Melt Melt Methi Methi Muesli' Nature Non-Veg Nuggets Of Of Omelette' Overload Overload Paneer Paneer Paneer Paneer Paratha Paratha Paratha Paratha Paratha Paratha Pizza Pizza Potato Potato Rice Royal Royal Royal Royal Royal Royal Royal Sabji' Sabudana Salsa Salsa Salsa Satvik Sausage Sausage Shots Slice Smokey Starter Starter Subji Tamatar Tamatar Tamatar Tamatar Tea Thali' Tikka Tikka Tikka Tub' Tub' Tub' Veg Veg Veg Velvet Wada With With Wrap' Wrap' Wrap' Wrap' Wrap' Wrap' Wrap' Wrap' Wrap' Wrap' Wrap' Wrap' Wrap' Wrap' Wrap' Wrap' Wrap' Wrap' Wrap' Wrap' Wrap' Wrap' Wrap' Wrap' Wrap' Wrap' Wrap' Wrap' Wrap' Wrap' Wrap' Wrap' ['Chole apple' bar' for for of of of of valley with with with\",\n",
              "       ...,\n",
              "       '\"Chicken \"Harry\\'s \"Harry\\'s \"Harry\\'s \"Harry\\'s \"Harry\\'s \"Veg \\'Achari \\'Adraki \\'Anda \\'Andhra \\'BBQ \\'BBQ \\'BBQ \\'Baked \\'Baked \\'Bangkok \\'Bombay \\'Buffalo \\'Butter \\'Butter \\'Butter \\'Cheese \\'Cheese \\'Chicken \\'Chicken \\'Chicken \\'Chicken \\'Chicken \\'Chicken \\'Chicken \\'Chicken \\'Chicken \\'Chicken \\'Chicken \\'Chilli \\'Chilli \\'Classic \\'Classic \\'Classique \\'Cottage \\'Crispy \\'Crispy \\'Crispy \\'Darsaan\\' \\'Drunken \\'Egg \\'Egg \\'Egg \\'Egg \\'Egg \\'Egg \\'Egg \\'Egg \\'Fiery \\'Fish \\'Fishermans \\'Fondue \\'French \\'Garlic \\'Garlic \\'Goan \\'Grilled \\'Grilled \\'Harrys \\'Harrys \\'HarryÃ\\x83\\\\x83Ã\\x82\\\\x83Ã\\x83\\\\x82Ã\\x82\\\\x83Ã\\x83\\\\x83Ã\\x82\\\\x82Ã\\x83\\\\x82Ã\\x82Â¢Ã\\x83\\\\x83Ã\\x82\\\\x83Ã\\x83\\\\x82Ã\\x82\\\\x82Ã\\x83\\\\x83Ã\\x82\\\\x82Ã\\x83\\\\x82Ã\\x82\\\\x80Ã\\x83\\\\x83Ã\\x82\\\\x83Ã\\x83\\\\x82Ã\\x82\\\\x82Ã\\x83\\\\x83Ã\\x82\\\\x82Ã\\x83\\\\x82Ã\\x82\\\\x99s \\'HarryÃ\\x83\\\\x83Ã\\x82\\\\x83Ã\\x83\\\\x82Ã\\x82\\\\x83Ã\\x83\\\\x83Ã\\x82\\\\x82Ã\\x83\\\\x82Ã\\x82Â¢Ã\\x83\\\\x83Ã\\x82\\\\x83Ã\\x83\\\\x82Ã\\x82\\\\x82Ã\\x83\\\\x83Ã\\x82\\\\x82Ã\\x83\\\\x82Ã\\x82\\\\x80Ã\\x83\\\\x83Ã\\x82\\\\x83Ã\\x83\\\\x82Ã\\x82\\\\x82Ã\\x83\\\\x83Ã\\x82\\\\x82Ã\\x83\\\\x82Ã\\x82\\\\x99s \\'Jamaican \\'Jazz \\'Keema \\'Kerala \\'Lamb \\'Lamb \\'Margherita \\'Muchos \\'Naan\\' \\'Nasi \\'Non \\'Non \\'Omelette \\'Paneer \\'Paneer \\'Paneer \\'Paneer \\'Paneer \\'Parmigiana \\'Parpika \\'Pattaya \\'Penne \\'Penne \\'Peppered \\'Peri \\'Pigs \\'Pita \\'Prawns \\'Prawns \\'Prawns \\'Prawns \\'Prawns \\'Rumali \\'Salt \\'Seafood \\'Seafood \\'Seafood \\'Singapore \\'Sizzling \\'Smoked \\'Spaghetti \\'Spaghetti \\'Spicy \\'Sri \\'Straight \\'Tandoori \\'Tandoori \\'Tandoori \\'Thai \\'Tom \\'Veg \\'Veg \\'Veg \\'Veg \\'Veg \\'Veg \\'Veg \\'Veg \\'Veg \\'Veg \\'Veg \\'Veg \\'Wonton Aglio Aloo\\' Basil Basket\\' Batter Beach Beer Bhurji Bhurji Bhurji Black Blanket\\' Bowl\\' Bread\\' Brownie\\'] Buff Burger\\' Burger\\' Burger\\' Burger\\' Burger\\' Butter Carbonara\\' Cheese Cheese Cheese Cheese Cheese Cheese Chicken Chicken Chicken Chicken Chicken Chicken Chicken Chicken Chicken Chicken Chicken Chicken\\' Chicken\\' Chicken\\' Chicken\\' Chicken\\' Chicken\\' Chicken\\' Chicken\\' Chilli Chilli Chilli Chilli Chilli Chilly Chilly\\' Chilly\\' Chips Choosa\\' Classic Corn\\' Crackling Crackling Crackling Curry\\' Curry\\' Curry\\' Curry\\' Curry\\' Curry\\' Curry\\' Dry\\' Dunks\" Dunks\" Exotica Farm Farm Fish Fish Fish\" Fish\\' Flambeed Flowerets\\' Fondue Fondue Fried Fried Fried Fried Fried Fried Fried Fries\\' Fries\\' Fries\\' Fries\\' Fry Fry\\' Fry\\' Garlic Garlic Garlic Ginger Ginger Ginger Goong\\' Goujons\\' Green Green Green Green Hakka Hakka Hakka Hakka Harry\\'s Harry\\'s House House Hummus\\' Jerk Kachories\\' Kalonji Kebab\\' Kebab\\' Kejriwal\\' Kung Kung Kung Laksa\\' Laksa\\' Laksa\\' Lamb Lankan Lasaqna\\' Lollipop\\' Lollipop\\' Lovers Mac Malaysian Malaysian Masala Masala\\' Masala\\' Mushrooms\\' Naan\\' Naan\\' Naan\\' Naan\\' Naan\\' Naan\\' Nachos Non Noodles Noodles Noodles Noodles\\' Noodles\\' Noodles\\' Noodles\\' Noodles\\' Noodles\\' Noodles\\' Noodles\\' Noodles\\' Noodles\\' Noodles\\' Noodles\\' Noodles\\' Olio Omelette Onion Paneer Pao Pao Pao Paprika Pasta\\' Pasta\\' Pav\\' Pav\\' Pav\\' Pav\\' Pav\\' Pav\\' Peanut\\' Pepper Pepper Pepper Pepper Pepper Pepperoni Peri Pesto Pineapple Pizza\" Pizza\" Pizza\\' Pizza\\' Pizza\\' Pizza\\' Pizza\\' Pizza\\' Platter\\' Platter\\' Potato Potatoes\\' Poutine\\' Quesadillas\\' Quesadillas\\' Rassa Rice\\' Rice\\' Rice\\' Rice\\' Rice\\' Rice\\' Rice\\' Rice\\' Rings\\' Roll\\' Roti\\' Rum Rustica\\' Salsa Satay\\' Satay\\' Schezwan Schezwan Schezwan Schezwan Schezwan Schezwan Schezwan Schezwan Schezwan Schezwan Seafood Seekh Singapore Singapore Singapore Singapore Sloppy Sloppy Smoked Smoked Soy Spiced Spinach\\' Spinach\\' Spinach\\' Sprout Sprout Sprout Steak\\' Stir Stroganoff\" Stroganoff\" Stuffed Sweet Tenderloin Tenderloin Thai Thai Thai Thai Tikka Tikka Tikka Tikka Tikka Tikka\\' Tikka\\' Toast\\' Tossed Tossed Tossed Truffle Up Urban Urban Veg Veg Veg Veg Veg Veggie\\' Vodkatini\\' Wedges\\' Wedges\\' Winglets\\' Wings\\' Wok Wok Wok Yum [\\'Veg a and and and e in with with with with with',\n",
              "       '\"Beef \"Beef \"Beef \"Beef \"Beef \"Chicken \"Chicken \"Chicken \"Chicken \"Fish \"Fish \"Fish \"Korean \"Paneer \"Pork \"Pork \"Pork \"Prawns \"Prawns \"Veg \"Veg & & \\'Almost \\'American \\'Apollo \\'Arugula \\'Arugula \\'Bbq \\'Bean \\'Beef \\'Beef \\'Beef \\'Beef \\'Beef \\'Beef \\'Beef \\'Beef \\'Beef \\'Beef \\'Beef \\'Beef \\'Beef \\'Beef \\'Beef \\'Beef \\'Beef \\'Beef \\'Beef \\'Beef \\'Beef \\'Bruschetta\\' \\'Cajun \\'Cajun \\'Cheese \\'Chettinad \\'Chettinad \\'Chicken \\'Chicken \\'Chicken \\'Chicken \\'Chicken \\'Chicken \\'Chicken \\'Chicken \\'Chicken \\'Chicken \\'Chicken \\'Chicken \\'Chicken \\'Chicken \\'Chicken \\'Chicken \\'Chicken \\'Chicken \\'Chicken \\'Chicken \\'Chicken \\'Chicken \\'Chicken \\'Chicken \\'Chicken \\'Chicken \\'Chicken \\'Chilly \\'Chilly \\'Chilly \\'Chilly \\'Chocolate \\'Chorizo \\'Cleveland \\'Cottage \\'Cripsy \\'Crispy \\'Crispy \\'Cuban \\'Egg \\'Egg \\'Egg \\'Egg \\'Egg \\'Egg \\'Egg \\'Egg \\'Egg \\'Egg \\'Egg \\'Eggplant \\'Eggplant \\'Falafel\\' \\'Fish \\'Fish \\'Fish \\'Fish \\'Fish \\'Fish \\'Fish \\'Fish \\'Fish \\'Fish \\'Fish \\'Fish \\'Fish \\'Fish \\'Fish \\'Fish \\'Fish \\'Fish \\'Fried \\'Fried \\'Gambas\\' \\'Ginger \\'Grilled \\'Grilled \\'Jalapeno \\'Lemon \\'Manchurian \\'Masala \\'Masala \\'Mexican \\'Mexican \\'Mexican \\'Mexican \\'Miami \\'Miami \\'OliverÃ\\x83\\\\x83Ã\\x82\\\\x83Ã\\x83\\\\x82Ã\\x82\\\\x83Ã\\x83\\\\x83Ã\\x82\\\\x82Ã\\x83\\\\x82Ã\\x82Â¢Ã\\x83\\\\x83Ã\\x82\\\\x83Ã\\x83\\\\x82Ã\\x82\\\\x82Ã\\x83\\\\x83Ã\\x82\\\\x82Ã\\x83\\\\x82Ã\\x82\\\\x80Ã\\x83\\\\x83Ã\\x82\\\\x83Ã\\x83\\\\x82Ã\\x82\\\\x82Ã\\x83\\\\x83Ã\\x82\\\\x82Ã\\x83\\\\x82Ã\\x82\\\\x99s \\'OliverÃ\\x83\\\\x83Ã\\x82\\\\x83Ã\\x83\\\\x82Ã\\x82\\\\x83Ã\\x83\\\\x83Ã\\x82\\\\x82Ã\\x83\\\\x82Ã\\x82Â¢Ã\\x83\\\\x83Ã\\x82\\\\x83Ã\\x83\\\\x82Ã\\x82\\\\x82Ã\\x83\\\\x83Ã\\x82\\\\x82Ã\\x83\\\\x82Ã\\x82\\\\x80Ã\\x83\\\\x83Ã\\x82\\\\x83Ã\\x83\\\\x82Ã\\x82\\\\x82Ã\\x83\\\\x83Ã\\x82\\\\x82Ã\\x83\\\\x82Ã\\x82\\\\x99s \\'OliverÃ\\x83\\\\x83Ã\\x82\\\\x83Ã\\x83\\\\x82Ã\\x82\\\\x83Ã\\x83\\\\x83Ã\\x82\\\\x82Ã\\x83\\\\x82Ã\\x82Â¢Ã\\x83\\\\x83Ã\\x82\\\\x83Ã\\x83\\\\x82Ã\\x82\\\\x82Ã\\x83\\\\x83Ã\\x82\\\\x82Ã\\x83\\\\x82Ã\\x82\\\\x80Ã\\x83\\\\x83Ã\\x82\\\\x83Ã\\x83\\\\x82Ã\\x82\\\\x82Ã\\x83\\\\x83Ã\\x82\\\\x82Ã\\x83\\\\x82Ã\\x82\\\\x99s \\'Onion \\'Paneer \\'Paneer \\'Paneer \\'Paneer \\'Paneer \\'Paneer \\'Paneer \\'Paneer \\'Paneer \\'Patata \\'Pepper \\'Pepper \\'Pepper \\'Pepperoni \\'Pesto \\'Philly \\'Philly \\'Pizza \\'Pork \\'Pork \\'Pork \\'Pork \\'Pork \\'Pork \\'Pork \\'Pork \\'Pork \\'Pork \\'Pork \\'Pork \\'Pork \\'Pork \\'Pork \\'Pork \\'Pork \\'Pork \\'Pork \\'Pork \\'Pork \\'Prawns \\'Prawns \\'Prawns \\'Prawns \\'Prawns \\'Prawns \\'Prawns \\'Prawns \\'Prawns \\'Prawns \\'Prawns \\'Prawns \\'Prawns \\'Prawns \\'Prawns \\'Prawns \\'Prawns \\'Pulled \\'Santa \\'Southern \\'Spicy \\'Spicy \\'Spicy \\'Spicy \\'Spicy \\'Spinach \\'Spring \\'Stirfried \\'Streeside \\'Veg \\'Veg \\'Veg \\'Veg \\'Veg \\'Veg \\'Veg \\'Veg \\'Veg \\'Veg \\'Veg \\'Veg \\'Veg \\'Veg \\'Veg \\'Wilted 65 Aloo Aloo And Apollo Apollo Apollo Apollo Apollo Apollo Apollo Apollo Apollo Apollo BBQ Babycorn Babycorn\\' Bacon Bacon Bacon Bahn Bahn Basil Bbq\\' Bean Beef Beef Beef Beef\\' Bhurji Bhurji Bhurji\\' Bolognese Bombs\\' Braised Braised Bread\\' Brownie\\'] Burger\" Burger\" Burger\" Burger\\' Burger\\' Burger\\' Burger\\' Burger\\' Burger\\' Burger\\' Burger\\' Burgers\\' Carnitos\\' Carnitos\\' Carnitos\\' Carrebbean Carrebbean Cheese Cheese Cheesesteak Chef\\'s Chef\\'s Chef\\'s Chef\\'s Chef\\'s Chefs Chefs Chefs Chefs Chefs Chefs Chefs Chettinad Chicken Chicken Chicken Chicken Chicken Chicken Chicken Chicken Chicken\\' Chicken\\' Chicken\\' Chicken\\' Chilly Chilly Chilly Chilly Chilly Chilly Chilly Chilly Chilly Chilly Chilly Chilly Chilly Chilly Chilly Coriander Coriander Coriander Coriander Coriander Coriander Coriander Corn Egg Egg\\' Famous Fe Fingers\\' Fingers\\' Fish Fresh Fried Fried Fried Fried Fried Fried Fried Fried Fried Fried Fried Fried Fried Fried Fried Fried Fried Garlic Garlic Garlic Garlic Garlic Garlic Garlic Garlic Garlic Garlic Garlic Garlic Garlic Garlic Garlic Garlic Garlic Garlic Ginger Ginger Ginger Ginger Ginger Ginger Ginger Ginger Grilled Grilled Grilled Hot Hot Hot Hot Hot Hot Hot Hot Italian Jerk Jerky Kabab\\' Kim\\'s Kim\\'s Kim\\'s Kim\\'s Kim\\'s Kim\\'s Kim\\'s Kim\\'s Kim\\'s Kim\\'s Kim\\'s Kim\\'s Kim\\'s Korean Korean Korean Korean Korean Korean Korean Lemon Lemon Lemon Lemon Lemon Lemon Louisiana Louisiana Manchurian Manchurian Manchurian Manchurian Manchurian Margharita\\' Masala Meat\\' Meat\\' Mexicana Mexicana Mi Mi Mongolian Mongolian Mongolian Mongolian Mongolian Mongolian Mongolian Mongolian Mongolian Mongolian Mongolian Mongolian Mongolian Mongolian Moo Nachos Nachos Nachos Nachos Nachos Nachos New New Noodles\\' Noodles\\' Noodles\\' Noodles\\' Noodles\\' Noodles\\' Noodles\\' Noodles\\' Noodles\\' Noodles\\' Noodles\\' Noodles\\' Noodles\\' Noodles\\' Noodles\\' Noodles\\' Noodles\\' Noodles\\' Noodles\\' Noodles\\' Noodles\\' Noodles\\' Noodles\\' Noodles\\' Noodles\\' Noodles\\' Noodles\\' Noodles\\' Olivers Olivers Olivers Olivers Olivers Olivers Olivers Olivers Olivers Olivers Olivers Olivers Olivers Olivers Omlette\\' One\\'s One\\'s One\\'s Orleans Orleans Pakoda\\' Pakoda\\' Pakoda\\' Paneer Paneer Paneer Paneer\\' Parm\\' Pepper Pepper Peri Peri Pizza\\' Pizza\\' Pizza\\' Pizza\\' Pizza\\' Pizza\\' Pizza\\' Pizza\\' Pizza\\' Pizza\\' Pizza\\' Pizza\\' Pizza\\' Pizza\\' Pizza\\' Pizza\\' Pizza\\' Pizza\\' Pizza\\' Pizza\\' Pizza\\' Pizza\\' Pizza\\' Pizza\\' Poppers\\' Pork Pork\\' Potato Potato Pudhina Pudhina Rice\\' Rice\\' Rice\\' Rice\\' Rice\\' Rice\\' Rice\\' Rice\\' Rice\\' Rice\\' Rice\\' Rice\\' Rice\\' Rice\\' Rice\\' Rice\\' Rice\\' Rice\\' Rice\\' Rice\\' Rice\\' Rice\\' Rice\\' Rice\\' Rice\\' Rice\\' Rice\\' Rice\\' Ricotta Roast\\' Roast\\' Roast\\' Roast\\' Roast\\' Rolls\\' Saigon Saigon Salsa Salt\\' Sandwich\\' Sandwich\\' Sandwich\\' Sandwich\\' Sandwich\\' Sandwich\\' Sandwich\\' Sauce Sauce Sauce\\' Sauce\\' Sauce\\' Sauce\\' Sauce\\' Sauce\\' Sauce\\' Sauce\\' Sauce\\' Sauce\\' Sauce\\' Sauce\\' Sauce\\' Sauce\\' Sauce\\' Sauce\\' Sauce\\' Sauce\\' Sauce\\' Sauce\\' Sauce\\' Sauce\\' Sauce\\' Sauce\\' Sauce\\' Sauce\\' Sauce\\' Sauce\\' Sauce\\' Sauce\\' Sauce\\' Sauce\\' Sauce\\' Sauce\\' Sauce\\' Sauce\\' Sauce\\' Sauce\\' Sauce\\' Sauce\\' Sauce\\' Sauce\\' Sauce\\' Sausage Sausage\\' Sausage\\' Sausages\\' Sausages\\' Shrooms Singaporean Singaporean Singaporean Singaporean Singaporean Singaporean Singaporean Singaporean Singaporean Singaporean Singaporean Singaporean Singaporean Singaporean Singaporean Singaporean Singaporean Singaporean Singaporean Singaporean Singaporean Smashers\\' Smashers\\' Soup\\' Soup\\' Special Special Special Special Special Special Spiced Spiced Spicy Spicy Spicy Spicy Spicy Spicy Spicy Spicy Spicy Spicy Spicy Spicy Spicy Spicy Spicy Spicy Spicy Spicy Spicy Spicy Spicy Spicy Spicy Spicy Spicy Spicy Spicy Spicy Spinach Spinach Spinach Spinach Spinach Spinach Spinach Spinach Spinach Steak Stir Stir Stir Stir Stir Stir Stir Stir Stir Stir Stir Stir Stir Stir Streetside Streetside Streetside Streetside Streetside Style Style Style Style Style Style Style Style Style Style Style Style Style Style Style Style\" Style\" Style\" Style\" Style\" Style\" Style\" Style\" Style\" Style\" Style\" Style\" Style\" Style\" Style\" Style\" Style\" Style\" Style\\' Style\\' Style\\' Style\\' Style\\' Style\\' Style\\' Style\\' Style\\' Style\\' Style\\' Style\\' Style\\' Style\\' Style\\' Style\\' Style\\' Style\\' Style\\' Style\\' Style\\' Style\\' Super Super Super Super Super Super Super Tangy Tangy Tangy Tangy Tangy Tangy Tangy Tomato Veg Wedges\\' Wings\\' Wings\\' With With [\\'Chicken and',\n",
              "       \"'12 '8 'Afghani 'Afghani 'Aloo 'Aloo 'Baby 'Bagicha 'Bhatti 'Bhindi 'Bhune 'Boondi 'Butter 'Butter 'Butter 'Butter 'Cucumber 'Curd 'Dal 'Dal 'Dal 'Diwani 'Egg 'Egg 'Egg 'Egg 'Egg 'Egg 'Egg 'Executive 'Executive 'Executive 'Executive 'French 'Garlic 'Gulab 'Hara 'Hara 'Harimirch 'Jal 'Jalebi 'Jalebi 'Jalebi' 'Jeera 'Jeera 'Kadai 'Kadai 'Kadai 'Kaju 'Kaju 'Karela 'Kulcha' 'Lachha 'Lalmirch 'Macchi 'Macchi 'Macchi 'Makkai 'Malai 'Malai 'Masala 'Masala 'Meetha 'Meetha 'Methi 'Mineral 'Mint 'Mixed 'Murgh 'Murgh 'Murgh 'Murgh 'Murgh 'Murgh 'Murgh 'Murgh 'Murgh 'Murgh 'Murgh 'Murgh 'Mushroom 'Mushroom 'Mutton 'Mutton 'Mutton 'Mutton 'Mutton 'Mutton 'Mutton 'Mutton 'Naan' 'Namkeen 'Namkeen 'Onion 'Paneer 'Paneer 'Paneer 'Paneer 'Paneer 'Paneer 'Paneer 'Paneer 'Paneer 'Paneer 'Paneer 'Paneer 'Patiala 'Peas 'Peshawari 'Peshawari 'Peshawari 'Peshawari 'Phulka' 'Pineapple 'Plain 'Plain 'Prawns 'Prawns 'Prawns 'Prawns 'Prawns 'Prawns 'Prawns 'Rabdi' 'Rajma 'Rajma' 'Rara 'Rara 'Rarra 'Rasgulla' 'Roasted 'Roohafza 'Roomali 'Roomali 'Roti' 'Sarson 'Stuffed 'Stuffed 'Tandoori 'Tandoori 'Tandoori 'Tandoori 'Tawa 'Tomato 'Veg 'Veg 'Veg 'Veg 'Veg 'Veg Amritsari' Bada Balaika' Bara Bara Bhurji' Biryani Biryani Biryani Biryani Biryani Biryani Biryani Biryani Biryani Biryani Biryani Biryani Biryani Biryani' Biryani' Biryani' Biryani' Biryani' Biryani' Biryani' Biryani' Box Box Box Box Chaach' Channa Channa' Chicken Chota Corn Curd' Curry Do Dry' Dum Dum Dum Dum Dum Fries' Fry Gobi Gobi' Handi' Harimirch Harimirch Harimirch Jalfrezi' Jamun' Jeera' Jeere Josh Josh' Josh' Kabab' Kabab' Kabab' Kalmi' Kalmi' Keema Khazana' Khazana' Ki Kofta' Kofta' Kulcha' Lahori Lahori Lassi' Lassi' Lassi' Lassi' Macchi Macchi' Makhani Makhani Makhani' Makhani' Makhani' Makhani' Masala Masala Masala' Masala' Masala' Masala' Masala' Masala' Masala' Matar' Meal' Meal' Meal' Meal' Meal' Meal' Meal' Meal' Meal' Meal' Meal' Meal' Meal' Meal' Meal' Meal' Meal' Meal' Meal' Meal' Meal' Meal' Murgh Murgh' Murgh' Mushroom' Mutton Mutton' Naan' Naan' Naan' Naan' Nimboo Nimboo Non Non Paani' Paani' Pack]' Pack]' Pack]' Pack]' Pack]' Pack]' Paneer' Paneer' Papad' Papad' Paratha' Paratha' Paratha' Paratha' Paratha' Paratha' Paratha' Paratha' Patiala' Pepper Prawns' Pulao' Pulao' Punjabi Punjabi Punjabi Punjabi Pyaza' Rabdi' Rabdi' Raita' Raita' Raita' Raita' Raita' Raita' Resunga' Rice' Rice' Rice' Rice' Rogan Rogan Rogan Roti Roti Roti' Roti' Roti' Roti' Saag' Saagwala' Salad' Salad' Salad' Salad' Seekh Sherbat' Shorba' Shorba' Tadka' Tadka' Tak-a-Tak' Tak-a-Tak' Tak-a-Tak' Tikka Tikka Tikka Tikka Tikka Tikka Tikka Tikka Tikka' Tikka' Veg Veg Veg Veg Veg Veg' Wala' Wala' Wala' Water ['Dal [1 [Family [Family [Family [Family [Family [Family ka ka ka ka ka ki litre]'] with with\"],\n",
              "      dtype=object)"
            ]
          },
          "metadata": {
            "tags": []
          },
          "execution_count": 202
        }
      ]
    },
    {
      "cell_type": "code",
      "metadata": {
        "id": "wmTjUAeTmCc_",
        "colab_type": "code",
        "colab": {}
      },
      "source": [
        "from sklearn.preprocessing import LabelEncoder\n",
        "Encoder = LabelEncoder()\n",
        "zomato['menu_item'] = Encoder.fit_transform(zomato['menu_item'])\n",
        "zomato['reviews_list'] = Encoder.fit_transform(zomato['reviews_list'])"
      ],
      "execution_count": null,
      "outputs": []
    },
    {
      "cell_type": "code",
      "metadata": {
        "id": "Bovjno9WWmvj",
        "colab_type": "code",
        "colab": {
          "base_uri": "https://localhost:8080/",
          "height": 639
        },
        "outputId": "4e8726b3-f690-4cd0-dda8-1a37bfa99ad2"
      },
      "source": [
        "zomato.tail(20)"
      ],
      "execution_count": null,
      "outputs": [
        {
          "output_type": "execute_result",
          "data": {
            "text/html": [
              "<div>\n",
              "<style scoped>\n",
              "    .dataframe tbody tr th:only-of-type {\n",
              "        vertical-align: middle;\n",
              "    }\n",
              "\n",
              "    .dataframe tbody tr th {\n",
              "        vertical-align: top;\n",
              "    }\n",
              "\n",
              "    .dataframe thead th {\n",
              "        text-align: right;\n",
              "    }\n",
              "</style>\n",
              "<table border=\"1\" class=\"dataframe\">\n",
              "  <thead>\n",
              "    <tr style=\"text-align: right;\">\n",
              "      <th></th>\n",
              "      <th>name</th>\n",
              "      <th>online_order</th>\n",
              "      <th>book_table</th>\n",
              "      <th>rate</th>\n",
              "      <th>votes</th>\n",
              "      <th>location</th>\n",
              "      <th>rest_type</th>\n",
              "      <th>cuisines</th>\n",
              "      <th>cost</th>\n",
              "      <th>reviews_list</th>\n",
              "      <th>menu_item</th>\n",
              "      <th>listed_in(type)</th>\n",
              "    </tr>\n",
              "  </thead>\n",
              "  <tbody>\n",
              "    <tr>\n",
              "      <th>51697</th>\n",
              "      <td>Shizusan Shophouse &amp; Bar</td>\n",
              "      <td>1</td>\n",
              "      <td>1</td>\n",
              "      <td>5</td>\n",
              "      <td>1313</td>\n",
              "      <td>89</td>\n",
              "      <td>28</td>\n",
              "      <td>222</td>\n",
              "      <td>1800.0</td>\n",
              "      <td>6645</td>\n",
              "      <td>9089</td>\n",
              "      <td>6</td>\n",
              "    </tr>\n",
              "    <tr>\n",
              "      <th>51698</th>\n",
              "      <td>Kava Kitchen &amp; Bar - Fairfield by Marriott</td>\n",
              "      <td>0</td>\n",
              "      <td>0</td>\n",
              "      <td>4</td>\n",
              "      <td>74</td>\n",
              "      <td>89</td>\n",
              "      <td>28</td>\n",
              "      <td>2257</td>\n",
              "      <td>1200.0</td>\n",
              "      <td>19506</td>\n",
              "      <td>9089</td>\n",
              "      <td>6</td>\n",
              "    </tr>\n",
              "    <tr>\n",
              "      <th>51699</th>\n",
              "      <td>Harry's Bar + Cafe</td>\n",
              "      <td>1</td>\n",
              "      <td>1</td>\n",
              "      <td>5</td>\n",
              "      <td>1218</td>\n",
              "      <td>89</td>\n",
              "      <td>73</td>\n",
              "      <td>191</td>\n",
              "      <td>1200.0</td>\n",
              "      <td>1661</td>\n",
              "      <td>9089</td>\n",
              "      <td>6</td>\n",
              "    </tr>\n",
              "    <tr>\n",
              "      <th>51700</th>\n",
              "      <td>BAR BAR</td>\n",
              "      <td>0</td>\n",
              "      <td>1</td>\n",
              "      <td>5</td>\n",
              "      <td>1003</td>\n",
              "      <td>89</td>\n",
              "      <td>10</td>\n",
              "      <td>1153</td>\n",
              "      <td>1500.0</td>\n",
              "      <td>6078</td>\n",
              "      <td>9089</td>\n",
              "      <td>6</td>\n",
              "    </tr>\n",
              "    <tr>\n",
              "      <th>51701</th>\n",
              "      <td>The Beer Cafe</td>\n",
              "      <td>1</td>\n",
              "      <td>1</td>\n",
              "      <td>5</td>\n",
              "      <td>673</td>\n",
              "      <td>89</td>\n",
              "      <td>73</td>\n",
              "      <td>1417</td>\n",
              "      <td>1400.0</td>\n",
              "      <td>6803</td>\n",
              "      <td>9089</td>\n",
              "      <td>6</td>\n",
              "    </tr>\n",
              "    <tr>\n",
              "      <th>51702</th>\n",
              "      <td>Pablo's Gastrobar</td>\n",
              "      <td>0</td>\n",
              "      <td>0</td>\n",
              "      <td>5</td>\n",
              "      <td>1094</td>\n",
              "      <td>89</td>\n",
              "      <td>8</td>\n",
              "      <td>1392</td>\n",
              "      <td>1450.0</td>\n",
              "      <td>9636</td>\n",
              "      <td>9089</td>\n",
              "      <td>6</td>\n",
              "    </tr>\n",
              "    <tr>\n",
              "      <th>51703</th>\n",
              "      <td>Oliver's Pub &amp; Diner</td>\n",
              "      <td>1</td>\n",
              "      <td>1</td>\n",
              "      <td>4</td>\n",
              "      <td>548</td>\n",
              "      <td>89</td>\n",
              "      <td>76</td>\n",
              "      <td>1393</td>\n",
              "      <td>1500.0</td>\n",
              "      <td>9601</td>\n",
              "      <td>9089</td>\n",
              "      <td>6</td>\n",
              "    </tr>\n",
              "    <tr>\n",
              "      <th>51704</th>\n",
              "      <td>Smaaash</td>\n",
              "      <td>0</td>\n",
              "      <td>1</td>\n",
              "      <td>5</td>\n",
              "      <td>189</td>\n",
              "      <td>89</td>\n",
              "      <td>33</td>\n",
              "      <td>2186</td>\n",
              "      <td>1500.0</td>\n",
              "      <td>14546</td>\n",
              "      <td>9089</td>\n",
              "      <td>6</td>\n",
              "    </tr>\n",
              "    <tr>\n",
              "      <th>51705</th>\n",
              "      <td>Izakaya Gastro Pub</td>\n",
              "      <td>1</td>\n",
              "      <td>1</td>\n",
              "      <td>4</td>\n",
              "      <td>128</td>\n",
              "      <td>89</td>\n",
              "      <td>10</td>\n",
              "      <td>2065</td>\n",
              "      <td>1200.0</td>\n",
              "      <td>17563</td>\n",
              "      <td>9089</td>\n",
              "      <td>6</td>\n",
              "    </tr>\n",
              "    <tr>\n",
              "      <th>51706</th>\n",
              "      <td>Red Glow</td>\n",
              "      <td>0</td>\n",
              "      <td>0</td>\n",
              "      <td>4</td>\n",
              "      <td>27</td>\n",
              "      <td>89</td>\n",
              "      <td>73</td>\n",
              "      <td>2041</td>\n",
              "      <td>1200.0</td>\n",
              "      <td>11622</td>\n",
              "      <td>9089</td>\n",
              "      <td>6</td>\n",
              "    </tr>\n",
              "    <tr>\n",
              "      <th>51707</th>\n",
              "      <td>M Bar - Bengaluru Marriott Hotel Whitefield</td>\n",
              "      <td>0</td>\n",
              "      <td>0</td>\n",
              "      <td>4</td>\n",
              "      <td>77</td>\n",
              "      <td>89</td>\n",
              "      <td>50</td>\n",
              "      <td>1391</td>\n",
              "      <td>2000.0</td>\n",
              "      <td>21960</td>\n",
              "      <td>9089</td>\n",
              "      <td>6</td>\n",
              "    </tr>\n",
              "    <tr>\n",
              "      <th>51708</th>\n",
              "      <td>Keys Cafe - Keys Hotel</td>\n",
              "      <td>0</td>\n",
              "      <td>0</td>\n",
              "      <td>3</td>\n",
              "      <td>161</td>\n",
              "      <td>89</td>\n",
              "      <td>28</td>\n",
              "      <td>850</td>\n",
              "      <td>1200.0</td>\n",
              "      <td>2619</td>\n",
              "      <td>9089</td>\n",
              "      <td>6</td>\n",
              "    </tr>\n",
              "    <tr>\n",
              "      <th>51709</th>\n",
              "      <td>The Farm House Bar n Grill</td>\n",
              "      <td>0</td>\n",
              "      <td>0</td>\n",
              "      <td>4</td>\n",
              "      <td>34</td>\n",
              "      <td>89</td>\n",
              "      <td>28</td>\n",
              "      <td>2041</td>\n",
              "      <td>800.0</td>\n",
              "      <td>21500</td>\n",
              "      <td>9089</td>\n",
              "      <td>6</td>\n",
              "    </tr>\n",
              "    <tr>\n",
              "      <th>51710</th>\n",
              "      <td>Topsy Turvey</td>\n",
              "      <td>0</td>\n",
              "      <td>0</td>\n",
              "      <td>4</td>\n",
              "      <td>0</td>\n",
              "      <td>89</td>\n",
              "      <td>8</td>\n",
              "      <td>1391</td>\n",
              "      <td>900.0</td>\n",
              "      <td>15136</td>\n",
              "      <td>9089</td>\n",
              "      <td>6</td>\n",
              "    </tr>\n",
              "    <tr>\n",
              "      <th>51711</th>\n",
              "      <td>Bhagini</td>\n",
              "      <td>0</td>\n",
              "      <td>0</td>\n",
              "      <td>3</td>\n",
              "      <td>81</td>\n",
              "      <td>89</td>\n",
              "      <td>28</td>\n",
              "      <td>115</td>\n",
              "      <td>800.0</td>\n",
              "      <td>19696</td>\n",
              "      <td>9089</td>\n",
              "      <td>6</td>\n",
              "    </tr>\n",
              "    <tr>\n",
              "      <th>51712</th>\n",
              "      <td>Best Brews - Four Points by Sheraton Bengaluru...</td>\n",
              "      <td>0</td>\n",
              "      <td>0</td>\n",
              "      <td>4</td>\n",
              "      <td>27</td>\n",
              "      <td>89</td>\n",
              "      <td>8</td>\n",
              "      <td>1009</td>\n",
              "      <td>1500.0</td>\n",
              "      <td>11837</td>\n",
              "      <td>9089</td>\n",
              "      <td>6</td>\n",
              "    </tr>\n",
              "    <tr>\n",
              "      <th>51713</th>\n",
              "      <td>Vinod Bar And Restaurant</td>\n",
              "      <td>0</td>\n",
              "      <td>0</td>\n",
              "      <td>4</td>\n",
              "      <td>0</td>\n",
              "      <td>89</td>\n",
              "      <td>8</td>\n",
              "      <td>1391</td>\n",
              "      <td>600.0</td>\n",
              "      <td>22512</td>\n",
              "      <td>9089</td>\n",
              "      <td>6</td>\n",
              "    </tr>\n",
              "    <tr>\n",
              "      <th>51714</th>\n",
              "      <td>Plunge - Sheraton Grand Bengaluru Whitefield H...</td>\n",
              "      <td>0</td>\n",
              "      <td>0</td>\n",
              "      <td>4</td>\n",
              "      <td>0</td>\n",
              "      <td>89</td>\n",
              "      <td>8</td>\n",
              "      <td>1391</td>\n",
              "      <td>2000.0</td>\n",
              "      <td>22512</td>\n",
              "      <td>9089</td>\n",
              "      <td>6</td>\n",
              "    </tr>\n",
              "    <tr>\n",
              "      <th>51715</th>\n",
              "      <td>Chime - Sheraton Grand Bengaluru Whitefield Ho...</td>\n",
              "      <td>0</td>\n",
              "      <td>1</td>\n",
              "      <td>5</td>\n",
              "      <td>236</td>\n",
              "      <td>26</td>\n",
              "      <td>8</td>\n",
              "      <td>1391</td>\n",
              "      <td>2500.0</td>\n",
              "      <td>15107</td>\n",
              "      <td>9089</td>\n",
              "      <td>6</td>\n",
              "    </tr>\n",
              "    <tr>\n",
              "      <th>51716</th>\n",
              "      <td>The Nest - The Den Bengaluru</td>\n",
              "      <td>0</td>\n",
              "      <td>0</td>\n",
              "      <td>4</td>\n",
              "      <td>13</td>\n",
              "      <td>26</td>\n",
              "      <td>10</td>\n",
              "      <td>1418</td>\n",
              "      <td>1500.0</td>\n",
              "      <td>20210</td>\n",
              "      <td>9089</td>\n",
              "      <td>6</td>\n",
              "    </tr>\n",
              "  </tbody>\n",
              "</table>\n",
              "</div>"
            ],
            "text/plain": [
              "                                                    name  ...  listed_in(type)\n",
              "51697                           Shizusan Shophouse & Bar  ...                6\n",
              "51698         Kava Kitchen & Bar - Fairfield by Marriott  ...                6\n",
              "51699                                 Harry's Bar + Cafe  ...                6\n",
              "51700                                            BAR BAR  ...                6\n",
              "51701                                      The Beer Cafe  ...                6\n",
              "51702                                  Pablo's Gastrobar  ...                6\n",
              "51703                               Oliver's Pub & Diner  ...                6\n",
              "51704                                            Smaaash  ...                6\n",
              "51705                                 Izakaya Gastro Pub  ...                6\n",
              "51706                                           Red Glow  ...                6\n",
              "51707        M Bar - Bengaluru Marriott Hotel Whitefield  ...                6\n",
              "51708                             Keys Cafe - Keys Hotel  ...                6\n",
              "51709                         The Farm House Bar n Grill  ...                6\n",
              "51710                                       Topsy Turvey  ...                6\n",
              "51711                                            Bhagini  ...                6\n",
              "51712  Best Brews - Four Points by Sheraton Bengaluru...  ...                6\n",
              "51713                           Vinod Bar And Restaurant  ...                6\n",
              "51714  Plunge - Sheraton Grand Bengaluru Whitefield H...  ...                6\n",
              "51715  Chime - Sheraton Grand Bengaluru Whitefield Ho...  ...                6\n",
              "51716                       The Nest - The Den Bengaluru  ...                6\n",
              "\n",
              "[20 rows x 12 columns]"
            ]
          },
          "metadata": {
            "tags": []
          },
          "execution_count": 204
        }
      ]
    },
    {
      "cell_type": "code",
      "metadata": {
        "id": "d1VLjQPTWpSR",
        "colab_type": "code",
        "colab": {
          "base_uri": "https://localhost:8080/",
          "height": 336
        },
        "outputId": "1571dee3-3c3d-4083-be37-facb3a1761f1"
      },
      "source": [
        "zomato.info()"
      ],
      "execution_count": null,
      "outputs": [
        {
          "output_type": "stream",
          "text": [
            "<class 'pandas.core.frame.DataFrame'>\n",
            "Int64Index: 41881 entries, 0 to 51716\n",
            "Data columns (total 12 columns):\n",
            " #   Column           Non-Null Count  Dtype   \n",
            "---  ------           --------------  -----   \n",
            " 0   name             41881 non-null  object  \n",
            " 1   online_order     41881 non-null  int64   \n",
            " 2   book_table       41881 non-null  int64   \n",
            " 3   rate             41881 non-null  category\n",
            " 4   votes            41881 non-null  int64   \n",
            " 5   location         41881 non-null  int64   \n",
            " 6   rest_type        41881 non-null  int64   \n",
            " 7   cuisines         41881 non-null  int64   \n",
            " 8   cost             41881 non-null  float64 \n",
            " 9   reviews_list     41881 non-null  int64   \n",
            " 10  menu_item        41881 non-null  int64   \n",
            " 11  listed_in(type)  41881 non-null  int64   \n",
            "dtypes: category(1), float64(1), int64(9), object(1)\n",
            "memory usage: 3.9+ MB\n"
          ],
          "name": "stdout"
        }
      ]
    },
    {
      "cell_type": "markdown",
      "metadata": {
        "id": "ajsTgmlyADe5",
        "colab_type": "text"
      },
      "source": [
        "\n",
        "\n",
        "---\n",
        "\n"
      ]
    },
    {
      "cell_type": "markdown",
      "metadata": {
        "id": "ug6uGfkGmdAR",
        "colab_type": "text"
      },
      "source": [
        "# **Splitting feature and target variables**"
      ]
    },
    {
      "cell_type": "code",
      "metadata": {
        "id": "Pexqd9Bsm6Go",
        "colab_type": "code",
        "colab": {}
      },
      "source": [
        "X = zomato.drop(['name','rate'],axis =1)\n",
        "y = zomato['rate']"
      ],
      "execution_count": null,
      "outputs": []
    },
    {
      "cell_type": "code",
      "metadata": {
        "id": "OEUZ-CFEkLqF",
        "colab_type": "code",
        "colab": {
          "base_uri": "https://localhost:8080/",
          "height": 34
        },
        "outputId": "8c13be08-0c4c-469c-afe5-2d264e59c6cd"
      },
      "source": [
        "from sklearn.preprocessing import LabelEncoder\n",
        "labelencoder_y = LabelEncoder()\n",
        "y = labelencoder_y.fit_transform(y)\n",
        "y"
      ],
      "execution_count": null,
      "outputs": [
        {
          "output_type": "execute_result",
          "data": {
            "text/plain": [
              "array([3, 3, 2, ..., 2, 3, 2])"
            ]
          },
          "metadata": {
            "tags": []
          },
          "execution_count": 207
        }
      ]
    },
    {
      "cell_type": "code",
      "metadata": {
        "id": "UUOotdZ9rO1Z",
        "colab_type": "code",
        "colab": {
          "base_uri": "https://localhost:8080/",
          "height": 34
        },
        "outputId": "57099dd5-156e-4fef-f26a-11d949e0ea1e"
      },
      "source": [
        "X.shape"
      ],
      "execution_count": null,
      "outputs": [
        {
          "output_type": "execute_result",
          "data": {
            "text/plain": [
              "(41881, 10)"
            ]
          },
          "metadata": {
            "tags": []
          },
          "execution_count": 208
        }
      ]
    },
    {
      "cell_type": "code",
      "metadata": {
        "id": "VoT9mL-FrRjF",
        "colab_type": "code",
        "colab": {
          "base_uri": "https://localhost:8080/",
          "height": 34
        },
        "outputId": "01b7881e-163e-4e82-aac6-8e283a2bf5f3"
      },
      "source": [
        "y.shape"
      ],
      "execution_count": null,
      "outputs": [
        {
          "output_type": "execute_result",
          "data": {
            "text/plain": [
              "(41881,)"
            ]
          },
          "metadata": {
            "tags": []
          },
          "execution_count": 209
        }
      ]
    },
    {
      "cell_type": "code",
      "metadata": {
        "id": "xvch2ermnFPE",
        "colab_type": "code",
        "colab": {}
      },
      "source": [
        "from sklearn.model_selection import train_test_split\n",
        "X_train,X_test,y_train,y_test = train_test_split(X,y,test_size = 0.2,random_state = 222)"
      ],
      "execution_count": null,
      "outputs": []
    },
    {
      "cell_type": "code",
      "metadata": {
        "id": "Gk_vHcthrD4-",
        "colab_type": "code",
        "colab": {
          "base_uri": "https://localhost:8080/",
          "height": 34
        },
        "outputId": "fee5db64-0aab-4fa8-a707-9b4c2fac7cf7"
      },
      "source": [
        "X_train.shape"
      ],
      "execution_count": null,
      "outputs": [
        {
          "output_type": "execute_result",
          "data": {
            "text/plain": [
              "(33504, 10)"
            ]
          },
          "metadata": {
            "tags": []
          },
          "execution_count": 211
        }
      ]
    },
    {
      "cell_type": "code",
      "metadata": {
        "id": "3QrqPUFxrHcc",
        "colab_type": "code",
        "colab": {
          "base_uri": "https://localhost:8080/",
          "height": 34
        },
        "outputId": "72414bf8-53df-440b-ddcd-222e8e4d9b6c"
      },
      "source": [
        "y_train.shape"
      ],
      "execution_count": null,
      "outputs": [
        {
          "output_type": "execute_result",
          "data": {
            "text/plain": [
              "(33504,)"
            ]
          },
          "metadata": {
            "tags": []
          },
          "execution_count": 212
        }
      ]
    },
    {
      "cell_type": "markdown",
      "metadata": {
        "id": "K0bObYS7nfxT",
        "colab_type": "text"
      },
      "source": [
        "# **Standardization of data**"
      ]
    },
    {
      "cell_type": "code",
      "metadata": {
        "id": "W3sCC5cyw0fj",
        "colab_type": "code",
        "colab": {}
      },
      "source": [
        "#taking numeric values\n",
        "from sklearn.preprocessing import StandardScaler\n",
        "num_values=zomato.select_dtypes(['float64','int64']).columns\n",
        "scaler = StandardScaler()\n",
        "scaler.fit(zomato[num_values])\n",
        "zomato[num_values]=scaler.transform(zomato[num_values])"
      ],
      "execution_count": null,
      "outputs": []
    },
    {
      "cell_type": "code",
      "metadata": {
        "id": "aPtQWOjZnech",
        "colab_type": "code",
        "colab": {}
      },
      "source": [
        "from sklearn.preprocessing import StandardScaler\n",
        "sc = StandardScaler()\n",
        "X_train = sc.fit_transform(X_train)\n",
        "X_test = sc.transform(X_test)"
      ],
      "execution_count": null,
      "outputs": []
    },
    {
      "cell_type": "code",
      "metadata": {
        "id": "7LuqHUcboftQ",
        "colab_type": "code",
        "colab": {
          "base_uri": "https://localhost:8080/",
          "height": 195
        },
        "outputId": "6eeae393-690a-40f5-d780-87bc0e49af5a"
      },
      "source": [
        "zomato.head()"
      ],
      "execution_count": null,
      "outputs": [
        {
          "output_type": "execute_result",
          "data": {
            "text/html": [
              "<div>\n",
              "<style scoped>\n",
              "    .dataframe tbody tr th:only-of-type {\n",
              "        vertical-align: middle;\n",
              "    }\n",
              "\n",
              "    .dataframe tbody tr th {\n",
              "        vertical-align: top;\n",
              "    }\n",
              "\n",
              "    .dataframe thead th {\n",
              "        text-align: right;\n",
              "    }\n",
              "</style>\n",
              "<table border=\"1\" class=\"dataframe\">\n",
              "  <thead>\n",
              "    <tr style=\"text-align: right;\">\n",
              "      <th></th>\n",
              "      <th>name</th>\n",
              "      <th>online_order</th>\n",
              "      <th>book_table</th>\n",
              "      <th>rate</th>\n",
              "      <th>votes</th>\n",
              "      <th>location</th>\n",
              "      <th>rest_type</th>\n",
              "      <th>cuisines</th>\n",
              "      <th>cost</th>\n",
              "      <th>reviews_list</th>\n",
              "      <th>menu_item</th>\n",
              "      <th>listed_in(type)</th>\n",
              "    </tr>\n",
              "  </thead>\n",
              "  <tbody>\n",
              "    <tr>\n",
              "      <th>0</th>\n",
              "      <td>Jalsa</td>\n",
              "      <td>0.759816</td>\n",
              "      <td>2.432675</td>\n",
              "      <td>5</td>\n",
              "      <td>0.495684</td>\n",
              "      <td>-1.317462</td>\n",
              "      <td>-0.848225</td>\n",
              "      <td>0.995941</td>\n",
              "      <td>0.492736</td>\n",
              "      <td>-0.841032</td>\n",
              "      <td>0.50683</td>\n",
              "      <td>-2.435008</td>\n",
              "    </tr>\n",
              "    <tr>\n",
              "      <th>1</th>\n",
              "      <td>Spice Elephant</td>\n",
              "      <td>0.759816</td>\n",
              "      <td>-0.411070</td>\n",
              "      <td>5</td>\n",
              "      <td>0.509295</td>\n",
              "      <td>-1.317462</td>\n",
              "      <td>-0.848225</td>\n",
              "      <td>-0.574782</td>\n",
              "      <td>0.492736</td>\n",
              "      <td>-0.884262</td>\n",
              "      <td>0.50683</td>\n",
              "      <td>-2.435008</td>\n",
              "    </tr>\n",
              "    <tr>\n",
              "      <th>2</th>\n",
              "      <td>San Churro Cafe</td>\n",
              "      <td>0.759816</td>\n",
              "      <td>-0.411070</td>\n",
              "      <td>4</td>\n",
              "      <td>0.657880</td>\n",
              "      <td>-1.317462</td>\n",
              "      <td>-1.030717</td>\n",
              "      <td>-0.816832</td>\n",
              "      <td>0.492736</td>\n",
              "      <td>-1.658539</td>\n",
              "      <td>0.50683</td>\n",
              "      <td>-2.435008</td>\n",
              "    </tr>\n",
              "    <tr>\n",
              "      <th>3</th>\n",
              "      <td>Addhuri Udupi Bhojana</td>\n",
              "      <td>-1.316109</td>\n",
              "      <td>-0.411070</td>\n",
              "      <td>4</td>\n",
              "      <td>-0.283542</td>\n",
              "      <td>-1.317462</td>\n",
              "      <td>1.013199</td>\n",
              "      <td>1.511273</td>\n",
              "      <td>-0.624961</td>\n",
              "      <td>-0.841628</td>\n",
              "      <td>0.50683</td>\n",
              "      <td>-2.435008</td>\n",
              "    </tr>\n",
              "    <tr>\n",
              "      <th>4</th>\n",
              "      <td>Grand Village</td>\n",
              "      <td>-1.316109</td>\n",
              "      <td>-0.411070</td>\n",
              "      <td>4</td>\n",
              "      <td>-0.195071</td>\n",
              "      <td>-1.206455</td>\n",
              "      <td>-0.848225</td>\n",
              "      <td>1.033680</td>\n",
              "      <td>0.045657</td>\n",
              "      <td>-1.078949</td>\n",
              "      <td>0.50683</td>\n",
              "      <td>-2.435008</td>\n",
              "    </tr>\n",
              "  </tbody>\n",
              "</table>\n",
              "</div>"
            ],
            "text/plain": [
              "                    name  online_order  ...  menu_item listed_in(type)\n",
              "0                  Jalsa      0.759816  ...    0.50683       -2.435008\n",
              "1         Spice Elephant      0.759816  ...    0.50683       -2.435008\n",
              "2        San Churro Cafe      0.759816  ...    0.50683       -2.435008\n",
              "3  Addhuri Udupi Bhojana     -1.316109  ...    0.50683       -2.435008\n",
              "4          Grand Village     -1.316109  ...    0.50683       -2.435008\n",
              "\n",
              "[5 rows x 12 columns]"
            ]
          },
          "metadata": {
            "tags": []
          },
          "execution_count": 215
        }
      ]
    },
    {
      "cell_type": "markdown",
      "metadata": {
        "id": "5kwHH_HUou9p",
        "colab_type": "text"
      },
      "source": [
        "# **Model 1 - Logistic Regresssion**"
      ]
    },
    {
      "cell_type": "markdown",
      "metadata": {
        "id": "D63Bh1x5xe1O",
        "colab_type": "text"
      },
      "source": [
        "**Train the model**"
      ]
    },
    {
      "cell_type": "code",
      "metadata": {
        "id": "_Ed5ilUvtTSc",
        "colab_type": "code",
        "colab": {}
      },
      "source": [
        "from sklearn.linear_model import LogisticRegression\n",
        "my_model = LogisticRegression()\n",
        "result = my_model.fit(X_train, y_train)"
      ],
      "execution_count": null,
      "outputs": []
    },
    {
      "cell_type": "markdown",
      "metadata": {
        "id": "PK5629Anxzq8",
        "colab_type": "text"
      },
      "source": [
        "**Test the model**"
      ]
    },
    {
      "cell_type": "code",
      "metadata": {
        "id": "Ev8oLDbSx45i",
        "colab_type": "code",
        "colab": {
          "base_uri": "https://localhost:8080/",
          "height": 34
        },
        "outputId": "ca0c5827-a127-4c07-a5b3-f824d0b0daba"
      },
      "source": [
        "predictions = result.predict(X_test)\n",
        "predictions"
      ],
      "execution_count": null,
      "outputs": [
        {
          "output_type": "execute_result",
          "data": {
            "text/plain": [
              "array([2, 2, 2, ..., 2, 2, 3])"
            ]
          },
          "metadata": {
            "tags": []
          },
          "execution_count": 217
        }
      ]
    },
    {
      "cell_type": "markdown",
      "metadata": {
        "id": "VvzdxamsyjdG",
        "colab_type": "text"
      },
      "source": [
        "**Performance measure of model**"
      ]
    },
    {
      "cell_type": "code",
      "metadata": {
        "id": "T2zSL-7DsIBn",
        "colab_type": "code",
        "colab": {
          "base_uri": "https://localhost:8080/",
          "height": 34
        },
        "outputId": "403ffbf1-a2ab-4107-f026-ad235f87df86"
      },
      "source": [
        "#checking accuracy\n",
        "from sklearn.metrics import accuracy_score\n",
        "accuracy_score(y_test, predictions)"
      ],
      "execution_count": null,
      "outputs": [
        {
          "output_type": "execute_result",
          "data": {
            "text/plain": [
              "0.8078070908439775"
            ]
          },
          "metadata": {
            "tags": []
          },
          "execution_count": 218
        }
      ]
    },
    {
      "cell_type": "markdown",
      "metadata": {
        "id": "FIkkNYRRysR9",
        "colab_type": "text"
      },
      "source": [
        "**Confusion matrix**"
      ]
    },
    {
      "cell_type": "code",
      "metadata": {
        "id": "uDg0cJm3yxly",
        "colab_type": "code",
        "colab": {
          "base_uri": "https://localhost:8080/",
          "height": 554
        },
        "outputId": "90e1e532-2ae7-41dc-9428-c7361a6bc369"
      },
      "source": [
        "from sklearn.metrics import confusion_matrix\n",
        "cm = confusion_matrix(y_test, predictions)\n",
        "plt.figure(figsize=(16,9))\n",
        "sns.heatmap(cm,annot=True)"
      ],
      "execution_count": null,
      "outputs": [
        {
          "output_type": "execute_result",
          "data": {
            "text/plain": [
              "<matplotlib.axes._subplots.AxesSubplot at 0x7f17d3af4668>"
            ]
          },
          "metadata": {
            "tags": []
          },
          "execution_count": 219
        },
        {
          "output_type": "display_data",
          "data": {
            "image/png": "[encoded data removed]",
            "text/plain": [
              "<Figure size 1152x648 with 2 Axes>"
            ]
          },
          "metadata": {
            "tags": [],
            "needs_background": "light"
          }
        }
      ]
    },
    {
      "cell_type": "markdown",
      "metadata": {
        "id": "UhGri0CS2kGE",
        "colab_type": "text"
      },
      "source": [
        "**Classification report**"
      ]
    },
    {
      "cell_type": "code",
      "metadata": {
        "id": "PxIFzTwx2r0z",
        "colab_type": "code",
        "colab": {
          "base_uri": "https://localhost:8080/",
          "height": 218
        },
        "outputId": "79e40138-21a7-487c-80a7-d02590e56da4"
      },
      "source": [
        "from sklearn import metrics\n",
        "print('\\n**Classification Report:\\n',metrics.classification_report(y_test,predictions))"
      ],
      "execution_count": null,
      "outputs": [
        {
          "output_type": "stream",
          "text": [
            "\n",
            "**Classification Report:\n",
            "               precision    recall  f1-score   support\n",
            "\n",
            "           1       0.00      0.00      0.00       385\n",
            "           2       0.80      0.95      0.87      5640\n",
            "           3       0.83      0.60      0.69      2352\n",
            "\n",
            "    accuracy                           0.81      8377\n",
            "   macro avg       0.54      0.52      0.52      8377\n",
            "weighted avg       0.77      0.81      0.78      8377\n",
            "\n"
          ],
          "name": "stdout"
        }
      ]
    },
    {
      "cell_type": "markdown",
      "metadata": {
        "id": "w9Jgml9t3LEq",
        "colab_type": "text"
      },
      "source": [
        "**Deploying the model**"
      ]
    },
    {
      "cell_type": "code",
      "metadata": {
        "id": "oim5etxn3PjQ",
        "colab_type": "code",
        "colab": {
          "base_uri": "https://localhost:8080/",
          "height": 67
        },
        "outputId": "1eba7ff2-6d75-4e79-d7fe-2c76f866dcb0"
      },
      "source": [
        "new_pred= list(result.predict([[1,1,454,5,24,2222,800.0,1111,4455,6]]))\n",
        "print('\\n**Predicted rating:\\n',new_pred)"
      ],
      "execution_count": null,
      "outputs": [
        {
          "output_type": "stream",
          "text": [
            "\n",
            "**Predicted rating:\n",
            " [0]\n"
          ],
          "name": "stdout"
        }
      ]
    },
    {
      "cell_type": "markdown",
      "metadata": {
        "id": "KJ5u62Nq4bIe",
        "colab_type": "text"
      },
      "source": [
        "# **Model 2 - Decision Tree**"
      ]
    },
    {
      "cell_type": "markdown",
      "metadata": {
        "id": "npNaDidp5A_B",
        "colab_type": "text"
      },
      "source": [
        "**Train the model**"
      ]
    },
    {
      "cell_type": "code",
      "metadata": {
        "id": "cTwNBOi94lEc",
        "colab_type": "code",
        "colab": {}
      },
      "source": [
        "from sklearn.tree import DecisionTreeClassifier\n",
        "dtc = DecisionTreeClassifier(random_state=0)\n",
        "result1 = dtc.fit(X_train,y_train)"
      ],
      "execution_count": null,
      "outputs": []
    },
    {
      "cell_type": "markdown",
      "metadata": {
        "id": "3IuCgZFe5MBL",
        "colab_type": "text"
      },
      "source": [
        "**Test the model**"
      ]
    },
    {
      "cell_type": "code",
      "metadata": {
        "id": "Vtviw02P5RhQ",
        "colab_type": "code",
        "colab": {
          "base_uri": "https://localhost:8080/",
          "height": 34
        },
        "outputId": "3bbfd388-ba6c-4627-86eb-016255da69be"
      },
      "source": [
        "predictions_dtc = result1.predict(X_test)\n",
        "predictions_dtc"
      ],
      "execution_count": null,
      "outputs": [
        {
          "output_type": "execute_result",
          "data": {
            "text/plain": [
              "array([2, 1, 2, ..., 3, 2, 3])"
            ]
          },
          "metadata": {
            "tags": []
          },
          "execution_count": 223
        }
      ]
    },
    {
      "cell_type": "markdown",
      "metadata": {
        "id": "QH_tbtjF5pn3",
        "colab_type": "text"
      },
      "source": [
        "**Performance measure of model**"
      ]
    },
    {
      "cell_type": "code",
      "metadata": {
        "id": "80tGS9rZ536K",
        "colab_type": "code",
        "colab": {
          "base_uri": "https://localhost:8080/",
          "height": 34
        },
        "outputId": "6004909a-839c-4648-e3a3-4f232866fa17"
      },
      "source": [
        "#checking accuracy\n",
        "from sklearn.metrics import accuracy_score\n",
        "accuracy_score(y_test, predictions_dtc)"
      ],
      "execution_count": null,
      "outputs": [
        {
          "output_type": "execute_result",
          "data": {
            "text/plain": [
              "0.9514145875611795"
            ]
          },
          "metadata": {
            "tags": []
          },
          "execution_count": 224
        }
      ]
    },
    {
      "cell_type": "markdown",
      "metadata": {
        "id": "hax9rZzB6Czk",
        "colab_type": "text"
      },
      "source": [
        "**Confusion matrix**"
      ]
    },
    {
      "cell_type": "code",
      "metadata": {
        "id": "Q2wAqzY36K1x",
        "colab_type": "code",
        "colab": {
          "base_uri": "https://localhost:8080/",
          "height": 663
        },
        "outputId": "8de0d8a6-0224-4428-e640-3b4983f8d4a9"
      },
      "source": [
        "from sklearn.metrics import confusion_matrix\n",
        "cm1 = confusion_matrix(y_test, predictions_dtc)\n",
        "plt.figure(figsize=(20,11))\n",
        "sns.heatmap(cm1,annot=True)"
      ],
      "execution_count": null,
      "outputs": [
        {
          "output_type": "execute_result",
          "data": {
            "text/plain": [
              "<matplotlib.axes._subplots.AxesSubplot at 0x7f17d2f89e10>"
            ]
          },
          "metadata": {
            "tags": []
          },
          "execution_count": 225
        },
        {
          "output_type": "display_data",
          "data": {
            "image/png": "[encoded data removed]",
            "text/plain": [
              "<Figure size 1440x792 with 2 Axes>"
            ]
          },
          "metadata": {
            "tags": [],
            "needs_background": "light"
          }
        }
      ]
    },
    {
      "cell_type": "markdown",
      "metadata": {
        "id": "f5jiauWv6lxJ",
        "colab_type": "text"
      },
      "source": [
        "**Classification report**"
      ]
    },
    {
      "cell_type": "code",
      "metadata": {
        "id": "PBTDZBNB6wVw",
        "colab_type": "code",
        "colab": {
          "base_uri": "https://localhost:8080/",
          "height": 218
        },
        "outputId": "577aaea9-12b1-48d2-d863-a7c45c8d0e1f"
      },
      "source": [
        "from sklearn import metrics\n",
        "print('\\n**Classification Report:\\n',metrics.classification_report(y_test,predictions_dtc))"
      ],
      "execution_count": null,
      "outputs": [
        {
          "output_type": "stream",
          "text": [
            "\n",
            "**Classification Report:\n",
            "               precision    recall  f1-score   support\n",
            "\n",
            "           1       0.77      0.80      0.79       385\n",
            "           2       0.97      0.97      0.97      5640\n",
            "           3       0.94      0.94      0.94      2352\n",
            "\n",
            "    accuracy                           0.95      8377\n",
            "   macro avg       0.89      0.90      0.90      8377\n",
            "weighted avg       0.95      0.95      0.95      8377\n",
            "\n"
          ],
          "name": "stdout"
        }
      ]
    },
    {
      "cell_type": "markdown",
      "metadata": {
        "id": "g6PAoQuZ6-Qr",
        "colab_type": "text"
      },
      "source": [
        "**Deploying the model**"
      ]
    },
    {
      "cell_type": "code",
      "metadata": {
        "id": "qEVo-w4_7Clt",
        "colab_type": "code",
        "colab": {
          "base_uri": "https://localhost:8080/",
          "height": 67
        },
        "outputId": "2b1b3e0a-5f25-4b04-fa2b-bb97ce1d3af8"
      },
      "source": [
        "new_pred1= list(result1.predict([[1,1,454,5,24,2222,800.0,1111,4455,6]]))\n",
        "print('\\n**Predicted rating:\\n',new_pred1)"
      ],
      "execution_count": null,
      "outputs": [
        {
          "output_type": "stream",
          "text": [
            "\n",
            "**Predicted rating:\n",
            " [2]\n"
          ],
          "name": "stdout"
        }
      ]
    },
    {
      "cell_type": "markdown",
      "metadata": {
        "id": "_ZQMjiS-7TYS",
        "colab_type": "text"
      },
      "source": [
        "# **Model 3- Random Forest**"
      ]
    },
    {
      "cell_type": "markdown",
      "metadata": {
        "id": "IwcFblP27cQB",
        "colab_type": "text"
      },
      "source": [
        "**Train the model**"
      ]
    },
    {
      "cell_type": "code",
      "metadata": {
        "id": "zdwNpKSQviUr",
        "colab_type": "code",
        "colab": {}
      },
      "source": [
        "from sklearn.ensemble import RandomForestClassifier\n",
        "model_rdc = RandomForestClassifier(n_estimators = 50, criterion = 'entropy', random_state = 33)\n",
        "result2 = model_rdc.fit(X_train, y_train)"
      ],
      "execution_count": null,
      "outputs": []
    },
    {
      "cell_type": "markdown",
      "metadata": {
        "id": "xajHBlXE8g_p",
        "colab_type": "text"
      },
      "source": [
        "**Test the model**"
      ]
    },
    {
      "cell_type": "code",
      "metadata": {
        "id": "9e0D77B6xWo2",
        "colab_type": "code",
        "colab": {
          "base_uri": "https://localhost:8080/",
          "height": 34
        },
        "outputId": "45d516ae-c6a3-430e-9db5-ae86edbc8825"
      },
      "source": [
        "predictions_rdc = result2.predict(X_test)\n",
        "predictions_rdc"
      ],
      "execution_count": null,
      "outputs": [
        {
          "output_type": "execute_result",
          "data": {
            "text/plain": [
              "array([2, 2, 2, ..., 3, 2, 3])"
            ]
          },
          "metadata": {
            "tags": []
          },
          "execution_count": 229
        }
      ]
    },
    {
      "cell_type": "markdown",
      "metadata": {
        "id": "0oi-vNn78sxB",
        "colab_type": "text"
      },
      "source": [
        "**Performance measure of model**"
      ]
    },
    {
      "cell_type": "code",
      "metadata": {
        "id": "r5mYgZnY8rRg",
        "colab_type": "code",
        "colab": {
          "base_uri": "https://localhost:8080/",
          "height": 34
        },
        "outputId": "df874e61-5422-4df2-a406-f1feb3a8a9b5"
      },
      "source": [
        "#checking accuracy\n",
        "from sklearn.metrics import accuracy_score\n",
        "accuracy_score(y_test, predictions_rdc)"
      ],
      "execution_count": null,
      "outputs": [
        {
          "output_type": "execute_result",
          "data": {
            "text/plain": [
              "0.9687238868329952"
            ]
          },
          "metadata": {
            "tags": []
          },
          "execution_count": 230
        }
      ]
    },
    {
      "cell_type": "markdown",
      "metadata": {
        "id": "Fcik8F0D940n",
        "colab_type": "text"
      },
      "source": [
        "**Confusion matrix**"
      ]
    },
    {
      "cell_type": "code",
      "metadata": {
        "id": "vSktm9Ub9MZ9",
        "colab_type": "code",
        "colab": {
          "base_uri": "https://localhost:8080/",
          "height": 663
        },
        "outputId": "3c53d48e-1556-4ca7-b1b2-499589770a1f"
      },
      "source": [
        "from sklearn.metrics import confusion_matrix\n",
        "cm2 = confusion_matrix(y_test, predictions_rdc)\n",
        "plt.figure(figsize=(20,11))\n",
        "sns.heatmap(cm2,annot=True)"
      ],
      "execution_count": null,
      "outputs": [
        {
          "output_type": "execute_result",
          "data": {
            "text/plain": [
              "<matplotlib.axes._subplots.AxesSubplot at 0x7f17d3c1df98>"
            ]
          },
          "metadata": {
            "tags": []
          },
          "execution_count": 231
        },
        {
          "output_type": "display_data",
          "data": {
            "image/png": "[encoded data removed]",
            "text/plain": [
              "<Figure size 1440x792 with 2 Axes>"
            ]
          },
          "metadata": {
            "tags": [],
            "needs_background": "light"
          }
        }
      ]
    },
    {
      "cell_type": "markdown",
      "metadata": {
        "id": "RuKs-Tui-_ed",
        "colab_type": "text"
      },
      "source": [
        "**Classification report**"
      ]
    },
    {
      "cell_type": "code",
      "metadata": {
        "id": "sISIZiwu-fDi",
        "colab_type": "code",
        "colab": {
          "base_uri": "https://localhost:8080/",
          "height": 218
        },
        "outputId": "1ad8409b-f136-4f19-affd-8ee2c433229b"
      },
      "source": [
        "from sklearn import metrics\n",
        "print('\\n**Classification Report:\\n',metrics.classification_report(y_test,predictions_rdc))"
      ],
      "execution_count": null,
      "outputs": [
        {
          "output_type": "stream",
          "text": [
            "\n",
            "**Classification Report:\n",
            "               precision    recall  f1-score   support\n",
            "\n",
            "           1       0.99      0.73      0.84       385\n",
            "           2       0.97      0.99      0.98      5640\n",
            "           3       0.97      0.96      0.97      2352\n",
            "\n",
            "    accuracy                           0.97      8377\n",
            "   macro avg       0.98      0.89      0.93      8377\n",
            "weighted avg       0.97      0.97      0.97      8377\n",
            "\n"
          ],
          "name": "stdout"
        }
      ]
    },
    {
      "cell_type": "markdown",
      "metadata": {
        "id": "BlR43QSX_SFE",
        "colab_type": "text"
      },
      "source": [
        "**Deploying the model**"
      ]
    },
    {
      "cell_type": "code",
      "metadata": {
        "id": "zJHyXRAT_LkB",
        "colab_type": "code",
        "colab": {
          "base_uri": "https://localhost:8080/",
          "height": 67
        },
        "outputId": "f634cb39-8a05-4eee-f32e-98964799d046"
      },
      "source": [
        "new_pred2= list(result2.predict([[1,1,454,5,24,2222,800.0,1111,4455,6]]))\n",
        "print('\\n**Predicted rating:\\n',new_pred2)"
      ],
      "execution_count": null,
      "outputs": [
        {
          "output_type": "stream",
          "text": [
            "\n",
            "**Predicted rating:\n",
            " [3]\n"
          ],
          "name": "stdout"
        }
      ]
    },
    {
      "cell_type": "markdown",
      "metadata": {
        "id": "PtUh0wsOAv0U",
        "colab_type": "text"
      },
      "source": [
        "# **Model 4- KNN**"
      ]
    },
    {
      "cell_type": "markdown",
      "metadata": {
        "id": "i9v51seqA1rB",
        "colab_type": "text"
      },
      "source": [
        "**Train the model**"
      ]
    },
    {
      "cell_type": "code",
      "metadata": {
        "id": "tNc_GSf3A4kd",
        "colab_type": "code",
        "colab": {}
      },
      "source": [
        "from sklearn.neighbors import KNeighborsClassifier\n",
        "model_knn = KNeighborsClassifier(n_neighbors = 3)\n",
        "result3 = model_knn.fit(X_train,y_train)"
      ],
      "execution_count": null,
      "outputs": []
    },
    {
      "cell_type": "markdown",
      "metadata": {
        "id": "6QfewHB9BKS0",
        "colab_type": "text"
      },
      "source": [
        "**Test the model**"
      ]
    },
    {
      "cell_type": "code",
      "metadata": {
        "id": "opZqk76lBN3r",
        "colab_type": "code",
        "colab": {
          "base_uri": "https://localhost:8080/",
          "height": 34
        },
        "outputId": "3f0b70b1-b0d6-4bf9-a1e7-f12582d10d27"
      },
      "source": [
        "predictions_knn = result3.predict(X_test)\n",
        "predictions_knn"
      ],
      "execution_count": null,
      "outputs": [
        {
          "output_type": "execute_result",
          "data": {
            "text/plain": [
              "array([2, 2, 2, ..., 3, 2, 3])"
            ]
          },
          "metadata": {
            "tags": []
          },
          "execution_count": 235
        }
      ]
    },
    {
      "cell_type": "markdown",
      "metadata": {
        "id": "ixFy6e7nBT6b",
        "colab_type": "text"
      },
      "source": [
        "**Performance measure of model**"
      ]
    },
    {
      "cell_type": "code",
      "metadata": {
        "id": "k14L4yKoBYK3",
        "colab_type": "code",
        "colab": {
          "base_uri": "https://localhost:8080/",
          "height": 34
        },
        "outputId": "ee4bf89e-cde2-465a-eac6-4ca9995e0842"
      },
      "source": [
        "#checking accuracy\n",
        "from sklearn.metrics import accuracy_score\n",
        "accuracy_score(y_test, predictions_knn)"
      ],
      "execution_count": null,
      "outputs": [
        {
          "output_type": "execute_result",
          "data": {
            "text/plain": [
              "0.8414706935657157"
            ]
          },
          "metadata": {
            "tags": []
          },
          "execution_count": 236
        }
      ]
    },
    {
      "cell_type": "markdown",
      "metadata": {
        "id": "XOlqRIQUBi2D",
        "colab_type": "text"
      },
      "source": [
        "**Confusion matrix**"
      ]
    },
    {
      "cell_type": "code",
      "metadata": {
        "id": "TJP_7JRbBl3l",
        "colab_type": "code",
        "colab": {
          "base_uri": "https://localhost:8080/",
          "height": 663
        },
        "outputId": "0cf4b3cd-c150-4ebc-dbcb-3641da138246"
      },
      "source": [
        "from sklearn.metrics import confusion_matrix\n",
        "cm3 = confusion_matrix(y_test, predictions_knn)\n",
        "plt.figure(figsize=(20,11))\n",
        "sns.heatmap(cm3,annot=True)"
      ],
      "execution_count": null,
      "outputs": [
        {
          "output_type": "execute_result",
          "data": {
            "text/plain": [
              "<matplotlib.axes._subplots.AxesSubplot at 0x7f17d66dcc18>"
            ]
          },
          "metadata": {
            "tags": []
          },
          "execution_count": 237
        },
        {
          "output_type": "display_data",
          "data": {
            "image/png": "[encoded data removed]",
            "text/plain": [
              "<Figure size 1440x792 with 2 Axes>"
            ]
          },
          "metadata": {
            "tags": [],
            "needs_background": "light"
          }
        }
      ]
    },
    {
      "cell_type": "markdown",
      "metadata": {
        "id": "EzgzF9dTCSZe",
        "colab_type": "text"
      },
      "source": [
        "**Classification report**"
      ]
    },
    {
      "cell_type": "code",
      "metadata": {
        "id": "zXRZLIshCX4K",
        "colab_type": "code",
        "colab": {
          "base_uri": "https://localhost:8080/",
          "height": 218
        },
        "outputId": "aaf06ee9-14c1-45a4-bc60-ed476914e487"
      },
      "source": [
        "from sklearn import metrics\n",
        "print('\\n**Classification Report:\\n',metrics.classification_report(y_test,predictions_knn))"
      ],
      "execution_count": null,
      "outputs": [
        {
          "output_type": "stream",
          "text": [
            "\n",
            "**Classification Report:\n",
            "               precision    recall  f1-score   support\n",
            "\n",
            "           1       0.34      0.28      0.31       385\n",
            "           2       0.88      0.91      0.89      5640\n",
            "           3       0.82      0.78      0.80      2352\n",
            "\n",
            "    accuracy                           0.84      8377\n",
            "   macro avg       0.68      0.66      0.67      8377\n",
            "weighted avg       0.84      0.84      0.84      8377\n",
            "\n"
          ],
          "name": "stdout"
        }
      ]
    },
    {
      "cell_type": "markdown",
      "metadata": {
        "id": "yZiZ2O25Ce5f",
        "colab_type": "text"
      },
      "source": [
        "**Deploying the model**"
      ]
    },
    {
      "cell_type": "code",
      "metadata": {
        "id": "c63pKt3aCkIU",
        "colab_type": "code",
        "colab": {
          "base_uri": "https://localhost:8080/",
          "height": 67
        },
        "outputId": "c3aebb8b-42b7-4522-f99a-5ec9c8bf5cc9"
      },
      "source": [
        "new_pred3= list(result3.predict([[1,1,454,5,24,2222,800.0,1111,4455,6]]))\n",
        "print('\\n**Predicted rating:\\n',new_pred3)"
      ],
      "execution_count": null,
      "outputs": [
        {
          "output_type": "stream",
          "text": [
            "\n",
            "**Predicted rating:\n",
            " [3]\n"
          ],
          "name": "stdout"
        }
      ]
    },
    {
      "cell_type": "markdown",
      "metadata": {
        "id": "9L9cgyRXFzF1",
        "colab_type": "text"
      },
      "source": [
        "# **Model 5- SVM**"
      ]
    },
    {
      "cell_type": "markdown",
      "metadata": {
        "id": "wrVaTvEPF8xW",
        "colab_type": "text"
      },
      "source": [
        "**Train the model**"
      ]
    },
    {
      "cell_type": "code",
      "metadata": {
        "id": "zwC_AQ0s_c4k",
        "colab_type": "code",
        "colab": {}
      },
      "source": [
        "from sklearn.svm import SVC\n",
        "model_svc = SVC(kernel = 'rbf', random_state = 33)\n",
        "result4 = model_svc.fit(X_train, y_train)"
      ],
      "execution_count": null,
      "outputs": []
    },
    {
      "cell_type": "markdown",
      "metadata": {
        "id": "LwbJFYcUJM5z",
        "colab_type": "text"
      },
      "source": [
        "**Test the model**"
      ]
    },
    {
      "cell_type": "code",
      "metadata": {
        "id": "DEOHteNiJL84",
        "colab_type": "code",
        "colab": {
          "base_uri": "https://localhost:8080/",
          "height": 34
        },
        "outputId": "9a67fdb3-7a9c-4ef7-da74-324ed2463aa4"
      },
      "source": [
        "predictions_svm = result4.predict(X_test)\n",
        "predictions_svm"
      ],
      "execution_count": null,
      "outputs": [
        {
          "output_type": "execute_result",
          "data": {
            "text/plain": [
              "array([2, 2, 2, ..., 2, 2, 3])"
            ]
          },
          "metadata": {
            "tags": []
          },
          "execution_count": 241
        }
      ]
    },
    {
      "cell_type": "markdown",
      "metadata": {
        "id": "8P9djmWoJo9h",
        "colab_type": "text"
      },
      "source": [
        "**Performance measure of model**"
      ]
    },
    {
      "cell_type": "code",
      "metadata": {
        "id": "ko81d26WJnu6",
        "colab_type": "code",
        "colab": {
          "base_uri": "https://localhost:8080/",
          "height": 34
        },
        "outputId": "cd408900-b1cf-427a-be8d-169b6bd0e2a3"
      },
      "source": [
        "#checking accuracy\n",
        "from sklearn.metrics import accuracy_score\n",
        "accuracy_score(y_test, predictions_svm)"
      ],
      "execution_count": null,
      "outputs": [
        {
          "output_type": "execute_result",
          "data": {
            "text/plain": [
              "0.8248776411603199"
            ]
          },
          "metadata": {
            "tags": []
          },
          "execution_count": 242
        }
      ]
    },
    {
      "cell_type": "markdown",
      "metadata": {
        "id": "WApdjvYaDFyU",
        "colab_type": "text"
      },
      "source": [
        "**Confusion matrix**"
      ]
    },
    {
      "cell_type": "code",
      "metadata": {
        "id": "V_4BjYu6DSgJ",
        "colab_type": "code",
        "colab": {
          "base_uri": "https://localhost:8080/",
          "height": 663
        },
        "outputId": "7cf9288d-ee84-4e9a-e94c-7916d00cd2b1"
      },
      "source": [
        "from sklearn.metrics import confusion_matrix\n",
        "cm4 = confusion_matrix(y_test, predictions_svm)\n",
        "plt.figure(figsize=(20,11))\n",
        "sns.heatmap(cm4,annot=True)"
      ],
      "execution_count": null,
      "outputs": [
        {
          "output_type": "execute_result",
          "data": {
            "text/plain": [
              "<matplotlib.axes._subplots.AxesSubplot at 0x7f17d3cf0c88>"
            ]
          },
          "metadata": {
            "tags": []
          },
          "execution_count": 243
        },
        {
          "output_type": "display_data",
          "data": {
            "image/png": "[encoded data removed]",
            "text/plain": [
              "<Figure size 1440x792 with 2 Axes>"
            ]
          },
          "metadata": {
            "tags": [],
            "needs_background": "light"
          }
        }
      ]
    },
    {
      "cell_type": "markdown",
      "metadata": {
        "id": "u0o-q8WTDi2h",
        "colab_type": "text"
      },
      "source": [
        "**Classification report**"
      ]
    },
    {
      "cell_type": "code",
      "metadata": {
        "id": "BOQ5mP7FDnfW",
        "colab_type": "code",
        "colab": {
          "base_uri": "https://localhost:8080/",
          "height": 218
        },
        "outputId": "a27edad0-f79e-4c4e-fb2a-127015e0646b"
      },
      "source": [
        "from sklearn import metrics\n",
        "print('\\n**Classification Report:\\n',metrics.classification_report(y_test,predictions_svm))"
      ],
      "execution_count": null,
      "outputs": [
        {
          "output_type": "stream",
          "text": [
            "\n",
            "**Classification Report:\n",
            "               precision    recall  f1-score   support\n",
            "\n",
            "           1       1.00      0.01      0.01       385\n",
            "           2       0.82      0.96      0.88      5640\n",
            "           3       0.85      0.65      0.73      2352\n",
            "\n",
            "    accuracy                           0.82      8377\n",
            "   macro avg       0.89      0.54      0.54      8377\n",
            "weighted avg       0.84      0.82      0.80      8377\n",
            "\n"
          ],
          "name": "stdout"
        }
      ]
    },
    {
      "cell_type": "markdown",
      "metadata": {
        "id": "m9SLhjPwDxNY",
        "colab_type": "text"
      },
      "source": [
        "**Deploying the model**"
      ]
    },
    {
      "cell_type": "code",
      "metadata": {
        "id": "vOpMhtUrosuq",
        "colab_type": "code",
        "colab": {
          "base_uri": "https://localhost:8080/",
          "height": 67
        },
        "outputId": "857fb651-851b-4c03-9585-fc0a20fa534c"
      },
      "source": [
        "new_pred4= list(result4.predict([[1,1,454,5,24,2222,800.0,1111,4455,6]]))\n",
        "print('\\n**Predicted rating:\\n',new_pred4)"
      ],
      "execution_count": null,
      "outputs": [
        {
          "output_type": "stream",
          "text": [
            "\n",
            "**Predicted rating:\n",
            " [3]\n"
          ],
          "name": "stdout"
        }
      ]
    },
    {
      "cell_type": "markdown",
      "metadata": {
        "id": "wWgaFStlEIgA",
        "colab_type": "text"
      },
      "source": [
        "\n",
        "\n",
        "---\n",
        "\n"
      ]
    },
    {
      "cell_type": "markdown",
      "metadata": {
        "id": "Qdgt2HmjEDLC",
        "colab_type": "text"
      },
      "source": [
        "# **Conclusion**"
      ]
    },
    {
      "cell_type": "markdown",
      "metadata": {
        "id": "b9Oui22BEV0w",
        "colab_type": "text"
      },
      "source": [
        "**After training and testing all the models it is clear to conclude that 'Random Forest Classifier' algorithm gives the maximum accuracy**"
      ]
    },
    {
      "cell_type": "code",
      "metadata": {
        "id": "sVMaLa5ZxscW",
        "colab_type": "code",
        "colab": {}
      },
      "source": [
        ""
      ],
      "execution_count": null,
      "outputs": []
    }
  ]
}